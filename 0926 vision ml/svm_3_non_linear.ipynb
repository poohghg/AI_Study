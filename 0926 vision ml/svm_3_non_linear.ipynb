{
 "cells": [
  {
   "cell_type": "code",
   "execution_count": 1,
   "metadata": {},
   "outputs": [
    {
     "name": "stdout",
     "output_type": "stream",
     "text": [
      "Starting training process\n",
      "Finished training process\n"
     ]
    }
   ],
   "source": [
    "import cv2 as cv\n",
    "import numpy as np\n",
    "import random as rng\n",
    "\n",
    "NTRAINING_SAMPLES = 100 # Number of training samples per class\n",
    "FRAC_LINEAR_SEP = 0.9   # Fraction of samples which compose the linear separable part\n",
    "\n",
    "# Data for visual representation\n",
    "WIDTH = 512\n",
    "HEIGHT = 512\n",
    "I = np.zeros((HEIGHT, WIDTH, 3), dtype=np.uint8)\n",
    "\n",
    "# --------------------- 1. Set up training data randomly ---------------------------------------\n",
    "trainData = np.empty((2*NTRAINING_SAMPLES, 2), dtype=np.float32)\n",
    "labels = np.empty((2*NTRAINING_SAMPLES, 1), dtype=np.int32)\n",
    "\n",
    "rng.seed(100) # Random value generation class\n",
    "\n",
    "# Set up the linearly separable part of the training data\n",
    "nLinearSamples = int(FRAC_LINEAR_SEP * NTRAINING_SAMPLES)\n",
    "\n",
    "## [setup1]\n",
    "# Generate random points for the class 1\n",
    "trainClass = trainData[0:nLinearSamples,:]\n",
    "# The x coordinate of the points is in [0, 0.4)\n",
    "c = trainClass[:,0:1]\n",
    "c[:] = np.random.uniform(0.0, 0.4 * WIDTH, c.shape)\n",
    "# The y coordinate of the points is in [0, 1)\n",
    "c = trainClass[:,1:2]\n",
    "c[:] = np.random.uniform(0.0, HEIGHT, c.shape)\n",
    "\n",
    "# Generate random points for the class 2\n",
    "trainClass = trainData[2*NTRAINING_SAMPLES-nLinearSamples:2*NTRAINING_SAMPLES,:]\n",
    "# The x coordinate of the points is in [0.6, 1]\n",
    "c = trainClass[:,0:1]\n",
    "c[:] = np.random.uniform(0.6*WIDTH, WIDTH, c.shape)\n",
    "# The y coordinate of the points is in [0, 1)\n",
    "c = trainClass[:,1:2]\n",
    "c[:] = np.random.uniform(0.0, HEIGHT, c.shape)\n",
    "## [setup1]\n",
    "\n",
    "#------------------ Set up the non-linearly separable part of the training data ---------------\n",
    "## [setup2]\n",
    "# Generate random points for the classes 1 and 2\n",
    "trainClass = trainData[nLinearSamples:2*NTRAINING_SAMPLES-nLinearSamples,:]\n",
    "# The x coordinate of the points is in [0.4, 0.6)\n",
    "c = trainClass[:,0:1]\n",
    "c[:] = np.random.uniform(0.4*WIDTH, 0.6*WIDTH, c.shape)\n",
    "# The y coordinate of the points is in [0, 1)\n",
    "c = trainClass[:,1:2]\n",
    "c[:] = np.random.uniform(0.0, HEIGHT, c.shape)\n",
    "## [setup2]\n",
    "\n",
    "#------------------------- Set up the labels for the classes ---------------------------------\n",
    "labels[0:NTRAINING_SAMPLES,:] = 1                   # Class 1\n",
    "labels[NTRAINING_SAMPLES:2*NTRAINING_SAMPLES,:] = 2 # Class 2\n",
    "\n",
    "#------------------------ 2. Set up the support vector machines parameters --------------------\n",
    "print('Starting training process')\n",
    "## [init]\n",
    "svm = cv.ml.SVM_create()\n",
    "svm.setType(cv.ml.SVM_C_SVC)\n",
    "svm.setC(0.1)\n",
    "svm.setKernel(cv.ml.SVM_LINEAR)\n",
    "svm.setTermCriteria((cv.TERM_CRITERIA_MAX_ITER, int(1e7), 1e-6))\n",
    "## [init]\n",
    "\n",
    "#------------------------ 3. Train the svm ----------------------------------------------------\n",
    "## [train]\n",
    "svm.train(trainData, cv.ml.ROW_SAMPLE, labels)\n",
    "## [train]\n",
    "print('Finished training process')\n",
    "\n",
    "#------------------------ 4. Show the decision regions ----------------------------------------\n",
    "## [show]\n",
    "green = (0,100,0)\n",
    "blue = (100,0,0)\n",
    "for i in range(I.shape[0]):\n",
    "    for j in range(I.shape[1]):\n",
    "        sampleMat = np.matrix([[j,i]], dtype=np.float32)\n",
    "        response = svm.predict(sampleMat)[1]\n",
    "\n",
    "        if response == 1:\n",
    "            I[i,j] = green\n",
    "        elif response == 2:\n",
    "            I[i,j] = blue\n",
    "## [show]\n",
    "\n",
    "#----------------------- 5. Show the training data --------------------------------------------\n",
    "## [show_data]\n",
    "thick = -1\n",
    "# Class 1\n",
    "for i in range(NTRAINING_SAMPLES):\n",
    "    px = trainData[i,0]\n",
    "    py = trainData[i,1]\n",
    "    cv.circle(I, (px, py), 3, (0, 255, 0), thick)\n",
    "\n",
    "# Class 2\n",
    "for i in range(NTRAINING_SAMPLES, 2*NTRAINING_SAMPLES):\n",
    "    px = trainData[i,0]\n",
    "    py = trainData[i,1]\n",
    "    cv.circle(I, (px, py), 3, (255, 0, 0), thick)\n",
    "## [show_data]\n",
    "\n",
    "#------------------------- 6. Show support vectors --------------------------------------------\n",
    "## [show_vectors]\n",
    "thick = 2\n",
    "sv = svm.getUncompressedSupportVectors()\n",
    "\n",
    "for i in range(sv.shape[0]):\n",
    "    cv.circle(I, (sv[i,0], sv[i,1]), 6, (128, 128, 128), thick)\n",
    "## [show_vectors]"
   ]
  },
  {
   "cell_type": "code",
   "execution_count": null,
   "metadata": {},
   "outputs": [],
   "source": [
    "cv.imwrite('result.png', I)                      # save the Image\n",
    "cv.imshow('SVM for Non-Linear Training Data', I) # show it to the user\n",
    "cv.waitKey()"
   ]
  }
 ],
 "metadata": {
  "kernelspec": {
   "display_name": "Python 3",
   "language": "python",
   "name": "python3"
  },
  "language_info": {
   "codemirror_mode": {
    "name": "ipython",
    "version": 3
   },
   "file_extension": ".py",
   "mimetype": "text/x-python",
   "name": "python",
   "nbconvert_exporter": "python",
   "pygments_lexer": "ipython3",
   "version": "3.7.4"
  },
  "varInspector": {
   "cols": {
    "lenName": 16,
    "lenType": 16,
    "lenVar": 40
   },
   "kernels_config": {
    "python": {
     "delete_cmd_postfix": "",
     "delete_cmd_prefix": "del ",
     "library": "var_list.py",
     "varRefreshCmd": "print(var_dic_list())"
    },
    "r": {
     "delete_cmd_postfix": ") ",
     "delete_cmd_prefix": "rm(",
     "library": "var_list.r",
     "varRefreshCmd": "cat(var_dic_list()) "
    }
   },
   "types_to_exclude": [
    "module",
    "function",
    "builtin_function_or_method",
    "instance",
    "_Feature"
   ],
   "window_display": false
  }
 },
 "nbformat": 4,
 "nbformat_minor": 2
}
