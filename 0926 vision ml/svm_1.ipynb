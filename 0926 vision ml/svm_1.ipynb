{
 "cells": [
  {
   "cell_type": "code",
   "execution_count": 5,
   "metadata": {},
   "outputs": [
    {
     "data": {
      "text/plain": [
       "True"
      ]
     },
     "execution_count": 5,
     "metadata": {},
     "output_type": "execute_result"
    }
   ],
   "source": [
    "import cv2 as cv\n",
    "import numpy as np\n",
    "\n",
    "# Set up training data\n",
    "## [setup1]\n",
    "labels = np.array([1, -1, -1, -1])\n",
    "trainingData = np.matrix([[501, 10], [255, 10], [501, 255], [10, 501]], dtype=np.float32)\n",
    "## [setup1]\n",
    "\n",
    "# Train the SVM\n",
    "## [init]\n",
    "svm = cv.ml.SVM_create()\n",
    "# 하이퍼파라메터를 넣을때 set\n",
    "# param으로 넣을때 dict\n",
    "svm.setType(cv.ml.SVM_C_SVC)\n",
    "svm.setKernel(cv.ml.SVM_LINEAR)\n",
    "svm.setTermCriteria((cv.TERM_CRITERIA_MAX_ITER, 100, 1e-6))\n",
    "## [init]\n",
    "## [train]\n",
    "svm.train(trainingData, cv.ml.ROW_SAMPLE, labels)\n",
    "## [train]\n",
    "\n",
    "# Data for visual representation\n",
    "width = 512\n",
    "height = 512\n",
    "image = np.zeros((height, width, 3), dtype=np.uint8)\n",
    "\n",
    "# Show the decision regions given by the SVM\n",
    "## [show]\n",
    "green = (0,255,0)\n",
    "blue = (255,0,0)\n",
    "for i in range(image.shape[0]):\n",
    "    for j in range(image.shape[1]):\n",
    "        sampleMat = np.matrix([[j,i]], dtype=np.float32)\n",
    "        response = svm.predict(sampleMat)[1]\n",
    "\n",
    "        if response == 1:\n",
    "            image[i,j] = green\n",
    "        elif response == -1:\n",
    "            image[i,j] = blue\n",
    "## [show]\n",
    "\n",
    "# Show the training data\n",
    "## [show_data]\n",
    "thickness = -1\n",
    "cv.circle(image, (501,  10), 5, (  0,   0,   0), thickness)\n",
    "cv.circle(image, (255,  10), 5, (255, 255, 255), thickness)\n",
    "cv.circle(image, (501, 255), 5, (255, 255, 255), thickness)\n",
    "cv.circle(image, ( 10, 501), 5, (255, 255, 255), thickness)\n",
    "## [show_data]\n",
    "\n",
    "# Show support vectors\n",
    "## [show_vectors]\n",
    "thickness = 2\n",
    "sv = svm.getUncompressedSupportVectors()\n",
    "\n",
    "for i in range(sv.shape[0]):\n",
    "    cv.circle(image, (sv[i,0], sv[i,1]), 6, (128, 128, 128), thickness)\n",
    "## [show_vectors]\n",
    "\n",
    "cv.imwrite('result.png', image) # save the image"
   ]
  },
  {
   "cell_type": "code",
   "execution_count": 3,
   "metadata": {},
   "outputs": [
    {
     "data": {
      "text/plain": [
       "<matplotlib.image.AxesImage at 0x208cec56940>"
      ]
     },
     "execution_count": 3,
     "metadata": {},
     "output_type": "execute_result"
    },
    {
     "data": {
      "image/png": "[encoded data removed]",
      "text/plain": [
       "<Figure size 432x288 with 1 Axes>"
      ]
     },
     "metadata": {
      "needs_background": "light"
     },
     "output_type": "display_data"
    }
   ],
   "source": [
    "import matplotlib.pyplot as plt\n",
    "plt.imshow(image)"
   ]
  },
  {
   "cell_type": "code",
   "execution_count": null,
   "metadata": {},
   "outputs": [],
   "source": [
    "# 유멸한 svm 알고리즘"
   ]
  }
 ],
 "metadata": {
  "kernelspec": {
   "display_name": "Python 3",
   "language": "python",
   "name": "python3"
  },
  "language_info": {
   "codemirror_mode": {
    "name": "ipython",
    "version": 3
   },
   "file_extension": ".py",
   "mimetype": "text/x-python",
   "name": "python",
   "nbconvert_exporter": "python",
   "pygments_lexer": "ipython3",
   "version": "3.7.3"
  },
  "varInspector": {
   "cols": {
    "lenName": 16,
    "lenType": 16,
    "lenVar": 40
   },
   "kernels_config": {
    "python": {
     "delete_cmd_postfix": "",
     "delete_cmd_prefix": "del ",
     "library": "var_list.py",
     "varRefreshCmd": "print(var_dic_list())"
    },
    "r": {
     "delete_cmd_postfix": ") ",
     "delete_cmd_prefix": "rm(",
     "library": "var_list.r",
     "varRefreshCmd": "cat(var_dic_list()) "
    }
   },
   "types_to_exclude": [
    "module",
    "function",
    "builtin_function_or_method",
    "instance",
    "_Feature"
   ],
   "window_display": false
  }
 },
 "nbformat": 4,
 "nbformat_minor": 2
}
