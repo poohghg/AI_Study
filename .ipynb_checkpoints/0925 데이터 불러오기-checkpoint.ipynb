{
 "cells": [
  {
   "cell_type": "code",
   "execution_count": 4,
   "metadata": {},
   "outputs": [],
   "source": [
    "import os\n",
    "import os.path\n",
    "import imutils\n",
    "from imutils import paths,url_to_image"
   ]
  },
  {
   "cell_type": "code",
   "execution_count": 3,
   "metadata": {},
   "outputs": [
    {
     "name": "stdout",
     "output_type": "stream",
     "text": [
      "Requirement already satisfied: imutils in c:\\programdata\\anaconda3\\lib\\site-packages (0.5.3)\n"
     ]
    }
   ],
   "source": [
    "# !pip install imutils "
   ]
  },
  {
   "cell_type": "code",
   "execution_count": 147,
   "metadata": {},
   "outputs": [
    {
     "data": {
      "text/plain": [
       "['__builtins__',\n",
       " '__cached__',\n",
       " '__doc__',\n",
       " '__file__',\n",
       " '__loader__',\n",
       " '__name__',\n",
       " '__package__',\n",
       " '__path__',\n",
       " '__spec__',\n",
       " '__version__',\n",
       " 'adjust_brightness_contrast',\n",
       " 'auto_canny',\n",
       " 'build_montages',\n",
       " 'check_opencv_version',\n",
       " 'convenience',\n",
       " 'find_function',\n",
       " 'grab_contours',\n",
       " 'is_cv2',\n",
       " 'is_cv3',\n",
       " 'is_cv4',\n",
       " 'meta',\n",
       " 'opencv2matplotlib',\n",
       " 'resize',\n",
       " 'rotate',\n",
       " 'rotate_bound',\n",
       " 'skeletonize',\n",
       " 'translate',\n",
       " 'url_to_image']"
      ]
     },
     "execution_count": 147,
     "metadata": {},
     "output_type": "execute_result"
    }
   ],
   "source": [
    "dir(imutils)\n",
    "# ml사용을 위한 모듈로 사용하기 편하다."
   ]
  },
  {
   "cell_type": "code",
   "execution_count": 25,
   "metadata": {},
   "outputs": [],
   "source": [
    "import pathlib\n",
    "from PIL import Image"
   ]
  },
  {
   "cell_type": "code",
   "execution_count": 143,
   "metadata": {},
   "outputs": [],
   "source": [
    "#파이썬에서 데이터 불러오기\n",
    "#경로 이름 확장자"
   ]
  },
  {
   "cell_type": "code",
   "execution_count": 5,
   "metadata": {},
   "outputs": [],
   "source": [
    "root = os.path.abspath(\"C:/Users/user/gurrn opencv/assets/3scenes/forest\")"
   ]
  },
  {
   "cell_type": "code",
   "execution_count": 6,
   "metadata": {},
   "outputs": [],
   "source": [
    "root2 = os.path.abspath(\"C:/Users/user/gurrn opencv/assets/3scenes/coast\")"
   ]
  },
  {
   "cell_type": "code",
   "execution_count": 7,
   "metadata": {},
   "outputs": [],
   "source": [
    "root3 = os.path.abspath(\"C:/Users/user/gurrn opencv/assets/3scenes/highway\")"
   ]
  },
  {
   "cell_type": "code",
   "execution_count": 44,
   "metadata": {},
   "outputs": [
    {
     "data": {
      "text/plain": [
       "'C:\\\\Users\\\\user\\\\gurrn opencv\\\\assets\\\\3scenes\\\\forest\\\\sun'"
      ]
     },
     "execution_count": 44,
     "metadata": {},
     "output_type": "execute_result"
    }
   ],
   "source": [
    "os.path.join(root,\"sun\")"
   ]
  },
  {
   "cell_type": "code",
   "execution_count": 61,
   "metadata": {},
   "outputs": [
    {
     "data": {
      "text/plain": [
       "'forest'"
      ]
     },
     "execution_count": 61,
     "metadata": {},
     "output_type": "execute_result"
    }
   ],
   "source": [
    "root.split(os.path.sep)[-1]"
   ]
  },
  {
   "cell_type": "code",
   "execution_count": 133,
   "metadata": {},
   "outputs": [
    {
     "data": {
      "text/plain": [
       "'forest'"
      ]
     },
     "execution_count": 133,
     "metadata": {},
     "output_type": "execute_result"
    }
   ],
   "source": [
    "root.split(os.path.sep)[-1]"
   ]
  },
  {
   "cell_type": "code",
   "execution_count": 8,
   "metadata": {},
   "outputs": [
    {
     "ename": "FileNotFoundError",
     "evalue": "[WinError 3] 지정된 경로를 찾을 수 없습니다: 'gurrn opencv/assets/3scenes/forest'",
     "output_type": "error",
     "traceback": [
      "\u001b[1;31m---------------------------------------------------------------------------\u001b[0m",
      "\u001b[1;31mFileNotFoundError\u001b[0m                         Traceback (most recent call last)",
      "\u001b[1;32m<ipython-input-8-3bf8269846af>\u001b[0m in \u001b[0;36m<module>\u001b[1;34m\u001b[0m\n\u001b[0;32m      1\u001b[0m \u001b[0mtemp\u001b[0m \u001b[1;33m=\u001b[0m \u001b[1;33m[\u001b[0m\u001b[1;33m]\u001b[0m\u001b[1;33m\u001b[0m\u001b[1;33m\u001b[0m\u001b[0m\n\u001b[0;32m      2\u001b[0m \u001b[0mlabe\u001b[0m \u001b[1;33m=\u001b[0m \u001b[1;33m[\u001b[0m\u001b[1;33m]\u001b[0m\u001b[1;33m\u001b[0m\u001b[1;33m\u001b[0m\u001b[0m\n\u001b[1;32m----> 3\u001b[1;33m \u001b[1;32mfor\u001b[0m \u001b[0mi\u001b[0m \u001b[1;32min\u001b[0m \u001b[0mos\u001b[0m\u001b[1;33m.\u001b[0m\u001b[0mlistdir\u001b[0m\u001b[1;33m(\u001b[0m\u001b[1;34m\"gurrn opencv/assets/3scenes/forest\"\u001b[0m\u001b[1;33m)\u001b[0m\u001b[1;33m:\u001b[0m\u001b[1;33m\u001b[0m\u001b[1;33m\u001b[0m\u001b[0m\n\u001b[0m\u001b[0;32m      4\u001b[0m     \u001b[0mf\u001b[0m \u001b[1;33m=\u001b[0m \u001b[0mos\u001b[0m\u001b[1;33m.\u001b[0m\u001b[0mpath\u001b[0m\u001b[1;33m.\u001b[0m\u001b[0mjoin\u001b[0m\u001b[1;33m(\u001b[0m\u001b[0mroot\u001b[0m\u001b[1;33m,\u001b[0m\u001b[0mi\u001b[0m\u001b[1;33m)\u001b[0m\u001b[1;33m\u001b[0m\u001b[1;33m\u001b[0m\u001b[0m\n\u001b[0;32m      5\u001b[0m     \u001b[0mlabe\u001b[0m\u001b[1;33m.\u001b[0m\u001b[0mappend\u001b[0m\u001b[1;33m(\u001b[0m\u001b[0mf\u001b[0m\u001b[1;33m.\u001b[0m\u001b[0msplit\u001b[0m\u001b[1;33m(\u001b[0m\u001b[0mos\u001b[0m\u001b[1;33m.\u001b[0m\u001b[0mpath\u001b[0m\u001b[1;33m.\u001b[0m\u001b[0msep\u001b[0m\u001b[1;33m)\u001b[0m\u001b[1;33m[\u001b[0m\u001b[1;33m-\u001b[0m\u001b[1;36m2\u001b[0m\u001b[1;33m]\u001b[0m\u001b[1;33m)\u001b[0m\u001b[1;33m\u001b[0m\u001b[1;33m\u001b[0m\u001b[0m\n",
      "\u001b[1;31mFileNotFoundError\u001b[0m: [WinError 3] 지정된 경로를 찾을 수 없습니다: 'gurrn opencv/assets/3scenes/forest'"
     ]
    }
   ],
   "source": [
    "temp = []\n",
    "labe = []\n",
    "for i in os.listdir(\"gurrn opencv/assets/3scenes/forest\"):\n",
    "    f = os.path.join(root,i)\n",
    "    labe.append(f.split(os.path.sep)[-2])\n",
    "    temp.append(f)    "
   ]
  },
  {
   "cell_type": "code",
   "execution_count": null,
   "metadata": {},
   "outputs": [],
   "source": [
    "# 파이썬 ,싸이파이,싸이킷이미지,open cv,matplotlib 등에서 이미지를 불러올 수 있다."
   ]
  },
  {
   "cell_type": "code",
   "execution_count": 57,
   "metadata": {},
   "outputs": [
    {
     "data": {
      "text/plain": [
       "<zip at 0x1db1ab2afc8>"
      ]
     },
     "execution_count": 57,
     "metadata": {},
     "output_type": "execute_result"
    }
   ],
   "source": [
    "zip(temp,labe)"
   ]
  },
  {
   "cell_type": "code",
   "execution_count": 58,
   "metadata": {},
   "outputs": [],
   "source": [
    "# open cv로 파일불러오기\n",
    "import cv2"
   ]
  },
  {
   "cell_type": "code",
   "execution_count": 208,
   "metadata": {},
   "outputs": [],
   "source": [
    "temp = []\n",
    "labe = []\n",
    "for i in os.listdir(\"gurrn opencv/assets/3scenes/forest\"):\n",
    "    f = os.path.join(root,i)\n",
    "    labe.append(f.split(os.path.sep)[-2])\n",
    "    temp.append(cv2.imread(f))"
   ]
  },
  {
   "cell_type": "code",
   "execution_count": 209,
   "metadata": {},
   "outputs": [],
   "source": [
    "temp2 = []\n",
    "labe2 = []\n",
    "for i in os.listdir(\"gurrn opencv/assets/3scenes/coast\"):\n",
    "    f = os.path.join(root2,i)\n",
    "    labe2.append(f.split(os.path.sep)[-2])\n",
    "    temp2.append(cv2.imread(f))"
   ]
  },
  {
   "cell_type": "code",
   "execution_count": 210,
   "metadata": {},
   "outputs": [],
   "source": [
    "temp3 = []\n",
    "labe3 = []\n",
    "for i in os.listdir(\"gurrn opencv/assets/3scenes/highway\"):\n",
    "    f = os.path.join(root3,i)\n",
    "    labe3.append(f.split(os.path.sep)[-2])\n",
    "    temp3.append(cv2.imread(f))"
   ]
  },
  {
   "cell_type": "code",
   "execution_count": 82,
   "metadata": {},
   "outputs": [],
   "source": [
    "import matplotlib.pyplot as plt "
   ]
  },
  {
   "cell_type": "code",
   "execution_count": 130,
   "metadata": {},
   "outputs": [
    {
     "data": {
      "text/plain": [
       "<matplotlib.image.AxesImage at 0x1db25ded860>"
      ]
     },
     "execution_count": 130,
     "metadata": {},
     "output_type": "execute_result"
    },
    {
     "data": {
      "image/png": "[encoded data removed]",
      "text/plain": [
       "<Figure size 432x288 with 1 Axes>"
      ]
     },
     "metadata": {
      "needs_background": "light"
     },
     "output_type": "display_data"
    }
   ],
   "source": [
    "plt.imshow(temp3[0])"
   ]
  },
  {
   "cell_type": "code",
   "execution_count": 85,
   "metadata": {},
   "outputs": [],
   "source": [
    "import numpy as np"
   ]
  },
  {
   "cell_type": "code",
   "execution_count": 114,
   "metadata": {},
   "outputs": [],
   "source": [
    "x = np.array(temp)"
   ]
  },
  {
   "cell_type": "code",
   "execution_count": 115,
   "metadata": {},
   "outputs": [],
   "source": [
    "y = np.array(labe)"
   ]
  },
  {
   "cell_type": "code",
   "execution_count": 116,
   "metadata": {},
   "outputs": [
    {
     "data": {
      "text/plain": [
       "(328, 256, 256, 3)"
      ]
     },
     "execution_count": 116,
     "metadata": {},
     "output_type": "execute_result"
    }
   ],
   "source": [
    "x.shape"
   ]
  },
  {
   "cell_type": "code",
   "execution_count": 188,
   "metadata": {},
   "outputs": [
    {
     "data": {
      "text/plain": [
       "(328,)"
      ]
     },
     "execution_count": 188,
     "metadata": {},
     "output_type": "execute_result"
    }
   ],
   "source": [
    "y.shape"
   ]
  },
  {
   "cell_type": "code",
   "execution_count": 191,
   "metadata": {},
   "outputs": [],
   "source": [
    "labe.extend(labe3)"
   ]
  },
  {
   "cell_type": "code",
   "execution_count": 194,
   "metadata": {},
   "outputs": [
    {
     "data": {
      "text/plain": [
       "1208"
      ]
     },
     "execution_count": 194,
     "metadata": {},
     "output_type": "execute_result"
    }
   ],
   "source": [
    "len(labe)"
   ]
  },
  {
   "cell_type": "code",
   "execution_count": 119,
   "metadata": {},
   "outputs": [],
   "source": [
    "x2 = np.array(temp2)"
   ]
  },
  {
   "cell_type": "code",
   "execution_count": 120,
   "metadata": {},
   "outputs": [],
   "source": [
    "x3 = np.array(temp3)"
   ]
  },
  {
   "cell_type": "code",
   "execution_count": 121,
   "metadata": {},
   "outputs": [],
   "source": [
    "y2 = np.array(labe2)"
   ]
  },
  {
   "cell_type": "code",
   "execution_count": 122,
   "metadata": {},
   "outputs": [],
   "source": [
    "y3 = np.array(labe3)"
   ]
  },
  {
   "cell_type": "code",
   "execution_count": 137,
   "metadata": {
    "collapsed": true
   },
   "outputs": [
    {
     "data": {
      "text/plain": [
       "array(['highway', 'highway', 'highway', 'highway', 'highway', 'highway',\n",
       "       'highway', 'highway', 'highway', 'highway', 'highway', 'highway',\n",
       "       'highway', 'highway', 'highway', 'highway', 'highway', 'highway',\n",
       "       'highway', 'highway', 'highway', 'highway', 'highway', 'highway',\n",
       "       'highway', 'highway', 'highway', 'highway', 'highway', 'highway',\n",
       "       'highway', 'highway', 'highway', 'highway', 'highway', 'highway',\n",
       "       'highway', 'highway', 'highway', 'highway', 'highway', 'highway',\n",
       "       'highway', 'highway', 'highway', 'highway', 'highway', 'highway',\n",
       "       'highway', 'highway', 'highway', 'highway', 'highway', 'highway',\n",
       "       'highway', 'highway', 'highway', 'highway', 'highway', 'highway',\n",
       "       'highway', 'highway', 'highway', 'highway', 'highway', 'highway',\n",
       "       'highway', 'highway', 'highway', 'highway', 'highway', 'highway',\n",
       "       'highway', 'highway', 'highway', 'highway', 'highway', 'highway',\n",
       "       'highway', 'highway', 'highway', 'highway', 'highway', 'highway',\n",
       "       'highway', 'highway', 'highway', 'highway', 'highway', 'highway',\n",
       "       'highway', 'highway', 'highway', 'highway', 'highway', 'highway',\n",
       "       'highway', 'highway', 'highway', 'highway', 'highway', 'highway',\n",
       "       'highway', 'highway', 'highway', 'highway', 'highway', 'highway',\n",
       "       'highway', 'highway', 'highway', 'highway', 'highway', 'highway',\n",
       "       'highway', 'highway', 'highway', 'highway', 'highway', 'highway',\n",
       "       'highway', 'highway', 'highway', 'highway', 'highway', 'highway',\n",
       "       'highway', 'highway', 'highway', 'highway', 'highway', 'highway',\n",
       "       'highway', 'highway', 'highway', 'highway', 'highway', 'highway',\n",
       "       'highway', 'highway', 'highway', 'highway', 'highway', 'highway',\n",
       "       'highway', 'highway', 'highway', 'highway', 'highway', 'highway',\n",
       "       'highway', 'highway', 'highway', 'highway', 'highway', 'highway',\n",
       "       'highway', 'highway', 'highway', 'highway', 'highway', 'highway',\n",
       "       'highway', 'highway', 'highway', 'highway', 'highway', 'highway',\n",
       "       'highway', 'highway', 'highway', 'highway', 'highway', 'highway',\n",
       "       'highway', 'highway', 'highway', 'highway', 'highway', 'highway',\n",
       "       'highway', 'highway', 'highway', 'highway', 'highway', 'highway',\n",
       "       'highway', 'highway', 'highway', 'highway', 'highway', 'highway',\n",
       "       'highway', 'highway', 'highway', 'highway', 'highway', 'highway',\n",
       "       'highway', 'highway', 'highway', 'highway', 'highway', 'highway',\n",
       "       'highway', 'highway', 'highway', 'highway', 'highway', 'highway',\n",
       "       'highway', 'highway', 'highway', 'highway', 'highway', 'highway',\n",
       "       'highway', 'highway', 'highway', 'highway', 'highway', 'highway',\n",
       "       'highway', 'highway', 'highway', 'highway', 'highway', 'highway',\n",
       "       'highway', 'highway', 'highway', 'highway', 'highway', 'highway',\n",
       "       'highway', 'highway', 'highway', 'highway', 'highway', 'highway',\n",
       "       'highway', 'highway', 'highway', 'highway', 'highway', 'highway',\n",
       "       'highway', 'highway', 'highway', 'highway', 'highway', 'highway',\n",
       "       'highway', 'highway', 'highway', 'highway', 'highway', 'highway',\n",
       "       'highway', 'highway'], dtype='<U7')"
      ]
     },
     "execution_count": 137,
     "metadata": {},
     "output_type": "execute_result"
    }
   ],
   "source": [
    "y3"
   ]
  },
  {
   "cell_type": "code",
   "execution_count": 135,
   "metadata": {
    "collapsed": true
   },
   "outputs": [
    {
     "data": {
      "text/plain": [
       "array([[[[164, 109,  36],\n",
       "         [164, 109,  36],\n",
       "         [166, 107,  37],\n",
       "         ...,\n",
       "         [252, 235, 226],\n",
       "         [213, 190, 182],\n",
       "         [241, 216, 206]],\n",
       "\n",
       "        [[166, 111,  38],\n",
       "         [166, 111,  38],\n",
       "         [168, 109,  39],\n",
       "         ...,\n",
       "         [244, 226, 219],\n",
       "         [200, 179, 171],\n",
       "         [218, 196, 185]],\n",
       "\n",
       "        [[170, 112,  40],\n",
       "         [170, 112,  40],\n",
       "         [169, 111,  39],\n",
       "         ...,\n",
       "         [240, 224, 217],\n",
       "         [195, 176, 169],\n",
       "         [202, 181, 173]],\n",
       "\n",
       "        ...,\n",
       "\n",
       "        [[172, 171, 180],\n",
       "         [167, 166, 175],\n",
       "         [161, 160, 169],\n",
       "         ...,\n",
       "         [137, 133, 139],\n",
       "         [144, 140, 146],\n",
       "         [148, 144, 150]],\n",
       "\n",
       "        [[173, 172, 181],\n",
       "         [162, 161, 170],\n",
       "         [152, 151, 160],\n",
       "         ...,\n",
       "         [141, 137, 143],\n",
       "         [143, 139, 145],\n",
       "         [146, 142, 148]],\n",
       "\n",
       "        [[167, 166, 175],\n",
       "         [157, 156, 165],\n",
       "         [148, 147, 156],\n",
       "         ...,\n",
       "         [144, 140, 146],\n",
       "         [138, 134, 140],\n",
       "         [136, 132, 138]]],\n",
       "\n",
       "\n",
       "       [[[ 96,  10,   4],\n",
       "         [ 96,  10,   4],\n",
       "         [ 96,  10,   4],\n",
       "         ...,\n",
       "         [133,  30,   5],\n",
       "         [133,  30,   5],\n",
       "         [133,  30,   5]],\n",
       "\n",
       "        [[ 96,  10,   4],\n",
       "         [ 96,  10,   4],\n",
       "         [ 96,  10,   4],\n",
       "         ...,\n",
       "         [133,  30,   5],\n",
       "         [133,  30,   5],\n",
       "         [133,  30,   5]],\n",
       "\n",
       "        [[ 96,  10,   4],\n",
       "         [ 96,  10,   4],\n",
       "         [ 96,  10,   4],\n",
       "         ...,\n",
       "         [133,  30,   5],\n",
       "         [133,  30,   5],\n",
       "         [133,  30,   5]],\n",
       "\n",
       "        ...,\n",
       "\n",
       "        [[180, 164, 157],\n",
       "         [180, 164, 157],\n",
       "         [179, 166, 158],\n",
       "         ...,\n",
       "         [140, 128, 124],\n",
       "         [148, 136, 132],\n",
       "         [134, 122, 118]],\n",
       "\n",
       "        [[170, 157, 149],\n",
       "         [181, 168, 160],\n",
       "         [179, 163, 156],\n",
       "         ...,\n",
       "         [127, 115, 111],\n",
       "         [144, 132, 128],\n",
       "         [157, 145, 141]],\n",
       "\n",
       "        [[160, 147, 139],\n",
       "         [177, 164, 156],\n",
       "         [167, 151, 144],\n",
       "         ...,\n",
       "         [173, 161, 157],\n",
       "         [150, 138, 134],\n",
       "         [134, 122, 118]]],\n",
       "\n",
       "\n",
       "       [[[227, 187, 188],\n",
       "         [226, 186, 187],\n",
       "         [228, 186, 187],\n",
       "         ...,\n",
       "         [238, 189, 175],\n",
       "         [239, 190, 176],\n",
       "         [239, 190, 176]],\n",
       "\n",
       "        [[226, 186, 187],\n",
       "         [225, 185, 186],\n",
       "         [227, 185, 186],\n",
       "         ...,\n",
       "         [238, 189, 175],\n",
       "         [239, 190, 176],\n",
       "         [239, 190, 176]],\n",
       "\n",
       "        [[228, 185, 188],\n",
       "         [228, 185, 188],\n",
       "         [228, 185, 188],\n",
       "         ...,\n",
       "         [238, 189, 175],\n",
       "         [239, 190, 176],\n",
       "         [239, 190, 176]],\n",
       "\n",
       "        ...,\n",
       "\n",
       "        [[164, 151, 159],\n",
       "         [161, 148, 156],\n",
       "         [158, 145, 153],\n",
       "         ...,\n",
       "         [157, 150, 155],\n",
       "         [155, 148, 153],\n",
       "         [153, 146, 151]],\n",
       "\n",
       "        [[169, 154, 162],\n",
       "         [165, 150, 158],\n",
       "         [160, 145, 153],\n",
       "         ...,\n",
       "         [156, 149, 154],\n",
       "         [157, 150, 155],\n",
       "         [157, 150, 155]],\n",
       "\n",
       "        [[163, 148, 156],\n",
       "         [159, 144, 152],\n",
       "         [158, 143, 151],\n",
       "         ...,\n",
       "         [158, 151, 156],\n",
       "         [160, 153, 158],\n",
       "         [162, 155, 160]]],\n",
       "\n",
       "\n",
       "       ...,\n",
       "\n",
       "\n",
       "       [[[237, 217, 199],\n",
       "         [236, 216, 198],\n",
       "         [240, 220, 202],\n",
       "         ...,\n",
       "         [246, 226, 208],\n",
       "         [246, 226, 209],\n",
       "         [246, 226, 209]],\n",
       "\n",
       "        [[236, 212, 192],\n",
       "         [232, 208, 188],\n",
       "         [244, 220, 200],\n",
       "         ...,\n",
       "         [248, 227, 206],\n",
       "         [248, 226, 208],\n",
       "         [248, 226, 208]],\n",
       "\n",
       "        [[245, 218, 192],\n",
       "         [239, 212, 186],\n",
       "         [239, 212, 186],\n",
       "         ...,\n",
       "         [253, 227, 203],\n",
       "         [253, 227, 203],\n",
       "         [253, 227, 203]],\n",
       "\n",
       "        ...,\n",
       "\n",
       "        [[ 49,  51,  59],\n",
       "         [ 47,  49,  57],\n",
       "         [ 53,  55,  63],\n",
       "         ...,\n",
       "         [104, 117, 149],\n",
       "         [  0,   0,  30],\n",
       "         [ 14,  18,  47]],\n",
       "\n",
       "        [[ 53,  56,  61],\n",
       "         [ 59,  62,  67],\n",
       "         [ 51,  54,  59],\n",
       "         ...,\n",
       "         [123, 138, 171],\n",
       "         [ 27,  37,  67],\n",
       "         [  0,   0,  27]],\n",
       "\n",
       "        [[ 48,  51,  56],\n",
       "         [ 46,  49,  54],\n",
       "         [ 49,  52,  57],\n",
       "         ...,\n",
       "         [ 66,  83, 116],\n",
       "         [ 50,  60,  90],\n",
       "         [  3,   9,  38]]],\n",
       "\n",
       "\n",
       "       [[[213, 206, 163],\n",
       "         [214, 207, 164],\n",
       "         [214, 207, 164],\n",
       "         ...,\n",
       "         [215, 208, 165],\n",
       "         [218, 209, 166],\n",
       "         [219, 210, 167]],\n",
       "\n",
       "        [[211, 204, 161],\n",
       "         [212, 205, 162],\n",
       "         [212, 205, 162],\n",
       "         ...,\n",
       "         [215, 208, 165],\n",
       "         [217, 208, 165],\n",
       "         [218, 209, 166]],\n",
       "\n",
       "        [[208, 200, 160],\n",
       "         [208, 200, 160],\n",
       "         [209, 201, 161],\n",
       "         ...,\n",
       "         [217, 208, 165],\n",
       "         [217, 208, 165],\n",
       "         [218, 209, 166]],\n",
       "\n",
       "        ...,\n",
       "\n",
       "        [[ 16,  13,  15],\n",
       "         [ 16,  13,  15],\n",
       "         [ 17,  14,  16],\n",
       "         ...,\n",
       "         [  9,   8,  12],\n",
       "         [ 11,  10,  14],\n",
       "         [  1,   0,   4]],\n",
       "\n",
       "        [[ 16,  13,  15],\n",
       "         [ 15,  12,  14],\n",
       "         [ 18,  13,  15],\n",
       "         ...,\n",
       "         [ 10,   7,   9],\n",
       "         [ 32,  29,  31],\n",
       "         [ 17,  14,  16]],\n",
       "\n",
       "        [[ 17,  14,  16],\n",
       "         [ 16,  13,  15],\n",
       "         [ 18,  13,  15],\n",
       "         ...,\n",
       "         [  4,   0,   1],\n",
       "         [ 19,  14,  16],\n",
       "         [ 15,  10,  12]]],\n",
       "\n",
       "\n",
       "       [[[255, 245, 211],\n",
       "         [255, 246, 212],\n",
       "         [255, 247, 210],\n",
       "         ...,\n",
       "         [241, 231, 197],\n",
       "         [244, 232, 198],\n",
       "         [245, 233, 199]],\n",
       "\n",
       "        [[254, 244, 210],\n",
       "         [255, 245, 211],\n",
       "         [255, 247, 210],\n",
       "         ...,\n",
       "         [243, 233, 199],\n",
       "         [246, 234, 200],\n",
       "         [246, 234, 200]],\n",
       "\n",
       "        [[254, 244, 210],\n",
       "         [255, 245, 211],\n",
       "         [255, 247, 210],\n",
       "         ...,\n",
       "         [243, 232, 200],\n",
       "         [246, 233, 201],\n",
       "         [246, 233, 201]],\n",
       "\n",
       "        ...,\n",
       "\n",
       "        [[ 69,  86,  83],\n",
       "         [ 68,  85,  82],\n",
       "         [ 67,  81,  79],\n",
       "         ...,\n",
       "         [ 71,  94, 102],\n",
       "         [ 65,  91,  98],\n",
       "         [ 64,  90,  97]],\n",
       "\n",
       "        [[ 69,  84,  80],\n",
       "         [ 68,  83,  79],\n",
       "         [ 68,  83,  79],\n",
       "         ...,\n",
       "         [ 71,  98, 108],\n",
       "         [ 78, 107, 116],\n",
       "         [ 71, 102, 111]],\n",
       "\n",
       "        [[ 59,  74,  70],\n",
       "         [ 62,  77,  73],\n",
       "         [ 63,  78,  74],\n",
       "         ...,\n",
       "         [ 68,  99, 108],\n",
       "         [ 77, 107, 118],\n",
       "         [ 73, 105, 116]]]], dtype=uint8)"
      ]
     },
     "execution_count": 135,
     "metadata": {},
     "output_type": "execute_result"
    }
   ],
   "source": [
    "x3"
   ]
  },
  {
   "cell_type": "code",
   "execution_count": null,
   "metadata": {},
   "outputs": [],
   "source": [
    "#붙이기 r_, c_ , concatrate"
   ]
  },
  {
   "cell_type": "code",
   "execution_count": 184,
   "metadata": {},
   "outputs": [],
   "source": [
    "# 붙이기\n",
    "t = np.concatenate([x,x2,x3])"
   ]
  },
  {
   "cell_type": "code",
   "execution_count": 185,
   "metadata": {},
   "outputs": [],
   "source": [
    "t_label = np.concatenate([y,y2,y3])"
   ]
  },
  {
   "cell_type": "code",
   "execution_count": 172,
   "metadata": {},
   "outputs": [
    {
     "ename": "TypeError",
     "evalue": "append() got multiple values for argument 'axis'",
     "output_type": "error",
     "traceback": [
      "\u001b[1;31m---------------------------------------------------------------------------\u001b[0m",
      "\u001b[1;31mTypeError\u001b[0m                                 Traceback (most recent call last)",
      "\u001b[1;32m<ipython-input-172-060e12f2c73b>\u001b[0m in \u001b[0;36m<module>\u001b[1;34m\u001b[0m\n\u001b[0;32m      1\u001b[0m \u001b[1;31m# 붙이기\u001b[0m\u001b[1;33m\u001b[0m\u001b[1;33m\u001b[0m\u001b[1;33m\u001b[0m\u001b[0m\n\u001b[1;32m----> 2\u001b[1;33m \u001b[0mt1\u001b[0m \u001b[1;33m=\u001b[0m \u001b[0mnp\u001b[0m\u001b[1;33m.\u001b[0m\u001b[0mappend\u001b[0m\u001b[1;33m(\u001b[0m\u001b[0mx\u001b[0m\u001b[1;33m,\u001b[0m\u001b[0mx2\u001b[0m\u001b[1;33m,\u001b[0m\u001b[0mx3\u001b[0m\u001b[1;33m,\u001b[0m\u001b[0maxis\u001b[0m\u001b[1;33m=\u001b[0m\u001b[1;36m0\u001b[0m\u001b[1;33m)\u001b[0m\u001b[1;33m.\u001b[0m\u001b[0mshape\u001b[0m\u001b[1;33m\u001b[0m\u001b[1;33m\u001b[0m\u001b[0m\n\u001b[0m",
      "\u001b[1;31mTypeError\u001b[0m: append() got multiple values for argument 'axis'"
     ]
    }
   ],
   "source": [
    "# 붙이기\n",
    "t1 = np.append(x,x2,x3,axis=0).shape"
   ]
  },
  {
   "cell_type": "code",
   "execution_count": 173,
   "metadata": {},
   "outputs": [
    {
     "data": {
      "text/plain": [
       "(688, 256, 256, 3)"
      ]
     },
     "execution_count": 173,
     "metadata": {},
     "output_type": "execute_result"
    }
   ],
   "source": [
    "t"
   ]
  },
  {
   "cell_type": "code",
   "execution_count": 140,
   "metadata": {},
   "outputs": [],
   "source": [
    "np.save(\"x\",t)"
   ]
  },
  {
   "cell_type": "code",
   "execution_count": null,
   "metadata": {},
   "outputs": [],
   "source": [
    "cv2.imread"
   ]
  },
  {
   "cell_type": "code",
   "execution_count": 142,
   "metadata": {
    "collapsed": true
   },
   "outputs": [
    {
     "data": {
      "text/plain": [
       "['IMREAD_ANYCOLOR',\n",
       " 'IMREAD_ANYDEPTH',\n",
       " 'IMREAD_COLOR',\n",
       " 'IMREAD_GRAYSCALE',\n",
       " 'IMREAD_IGNORE_ORIENTATION',\n",
       " 'IMREAD_LOAD_GDAL',\n",
       " 'IMREAD_REDUCED_COLOR_2',\n",
       " 'IMREAD_REDUCED_COLOR_4',\n",
       " 'IMREAD_REDUCED_COLOR_8',\n",
       " 'IMREAD_REDUCED_GRAYSCALE_2',\n",
       " 'IMREAD_REDUCED_GRAYSCALE_4',\n",
       " 'IMREAD_REDUCED_GRAYSCALE_8',\n",
       " 'IMREAD_UNCHANGED']"
      ]
     },
     "execution_count": 142,
     "metadata": {},
     "output_type": "execute_result"
    }
   ],
   "source": [
    "[i for i in dir(cv2) if i.startswith(\"IMREAD\")]"
   ]
  },
  {
   "cell_type": "code",
   "execution_count": null,
   "metadata": {},
   "outputs": [],
   "source": [
    "assert None in"
   ]
  },
  {
   "cell_type": "code",
   "execution_count": 153,
   "metadata": {},
   "outputs": [],
   "source": [
    "#imutils.opencv2matplotlib() 채널 변경을 안해줘도 된다.\n",
    "# bgr -> rgb "
   ]
  },
  {
   "cell_type": "code",
   "execution_count": 154,
   "metadata": {
    "collapsed": true
   },
   "outputs": [
    {
     "data": {
      "text/plain": [
       "['__builtins__',\n",
       " '__cached__',\n",
       " '__doc__',\n",
       " '__file__',\n",
       " '__loader__',\n",
       " '__name__',\n",
       " '__package__',\n",
       " '__path__',\n",
       " '__spec__',\n",
       " '__version__',\n",
       " 'adjust_brightness_contrast',\n",
       " 'auto_canny',\n",
       " 'build_montages',\n",
       " 'check_opencv_version',\n",
       " 'convenience',\n",
       " 'find_function',\n",
       " 'grab_contours',\n",
       " 'is_cv2',\n",
       " 'is_cv3',\n",
       " 'is_cv4',\n",
       " 'meta',\n",
       " 'opencv2matplotlib',\n",
       " 'resize',\n",
       " 'rotate',\n",
       " 'rotate_bound',\n",
       " 'skeletonize',\n",
       " 'translate',\n",
       " 'url_to_image']"
      ]
     },
     "execution_count": 154,
     "metadata": {},
     "output_type": "execute_result"
    }
   ],
   "source": [
    "dir(imutils)"
   ]
  },
  {
   "cell_type": "code",
   "execution_count": 155,
   "metadata": {
    "collapsed": true
   },
   "outputs": [
    {
     "ename": "HTTPError",
     "evalue": "HTTP Error 403: Forbidden",
     "output_type": "error",
     "traceback": [
      "\u001b[1;31m---------------------------------------------------------------------------\u001b[0m",
      "\u001b[1;31mHTTPError\u001b[0m                                 Traceback (most recent call last)",
      "\u001b[1;32m<ipython-input-155-5b66776353e5>\u001b[0m in \u001b[0;36m<module>\u001b[1;34m\u001b[0m\n\u001b[1;32m----> 1\u001b[1;33m \u001b[0mimutils\u001b[0m\u001b[1;33m.\u001b[0m\u001b[0murl_to_image\u001b[0m\u001b[1;33m(\u001b[0m\u001b[1;34m\"https://www.google.com/search?q=%EC%9D%B4%EB%AF%B8%EC%A7%80&source=lnms&tbm=isch&sa=X&ved=0ahUKEwiE5Z287OvkAhUH_GEKHQfkAG4Q_AUIEigB&biw=991&bih=996#imgrc=3bPYTaav1zN1YM:\"\u001b[0m\u001b[1;33m)\u001b[0m\u001b[1;33m\u001b[0m\u001b[1;33m\u001b[0m\u001b[0m\n\u001b[0m",
      "\u001b[1;32m~\\AppData\\Local\\Continuum\\anaconda3\\lib\\site-packages\\imutils\\convenience.py\u001b[0m in \u001b[0;36murl_to_image\u001b[1;34m(url, readFlag)\u001b[0m\n\u001b[0;32m    133\u001b[0m     \u001b[1;31m# download the image, convert it to a NumPy array, and then read\u001b[0m\u001b[1;33m\u001b[0m\u001b[1;33m\u001b[0m\u001b[1;33m\u001b[0m\u001b[0m\n\u001b[0;32m    134\u001b[0m     \u001b[1;31m# it into OpenCV format\u001b[0m\u001b[1;33m\u001b[0m\u001b[1;33m\u001b[0m\u001b[1;33m\u001b[0m\u001b[0m\n\u001b[1;32m--> 135\u001b[1;33m     \u001b[0mresp\u001b[0m \u001b[1;33m=\u001b[0m \u001b[0murlopen\u001b[0m\u001b[1;33m(\u001b[0m\u001b[0murl\u001b[0m\u001b[1;33m)\u001b[0m\u001b[1;33m\u001b[0m\u001b[1;33m\u001b[0m\u001b[0m\n\u001b[0m\u001b[0;32m    136\u001b[0m     \u001b[0mimage\u001b[0m \u001b[1;33m=\u001b[0m \u001b[0mnp\u001b[0m\u001b[1;33m.\u001b[0m\u001b[0masarray\u001b[0m\u001b[1;33m(\u001b[0m\u001b[0mbytearray\u001b[0m\u001b[1;33m(\u001b[0m\u001b[0mresp\u001b[0m\u001b[1;33m.\u001b[0m\u001b[0mread\u001b[0m\u001b[1;33m(\u001b[0m\u001b[1;33m)\u001b[0m\u001b[1;33m)\u001b[0m\u001b[1;33m,\u001b[0m \u001b[0mdtype\u001b[0m\u001b[1;33m=\u001b[0m\u001b[1;34m\"uint8\"\u001b[0m\u001b[1;33m)\u001b[0m\u001b[1;33m\u001b[0m\u001b[1;33m\u001b[0m\u001b[0m\n\u001b[0;32m    137\u001b[0m     \u001b[0mimage\u001b[0m \u001b[1;33m=\u001b[0m \u001b[0mcv2\u001b[0m\u001b[1;33m.\u001b[0m\u001b[0mimdecode\u001b[0m\u001b[1;33m(\u001b[0m\u001b[0mimage\u001b[0m\u001b[1;33m,\u001b[0m \u001b[0mreadFlag\u001b[0m\u001b[1;33m)\u001b[0m\u001b[1;33m\u001b[0m\u001b[1;33m\u001b[0m\u001b[0m\n",
      "\u001b[1;32m~\\AppData\\Local\\Continuum\\anaconda3\\lib\\urllib\\request.py\u001b[0m in \u001b[0;36murlopen\u001b[1;34m(url, data, timeout, cafile, capath, cadefault, context)\u001b[0m\n\u001b[0;32m    220\u001b[0m     \u001b[1;32melse\u001b[0m\u001b[1;33m:\u001b[0m\u001b[1;33m\u001b[0m\u001b[1;33m\u001b[0m\u001b[0m\n\u001b[0;32m    221\u001b[0m         \u001b[0mopener\u001b[0m \u001b[1;33m=\u001b[0m \u001b[0m_opener\u001b[0m\u001b[1;33m\u001b[0m\u001b[1;33m\u001b[0m\u001b[0m\n\u001b[1;32m--> 222\u001b[1;33m     \u001b[1;32mreturn\u001b[0m \u001b[0mopener\u001b[0m\u001b[1;33m.\u001b[0m\u001b[0mopen\u001b[0m\u001b[1;33m(\u001b[0m\u001b[0murl\u001b[0m\u001b[1;33m,\u001b[0m \u001b[0mdata\u001b[0m\u001b[1;33m,\u001b[0m \u001b[0mtimeout\u001b[0m\u001b[1;33m)\u001b[0m\u001b[1;33m\u001b[0m\u001b[1;33m\u001b[0m\u001b[0m\n\u001b[0m\u001b[0;32m    223\u001b[0m \u001b[1;33m\u001b[0m\u001b[0m\n\u001b[0;32m    224\u001b[0m \u001b[1;32mdef\u001b[0m \u001b[0minstall_opener\u001b[0m\u001b[1;33m(\u001b[0m\u001b[0mopener\u001b[0m\u001b[1;33m)\u001b[0m\u001b[1;33m:\u001b[0m\u001b[1;33m\u001b[0m\u001b[1;33m\u001b[0m\u001b[0m\n",
      "\u001b[1;32m~\\AppData\\Local\\Continuum\\anaconda3\\lib\\urllib\\request.py\u001b[0m in \u001b[0;36mopen\u001b[1;34m(self, fullurl, data, timeout)\u001b[0m\n\u001b[0;32m    529\u001b[0m         \u001b[1;32mfor\u001b[0m \u001b[0mprocessor\u001b[0m \u001b[1;32min\u001b[0m \u001b[0mself\u001b[0m\u001b[1;33m.\u001b[0m\u001b[0mprocess_response\u001b[0m\u001b[1;33m.\u001b[0m\u001b[0mget\u001b[0m\u001b[1;33m(\u001b[0m\u001b[0mprotocol\u001b[0m\u001b[1;33m,\u001b[0m \u001b[1;33m[\u001b[0m\u001b[1;33m]\u001b[0m\u001b[1;33m)\u001b[0m\u001b[1;33m:\u001b[0m\u001b[1;33m\u001b[0m\u001b[1;33m\u001b[0m\u001b[0m\n\u001b[0;32m    530\u001b[0m             \u001b[0mmeth\u001b[0m \u001b[1;33m=\u001b[0m \u001b[0mgetattr\u001b[0m\u001b[1;33m(\u001b[0m\u001b[0mprocessor\u001b[0m\u001b[1;33m,\u001b[0m \u001b[0mmeth_name\u001b[0m\u001b[1;33m)\u001b[0m\u001b[1;33m\u001b[0m\u001b[1;33m\u001b[0m\u001b[0m\n\u001b[1;32m--> 531\u001b[1;33m             \u001b[0mresponse\u001b[0m \u001b[1;33m=\u001b[0m \u001b[0mmeth\u001b[0m\u001b[1;33m(\u001b[0m\u001b[0mreq\u001b[0m\u001b[1;33m,\u001b[0m \u001b[0mresponse\u001b[0m\u001b[1;33m)\u001b[0m\u001b[1;33m\u001b[0m\u001b[1;33m\u001b[0m\u001b[0m\n\u001b[0m\u001b[0;32m    532\u001b[0m \u001b[1;33m\u001b[0m\u001b[0m\n\u001b[0;32m    533\u001b[0m         \u001b[1;32mreturn\u001b[0m \u001b[0mresponse\u001b[0m\u001b[1;33m\u001b[0m\u001b[1;33m\u001b[0m\u001b[0m\n",
      "\u001b[1;32m~\\AppData\\Local\\Continuum\\anaconda3\\lib\\urllib\\request.py\u001b[0m in \u001b[0;36mhttp_response\u001b[1;34m(self, request, response)\u001b[0m\n\u001b[0;32m    639\u001b[0m         \u001b[1;32mif\u001b[0m \u001b[1;32mnot\u001b[0m \u001b[1;33m(\u001b[0m\u001b[1;36m200\u001b[0m \u001b[1;33m<=\u001b[0m \u001b[0mcode\u001b[0m \u001b[1;33m<\u001b[0m \u001b[1;36m300\u001b[0m\u001b[1;33m)\u001b[0m\u001b[1;33m:\u001b[0m\u001b[1;33m\u001b[0m\u001b[1;33m\u001b[0m\u001b[0m\n\u001b[0;32m    640\u001b[0m             response = self.parent.error(\n\u001b[1;32m--> 641\u001b[1;33m                 'http', request, response, code, msg, hdrs)\n\u001b[0m\u001b[0;32m    642\u001b[0m \u001b[1;33m\u001b[0m\u001b[0m\n\u001b[0;32m    643\u001b[0m         \u001b[1;32mreturn\u001b[0m \u001b[0mresponse\u001b[0m\u001b[1;33m\u001b[0m\u001b[1;33m\u001b[0m\u001b[0m\n",
      "\u001b[1;32m~\\AppData\\Local\\Continuum\\anaconda3\\lib\\urllib\\request.py\u001b[0m in \u001b[0;36merror\u001b[1;34m(self, proto, *args)\u001b[0m\n\u001b[0;32m    567\u001b[0m         \u001b[1;32mif\u001b[0m \u001b[0mhttp_err\u001b[0m\u001b[1;33m:\u001b[0m\u001b[1;33m\u001b[0m\u001b[1;33m\u001b[0m\u001b[0m\n\u001b[0;32m    568\u001b[0m             \u001b[0margs\u001b[0m \u001b[1;33m=\u001b[0m \u001b[1;33m(\u001b[0m\u001b[0mdict\u001b[0m\u001b[1;33m,\u001b[0m \u001b[1;34m'default'\u001b[0m\u001b[1;33m,\u001b[0m \u001b[1;34m'http_error_default'\u001b[0m\u001b[1;33m)\u001b[0m \u001b[1;33m+\u001b[0m \u001b[0morig_args\u001b[0m\u001b[1;33m\u001b[0m\u001b[1;33m\u001b[0m\u001b[0m\n\u001b[1;32m--> 569\u001b[1;33m             \u001b[1;32mreturn\u001b[0m \u001b[0mself\u001b[0m\u001b[1;33m.\u001b[0m\u001b[0m_call_chain\u001b[0m\u001b[1;33m(\u001b[0m\u001b[1;33m*\u001b[0m\u001b[0margs\u001b[0m\u001b[1;33m)\u001b[0m\u001b[1;33m\u001b[0m\u001b[1;33m\u001b[0m\u001b[0m\n\u001b[0m\u001b[0;32m    570\u001b[0m \u001b[1;33m\u001b[0m\u001b[0m\n\u001b[0;32m    571\u001b[0m \u001b[1;31m# XXX probably also want an abstract factory that knows when it makes\u001b[0m\u001b[1;33m\u001b[0m\u001b[1;33m\u001b[0m\u001b[1;33m\u001b[0m\u001b[0m\n",
      "\u001b[1;32m~\\AppData\\Local\\Continuum\\anaconda3\\lib\\urllib\\request.py\u001b[0m in \u001b[0;36m_call_chain\u001b[1;34m(self, chain, kind, meth_name, *args)\u001b[0m\n\u001b[0;32m    501\u001b[0m         \u001b[1;32mfor\u001b[0m \u001b[0mhandler\u001b[0m \u001b[1;32min\u001b[0m \u001b[0mhandlers\u001b[0m\u001b[1;33m:\u001b[0m\u001b[1;33m\u001b[0m\u001b[1;33m\u001b[0m\u001b[0m\n\u001b[0;32m    502\u001b[0m             \u001b[0mfunc\u001b[0m \u001b[1;33m=\u001b[0m \u001b[0mgetattr\u001b[0m\u001b[1;33m(\u001b[0m\u001b[0mhandler\u001b[0m\u001b[1;33m,\u001b[0m \u001b[0mmeth_name\u001b[0m\u001b[1;33m)\u001b[0m\u001b[1;33m\u001b[0m\u001b[1;33m\u001b[0m\u001b[0m\n\u001b[1;32m--> 503\u001b[1;33m             \u001b[0mresult\u001b[0m \u001b[1;33m=\u001b[0m \u001b[0mfunc\u001b[0m\u001b[1;33m(\u001b[0m\u001b[1;33m*\u001b[0m\u001b[0margs\u001b[0m\u001b[1;33m)\u001b[0m\u001b[1;33m\u001b[0m\u001b[1;33m\u001b[0m\u001b[0m\n\u001b[0m\u001b[0;32m    504\u001b[0m             \u001b[1;32mif\u001b[0m \u001b[0mresult\u001b[0m \u001b[1;32mis\u001b[0m \u001b[1;32mnot\u001b[0m \u001b[1;32mNone\u001b[0m\u001b[1;33m:\u001b[0m\u001b[1;33m\u001b[0m\u001b[1;33m\u001b[0m\u001b[0m\n\u001b[0;32m    505\u001b[0m                 \u001b[1;32mreturn\u001b[0m \u001b[0mresult\u001b[0m\u001b[1;33m\u001b[0m\u001b[1;33m\u001b[0m\u001b[0m\n",
      "\u001b[1;32m~\\AppData\\Local\\Continuum\\anaconda3\\lib\\urllib\\request.py\u001b[0m in \u001b[0;36mhttp_error_default\u001b[1;34m(self, req, fp, code, msg, hdrs)\u001b[0m\n\u001b[0;32m    647\u001b[0m \u001b[1;32mclass\u001b[0m \u001b[0mHTTPDefaultErrorHandler\u001b[0m\u001b[1;33m(\u001b[0m\u001b[0mBaseHandler\u001b[0m\u001b[1;33m)\u001b[0m\u001b[1;33m:\u001b[0m\u001b[1;33m\u001b[0m\u001b[1;33m\u001b[0m\u001b[0m\n\u001b[0;32m    648\u001b[0m     \u001b[1;32mdef\u001b[0m \u001b[0mhttp_error_default\u001b[0m\u001b[1;33m(\u001b[0m\u001b[0mself\u001b[0m\u001b[1;33m,\u001b[0m \u001b[0mreq\u001b[0m\u001b[1;33m,\u001b[0m \u001b[0mfp\u001b[0m\u001b[1;33m,\u001b[0m \u001b[0mcode\u001b[0m\u001b[1;33m,\u001b[0m \u001b[0mmsg\u001b[0m\u001b[1;33m,\u001b[0m \u001b[0mhdrs\u001b[0m\u001b[1;33m)\u001b[0m\u001b[1;33m:\u001b[0m\u001b[1;33m\u001b[0m\u001b[1;33m\u001b[0m\u001b[0m\n\u001b[1;32m--> 649\u001b[1;33m         \u001b[1;32mraise\u001b[0m \u001b[0mHTTPError\u001b[0m\u001b[1;33m(\u001b[0m\u001b[0mreq\u001b[0m\u001b[1;33m.\u001b[0m\u001b[0mfull_url\u001b[0m\u001b[1;33m,\u001b[0m \u001b[0mcode\u001b[0m\u001b[1;33m,\u001b[0m \u001b[0mmsg\u001b[0m\u001b[1;33m,\u001b[0m \u001b[0mhdrs\u001b[0m\u001b[1;33m,\u001b[0m \u001b[0mfp\u001b[0m\u001b[1;33m)\u001b[0m\u001b[1;33m\u001b[0m\u001b[1;33m\u001b[0m\u001b[0m\n\u001b[0m\u001b[0;32m    650\u001b[0m \u001b[1;33m\u001b[0m\u001b[0m\n\u001b[0;32m    651\u001b[0m \u001b[1;32mclass\u001b[0m \u001b[0mHTTPRedirectHandler\u001b[0m\u001b[1;33m(\u001b[0m\u001b[0mBaseHandler\u001b[0m\u001b[1;33m)\u001b[0m\u001b[1;33m:\u001b[0m\u001b[1;33m\u001b[0m\u001b[1;33m\u001b[0m\u001b[0m\n",
      "\u001b[1;31mHTTPError\u001b[0m: HTTP Error 403: Forbidden"
     ]
    }
   ],
   "source": [
    "imutils.url_to_image(\"\")"
   ]
  },
  {
   "cell_type": "code",
   "execution_count": 161,
   "metadata": {
    "collapsed": true
   },
   "outputs": [
    {
     "name": "stdout",
     "output_type": "stream",
     "text": [
      "gurrn opencv/assets/3scenes\\coast\\coast_arnat59.jpg\n",
      "gurrn opencv/assets/3scenes\\coast\\coast_art1130.jpg\n",
      "gurrn opencv/assets/3scenes\\coast\\coast_art294.jpg\n",
      "gurrn opencv/assets/3scenes\\coast\\coast_art487.jpg\n",
      "gurrn opencv/assets/3scenes\\coast\\coast_bea1.jpg\n",
      "gurrn opencv/assets/3scenes\\coast\\coast_bea10.jpg\n",
      "gurrn opencv/assets/3scenes\\coast\\coast_bea14.jpg\n",
      "gurrn opencv/assets/3scenes\\coast\\coast_bea2.jpg\n",
      "gurrn opencv/assets/3scenes\\coast\\coast_bea20.jpg\n",
      "gurrn opencv/assets/3scenes\\coast\\coast_bea24.jpg\n",
      "gurrn opencv/assets/3scenes\\coast\\coast_bea26.jpg\n",
      "gurrn opencv/assets/3scenes\\coast\\coast_bea27.jpg\n",
      "gurrn opencv/assets/3scenes\\coast\\coast_bea29.jpg\n",
      "gurrn opencv/assets/3scenes\\coast\\coast_bea3.jpg\n",
      "gurrn opencv/assets/3scenes\\coast\\coast_bea30.jpg\n",
      "gurrn opencv/assets/3scenes\\coast\\coast_bea33.jpg\n",
      "gurrn opencv/assets/3scenes\\coast\\coast_bea38.jpg\n",
      "gurrn opencv/assets/3scenes\\coast\\coast_bea39.jpg\n",
      "gurrn opencv/assets/3scenes\\coast\\coast_bea4.jpg\n",
      "gurrn opencv/assets/3scenes\\coast\\coast_bea5.jpg\n",
      "gurrn opencv/assets/3scenes\\coast\\coast_bea9.jpg\n",
      "gurrn opencv/assets/3scenes\\coast\\coast_cdmc1000.jpg\n",
      "gurrn opencv/assets/3scenes\\coast\\coast_cdmc123.jpg\n",
      "gurrn opencv/assets/3scenes\\coast\\coast_cdmc706.jpg\n",
      "gurrn opencv/assets/3scenes\\coast\\coast_cdmc821.jpg\n",
      "gurrn opencv/assets/3scenes\\coast\\coast_cdmc825.jpg\n",
      "gurrn opencv/assets/3scenes\\coast\\coast_cdmc830.jpg\n",
      "gurrn opencv/assets/3scenes\\coast\\coast_cdmc838.jpg\n",
      "gurrn opencv/assets/3scenes\\coast\\coast_cdmc841.jpg\n",
      "gurrn opencv/assets/3scenes\\coast\\coast_cdmc845.jpg\n",
      "gurrn opencv/assets/3scenes\\coast\\coast_cdmc848.jpg\n",
      "gurrn opencv/assets/3scenes\\coast\\coast_cdmc850.jpg\n",
      "gurrn opencv/assets/3scenes\\coast\\coast_cdmc851.jpg\n",
      "gurrn opencv/assets/3scenes\\coast\\coast_cdmc853.jpg\n",
      "gurrn opencv/assets/3scenes\\coast\\coast_cdmc860.jpg\n",
      "gurrn opencv/assets/3scenes\\coast\\coast_cdmc862.jpg\n",
      "gurrn opencv/assets/3scenes\\coast\\coast_cdmc866.jpg\n",
      "gurrn opencv/assets/3scenes\\coast\\coast_cdmc871.jpg\n",
      "gurrn opencv/assets/3scenes\\coast\\coast_cdmc873.jpg\n",
      "gurrn opencv/assets/3scenes\\coast\\coast_cdmc878.jpg\n",
      "gurrn opencv/assets/3scenes\\coast\\coast_cdmc889.jpg\n",
      "gurrn opencv/assets/3scenes\\coast\\coast_cdmc891.jpg\n",
      "gurrn opencv/assets/3scenes\\coast\\coast_cdmc900.jpg\n",
      "gurrn opencv/assets/3scenes\\coast\\coast_cdmc906.jpg\n",
      "gurrn opencv/assets/3scenes\\coast\\coast_cdmc916.jpg\n",
      "gurrn opencv/assets/3scenes\\coast\\coast_cdmc922.jpg\n",
      "gurrn opencv/assets/3scenes\\coast\\coast_cdmc923.jpg\n",
      "gurrn opencv/assets/3scenes\\coast\\coast_cdmc924.jpg\n",
      "gurrn opencv/assets/3scenes\\coast\\coast_cdmc927.jpg\n",
      "gurrn opencv/assets/3scenes\\coast\\coast_cdmc929.jpg\n",
      "gurrn opencv/assets/3scenes\\coast\\coast_cdmc933.jpg\n",
      "gurrn opencv/assets/3scenes\\coast\\coast_cdmc934.jpg\n",
      "gurrn opencv/assets/3scenes\\coast\\coast_cdmc940.jpg\n",
      "gurrn opencv/assets/3scenes\\coast\\coast_cdmc942.jpg\n",
      "gurrn opencv/assets/3scenes\\coast\\coast_cdmc948.jpg\n",
      "gurrn opencv/assets/3scenes\\coast\\coast_cdmc951.jpg\n",
      "gurrn opencv/assets/3scenes\\coast\\coast_cdmc953.jpg\n",
      "gurrn opencv/assets/3scenes\\coast\\coast_cdmc954.jpg\n",
      "gurrn opencv/assets/3scenes\\coast\\coast_cdmc955.jpg\n",
      "gurrn opencv/assets/3scenes\\coast\\coast_cdmc960.jpg\n",
      "gurrn opencv/assets/3scenes\\coast\\coast_cdmc969.jpg\n",
      "gurrn opencv/assets/3scenes\\coast\\coast_cdmc976.jpg\n",
      "gurrn opencv/assets/3scenes\\coast\\coast_cdmc977.jpg\n",
      "gurrn opencv/assets/3scenes\\coast\\coast_cdmc988.jpg\n",
      "gurrn opencv/assets/3scenes\\coast\\coast_cdmc989.jpg\n",
      "gurrn opencv/assets/3scenes\\coast\\coast_cdmc990.jpg\n",
      "gurrn opencv/assets/3scenes\\coast\\coast_cdmc991.jpg\n",
      "gurrn opencv/assets/3scenes\\coast\\coast_cdmc997.jpg\n",
      "gurrn opencv/assets/3scenes\\coast\\coast_gre637.jpg\n",
      "gurrn opencv/assets/3scenes\\coast\\coast_land100.jpg\n",
      "gurrn opencv/assets/3scenes\\coast\\coast_land108.jpg\n",
      "gurrn opencv/assets/3scenes\\coast\\coast_land111.jpg\n",
      "gurrn opencv/assets/3scenes\\coast\\coast_land112.jpg\n",
      "gurrn opencv/assets/3scenes\\coast\\coast_land113.jpg\n",
      "gurrn opencv/assets/3scenes\\coast\\coast_land114.jpg\n",
      "gurrn opencv/assets/3scenes\\coast\\coast_land115.jpg\n",
      "gurrn opencv/assets/3scenes\\coast\\coast_land237.jpg\n",
      "gurrn opencv/assets/3scenes\\coast\\coast_land253.jpg\n",
      "gurrn opencv/assets/3scenes\\coast\\coast_land258.jpg\n",
      "gurrn opencv/assets/3scenes\\coast\\coast_land261.jpg\n",
      "gurrn opencv/assets/3scenes\\coast\\coast_land277.jpg\n",
      "gurrn opencv/assets/3scenes\\coast\\coast_land296.jpg\n",
      "gurrn opencv/assets/3scenes\\coast\\coast_land302.jpg\n",
      "gurrn opencv/assets/3scenes\\coast\\coast_land309.jpg\n",
      "gurrn opencv/assets/3scenes\\coast\\coast_land334.jpg\n",
      "gurrn opencv/assets/3scenes\\coast\\coast_land339.jpg\n",
      "gurrn opencv/assets/3scenes\\coast\\coast_land340.jpg\n",
      "gurrn opencv/assets/3scenes\\coast\\coast_land341.jpg\n",
      "gurrn opencv/assets/3scenes\\coast\\coast_land367.jpg\n",
      "gurrn opencv/assets/3scenes\\coast\\coast_land368.jpg\n",
      "gurrn opencv/assets/3scenes\\coast\\coast_land369.jpg\n",
      "gurrn opencv/assets/3scenes\\coast\\coast_land370.jpg\n",
      "gurrn opencv/assets/3scenes\\coast\\coast_land371.jpg\n",
      "gurrn opencv/assets/3scenes\\coast\\coast_land372.jpg\n",
      "gurrn opencv/assets/3scenes\\coast\\coast_land374.jpg\n",
      "gurrn opencv/assets/3scenes\\coast\\coast_land386.jpg\n",
      "gurrn opencv/assets/3scenes\\coast\\coast_land480.jpg\n",
      "gurrn opencv/assets/3scenes\\coast\\coast_land623.jpg\n",
      "gurrn opencv/assets/3scenes\\coast\\coast_land812.jpg\n",
      "gurrn opencv/assets/3scenes\\coast\\coast_land897.jpg\n",
      "gurrn opencv/assets/3scenes\\coast\\coast_land902.jpg\n",
      "gurrn opencv/assets/3scenes\\coast\\coast_land924.jpg\n",
      "gurrn opencv/assets/3scenes\\coast\\coast_land946.jpg\n",
      "gurrn opencv/assets/3scenes\\coast\\coast_land951.jpg\n",
      "gurrn opencv/assets/3scenes\\coast\\coast_land954.jpg\n",
      "gurrn opencv/assets/3scenes\\coast\\coast_n122078.jpg\n",
      "gurrn opencv/assets/3scenes\\coast\\coast_n18001.jpg\n",
      "gurrn opencv/assets/3scenes\\coast\\coast_n199065.jpg\n",
      "gurrn opencv/assets/3scenes\\coast\\coast_n199066.jpg\n",
      "gurrn opencv/assets/3scenes\\coast\\coast_n199067.jpg\n",
      "gurrn opencv/assets/3scenes\\coast\\coast_n203004.jpg\n",
      "gurrn opencv/assets/3scenes\\coast\\coast_n203011.jpg\n",
      "gurrn opencv/assets/3scenes\\coast\\coast_n203015.jpg\n",
      "gurrn opencv/assets/3scenes\\coast\\coast_n203030.jpg\n",
      "gurrn opencv/assets/3scenes\\coast\\coast_n203032.jpg\n",
      "gurrn opencv/assets/3scenes\\coast\\coast_n203036.jpg\n",
      "gurrn opencv/assets/3scenes\\coast\\coast_n203037.jpg\n",
      "gurrn opencv/assets/3scenes\\coast\\coast_n203059.jpg\n",
      "gurrn opencv/assets/3scenes\\coast\\coast_n203066.jpg\n",
      "gurrn opencv/assets/3scenes\\coast\\coast_n203069.jpg\n",
      "gurrn opencv/assets/3scenes\\coast\\coast_n203071.jpg\n",
      "gurrn opencv/assets/3scenes\\coast\\coast_n203085.jpg\n",
      "gurrn opencv/assets/3scenes\\coast\\coast_n228047.jpg\n",
      "gurrn opencv/assets/3scenes\\coast\\coast_n228083.jpg\n",
      "gurrn opencv/assets/3scenes\\coast\\coast_n228092.jpg\n",
      "gurrn opencv/assets/3scenes\\coast\\coast_n238045.jpg\n",
      "gurrn opencv/assets/3scenes\\coast\\coast_n241018.jpg\n",
      "gurrn opencv/assets/3scenes\\coast\\coast_n241020.jpg\n",
      "gurrn opencv/assets/3scenes\\coast\\coast_n243003.jpg\n",
      "gurrn opencv/assets/3scenes\\coast\\coast_n243011.jpg\n",
      "gurrn opencv/assets/3scenes\\coast\\coast_n243030.jpg\n",
      "gurrn opencv/assets/3scenes\\coast\\coast_n243057.jpg\n",
      "gurrn opencv/assets/3scenes\\coast\\coast_n243061.jpg\n",
      "gurrn opencv/assets/3scenes\\coast\\coast_n243062.jpg\n",
      "gurrn opencv/assets/3scenes\\coast\\coast_n243063.jpg\n",
      "gurrn opencv/assets/3scenes\\coast\\coast_n286045.jpg\n",
      "gurrn opencv/assets/3scenes\\coast\\coast_n286096.jpg\n",
      "gurrn opencv/assets/3scenes\\coast\\coast_n291008.jpg\n",
      "gurrn opencv/assets/3scenes\\coast\\coast_n291022.jpg\n",
      "gurrn opencv/assets/3scenes\\coast\\coast_n291024.jpg\n",
      "gurrn opencv/assets/3scenes\\coast\\coast_n291030.jpg\n",
      "gurrn opencv/assets/3scenes\\coast\\coast_n291032.jpg\n",
      "gurrn opencv/assets/3scenes\\coast\\coast_n291057.jpg\n",
      "gurrn opencv/assets/3scenes\\coast\\coast_n291061.jpg\n",
      "gurrn opencv/assets/3scenes\\coast\\coast_n291075.jpg\n",
      "gurrn opencv/assets/3scenes\\coast\\coast_n291076.jpg\n",
      "gurrn opencv/assets/3scenes\\coast\\coast_n295011.jpg\n",
      "gurrn opencv/assets/3scenes\\coast\\coast_n295027.jpg\n",
      "gurrn opencv/assets/3scenes\\coast\\coast_n295051.jpg\n",
      "gurrn opencv/assets/3scenes\\coast\\coast_n295068.jpg\n",
      "gurrn opencv/assets/3scenes\\coast\\coast_n295080.jpg\n",
      "gurrn opencv/assets/3scenes\\coast\\coast_n328001.jpg\n",
      "gurrn opencv/assets/3scenes\\coast\\coast_n328036.jpg\n",
      "gurrn opencv/assets/3scenes\\coast\\coast_n328052.jpg\n",
      "gurrn opencv/assets/3scenes\\coast\\coast_n344048.jpg\n",
      "gurrn opencv/assets/3scenes\\coast\\coast_n347041.jpg\n",
      "gurrn opencv/assets/3scenes\\coast\\coast_n347047.jpg\n",
      "gurrn opencv/assets/3scenes\\coast\\coast_n384013.jpg\n",
      "gurrn opencv/assets/3scenes\\coast\\coast_n384026.jpg\n",
      "gurrn opencv/assets/3scenes\\coast\\coast_n384030.jpg\n",
      "gurrn opencv/assets/3scenes\\coast\\coast_n384038.jpg\n",
      "gurrn opencv/assets/3scenes\\coast\\coast_n384092.jpg\n",
      "gurrn opencv/assets/3scenes\\coast\\coast_n384099.jpg\n",
      "gurrn opencv/assets/3scenes\\coast\\coast_n424023.jpg\n",
      "gurrn opencv/assets/3scenes\\coast\\coast_n424079.jpg\n",
      "gurrn opencv/assets/3scenes\\coast\\coast_n424081.jpg\n",
      "gurrn opencv/assets/3scenes\\coast\\coast_n446013.jpg\n",
      "gurrn opencv/assets/3scenes\\coast\\coast_n486055.jpg\n",
      "gurrn opencv/assets/3scenes\\coast\\coast_n603063.jpg\n",
      "gurrn opencv/assets/3scenes\\coast\\coast_n672000.jpg\n",
      "gurrn opencv/assets/3scenes\\coast\\coast_n672003.jpg\n",
      "gurrn opencv/assets/3scenes\\coast\\coast_n672004.jpg\n",
      "gurrn opencv/assets/3scenes\\coast\\coast_n672021.jpg\n",
      "gurrn opencv/assets/3scenes\\coast\\coast_n672031.jpg\n",
      "gurrn opencv/assets/3scenes\\coast\\coast_n672034.jpg\n",
      "gurrn opencv/assets/3scenes\\coast\\coast_n672069.jpg\n",
      "gurrn opencv/assets/3scenes\\coast\\coast_n708004.jpg\n",
      "gurrn opencv/assets/3scenes\\coast\\coast_n708024.jpg\n",
      "gurrn opencv/assets/3scenes\\coast\\coast_n708050.jpg\n",
      "gurrn opencv/assets/3scenes\\coast\\coast_n735016.jpg\n",
      "gurrn opencv/assets/3scenes\\coast\\coast_n736062.jpg\n",
      "gurrn opencv/assets/3scenes\\coast\\coast_n739046.jpg\n",
      "gurrn opencv/assets/3scenes\\coast\\coast_n739047.jpg\n",
      "gurrn opencv/assets/3scenes\\coast\\coast_nat1043.jpg\n",
      "gurrn opencv/assets/3scenes\\coast\\coast_nat1052.jpg\n",
      "gurrn opencv/assets/3scenes\\coast\\coast_nat1053.jpg\n",
      "gurrn opencv/assets/3scenes\\coast\\coast_nat1065.jpg\n",
      "gurrn opencv/assets/3scenes\\coast\\coast_nat1074.jpg\n",
      "gurrn opencv/assets/3scenes\\coast\\coast_nat109.jpg\n",
      "gurrn opencv/assets/3scenes\\coast\\coast_nat1091.jpg\n",
      "gurrn opencv/assets/3scenes\\coast\\coast_nat1099.jpg\n",
      "gurrn opencv/assets/3scenes\\coast\\coast_nat1112.jpg\n",
      "gurrn opencv/assets/3scenes\\coast\\coast_nat1125.jpg\n",
      "gurrn opencv/assets/3scenes\\coast\\coast_nat1146.jpg\n",
      "gurrn opencv/assets/3scenes\\coast\\coast_nat1149.jpg\n",
      "gurrn opencv/assets/3scenes\\coast\\coast_nat1150.jpg\n",
      "gurrn opencv/assets/3scenes\\coast\\coast_nat1151.jpg\n",
      "gurrn opencv/assets/3scenes\\coast\\coast_nat1175.jpg\n",
      "gurrn opencv/assets/3scenes\\coast\\coast_nat1177.jpg\n",
      "gurrn opencv/assets/3scenes\\coast\\coast_nat120.jpg\n",
      "gurrn opencv/assets/3scenes\\coast\\coast_nat1201.jpg\n",
      "gurrn opencv/assets/3scenes\\coast\\coast_nat1208.jpg\n",
      "gurrn opencv/assets/3scenes\\coast\\coast_nat1265.jpg\n",
      "gurrn opencv/assets/3scenes\\coast\\coast_nat167.jpg\n",
      "gurrn opencv/assets/3scenes\\coast\\coast_nat172.jpg\n",
      "gurrn opencv/assets/3scenes\\coast\\coast_nat174.jpg\n",
      "gurrn opencv/assets/3scenes\\coast\\coast_nat186.jpg\n",
      "gurrn opencv/assets/3scenes\\coast\\coast_nat194.jpg\n",
      "gurrn opencv/assets/3scenes\\coast\\coast_nat196.jpg\n",
      "gurrn opencv/assets/3scenes\\coast\\coast_nat202.jpg\n",
      "gurrn opencv/assets/3scenes\\coast\\coast_nat283.jpg\n",
      "gurrn opencv/assets/3scenes\\coast\\coast_nat284.jpg\n",
      "gurrn opencv/assets/3scenes\\coast\\coast_nat285.jpg\n",
      "gurrn opencv/assets/3scenes\\coast\\coast_nat288.jpg\n",
      "gurrn opencv/assets/3scenes\\coast\\coast_nat292.jpg\n",
      "gurrn opencv/assets/3scenes\\coast\\coast_nat293.jpg\n",
      "gurrn opencv/assets/3scenes\\coast\\coast_nat294.jpg\n",
      "gurrn opencv/assets/3scenes\\coast\\coast_nat462.jpg\n",
      "gurrn opencv/assets/3scenes\\coast\\coast_nat472.jpg\n",
      "gurrn opencv/assets/3scenes\\coast\\coast_nat479.jpg\n",
      "gurrn opencv/assets/3scenes\\coast\\coast_nat482.jpg\n",
      "gurrn opencv/assets/3scenes\\coast\\coast_nat491.jpg\n",
      "gurrn opencv/assets/3scenes\\coast\\coast_nat496.jpg\n",
      "gurrn opencv/assets/3scenes\\coast\\coast_nat566.jpg\n",
      "gurrn opencv/assets/3scenes\\coast\\coast_nat601.jpg\n",
      "gurrn opencv/assets/3scenes\\coast\\coast_nat602.jpg\n",
      "gurrn opencv/assets/3scenes\\coast\\coast_nat605.jpg\n",
      "gurrn opencv/assets/3scenes\\coast\\coast_nat639.jpg\n",
      "gurrn opencv/assets/3scenes\\coast\\coast_nat642.jpg\n",
      "gurrn opencv/assets/3scenes\\coast\\coast_nat643.jpg\n",
      "gurrn opencv/assets/3scenes\\coast\\coast_nat667.jpg\n",
      "gurrn opencv/assets/3scenes\\coast\\coast_nat684.jpg\n",
      "gurrn opencv/assets/3scenes\\coast\\coast_nat700.jpg\n",
      "gurrn opencv/assets/3scenes\\coast\\coast_nat705.jpg\n",
      "gurrn opencv/assets/3scenes\\coast\\coast_nat707.jpg\n",
      "gurrn opencv/assets/3scenes\\coast\\coast_nat711.jpg\n",
      "gurrn opencv/assets/3scenes\\coast\\coast_nat736.jpg\n",
      "gurrn opencv/assets/3scenes\\coast\\coast_nat739.jpg\n",
      "gurrn opencv/assets/3scenes\\coast\\coast_nat743.jpg\n",
      "gurrn opencv/assets/3scenes\\coast\\coast_nat745.jpg\n",
      "gurrn opencv/assets/3scenes\\coast\\coast_nat755.jpg\n",
      "gurrn opencv/assets/3scenes\\coast\\coast_nat768.jpg\n",
      "gurrn opencv/assets/3scenes\\coast\\coast_nat770.jpg\n",
      "gurrn opencv/assets/3scenes\\coast\\coast_nat799.jpg\n",
      "gurrn opencv/assets/3scenes\\coast\\coast_nat807.jpg\n",
      "gurrn opencv/assets/3scenes\\coast\\coast_nat810.jpg\n",
      "gurrn opencv/assets/3scenes\\coast\\coast_nat820.jpg\n",
      "gurrn opencv/assets/3scenes\\coast\\coast_nat850.jpg\n",
      "gurrn opencv/assets/3scenes\\coast\\coast_nat865.jpg\n",
      "gurrn opencv/assets/3scenes\\coast\\coast_nat866.jpg\n",
      "gurrn opencv/assets/3scenes\\coast\\coast_nat890.jpg\n",
      "gurrn opencv/assets/3scenes\\coast\\coast_nat893.jpg\n",
      "gurrn opencv/assets/3scenes\\coast\\coast_nat895.jpg\n",
      "gurrn opencv/assets/3scenes\\coast\\coast_nat897.jpg\n",
      "gurrn opencv/assets/3scenes\\coast\\coast_nat899.jpg\n",
      "gurrn opencv/assets/3scenes\\coast\\coast_nat900.jpg\n",
      "gurrn opencv/assets/3scenes\\coast\\coast_nat901.jpg\n",
      "gurrn opencv/assets/3scenes\\coast\\coast_nat904.jpg\n",
      "gurrn opencv/assets/3scenes\\coast\\coast_nat905.jpg\n",
      "gurrn opencv/assets/3scenes\\coast\\coast_nat907.jpg\n",
      "gurrn opencv/assets/3scenes\\coast\\coast_nat908.jpg\n",
      "gurrn opencv/assets/3scenes\\coast\\coast_nat910.jpg\n",
      "gurrn opencv/assets/3scenes\\coast\\coast_nat921.jpg\n",
      "gurrn opencv/assets/3scenes\\coast\\coast_nat956.jpg\n",
      "gurrn opencv/assets/3scenes\\coast\\coast_natu128.jpg\n",
      "gurrn opencv/assets/3scenes\\coast\\coast_natu130.jpg\n",
      "gurrn opencv/assets/3scenes\\coast\\coast_natu131.jpg\n",
      "gurrn opencv/assets/3scenes\\coast\\coast_natu25.jpg\n",
      "gurrn opencv/assets/3scenes\\coast\\coast_natu399.jpg\n",
      "gurrn opencv/assets/3scenes\\coast\\coast_natu408.jpg\n",
      "gurrn opencv/assets/3scenes\\coast\\coast_natu468.jpg\n",
      "gurrn opencv/assets/3scenes\\coast\\coast_natu469.jpg\n",
      "gurrn opencv/assets/3scenes\\coast\\coast_natu473.jpg\n",
      "gurrn opencv/assets/3scenes\\coast\\coast_natu515.jpg\n",
      "gurrn opencv/assets/3scenes\\coast\\coast_natu531.jpg\n",
      "gurrn opencv/assets/3scenes\\coast\\coast_natu604.jpg\n",
      "gurrn opencv/assets/3scenes\\coast\\coast_natu619.jpg\n",
      "gurrn opencv/assets/3scenes\\coast\\coast_natu631.jpg\n",
      "gurrn opencv/assets/3scenes\\coast\\coast_natu638.jpg\n",
      "gurrn opencv/assets/3scenes\\coast\\coast_natu641.jpg\n",
      "gurrn opencv/assets/3scenes\\coast\\coast_natu642.jpg\n",
      "gurrn opencv/assets/3scenes\\coast\\coast_natu643.jpg\n",
      "gurrn opencv/assets/3scenes\\coast\\coast_natu648.jpg\n",
      "gurrn opencv/assets/3scenes\\coast\\coast_natu649.jpg\n",
      "gurrn opencv/assets/3scenes\\coast\\coast_natu666.jpg\n",
      "gurrn opencv/assets/3scenes\\coast\\coast_natu667.jpg\n",
      "gurrn opencv/assets/3scenes\\coast\\coast_natu670.jpg\n",
      "gurrn opencv/assets/3scenes\\coast\\coast_natu702.jpg\n",
      "gurrn opencv/assets/3scenes\\coast\\coast_natu704.jpg\n",
      "gurrn opencv/assets/3scenes\\coast\\coast_natu718.jpg\n",
      "gurrn opencv/assets/3scenes\\coast\\coast_natu772.jpg\n",
      "gurrn opencv/assets/3scenes\\coast\\coast_natu776.jpg\n",
      "gurrn opencv/assets/3scenes\\coast\\coast_natu777.jpg\n",
      "gurrn opencv/assets/3scenes\\coast\\coast_natu789.jpg\n",
      "gurrn opencv/assets/3scenes\\coast\\coast_natu791.jpg\n",
      "gurrn opencv/assets/3scenes\\coast\\coast_natu795.jpg\n",
      "gurrn opencv/assets/3scenes\\coast\\coast_natu798.jpg\n",
      "gurrn opencv/assets/3scenes\\coast\\coast_natu804.jpg\n",
      "gurrn opencv/assets/3scenes\\coast\\coast_natu808.jpg\n",
      "gurrn opencv/assets/3scenes\\coast\\coast_natu811.jpg\n",
      "gurrn opencv/assets/3scenes\\coast\\coast_natu813.jpg\n",
      "gurrn opencv/assets/3scenes\\coast\\coast_natu814.jpg\n",
      "gurrn opencv/assets/3scenes\\coast\\coast_natu815.jpg\n",
      "gurrn opencv/assets/3scenes\\coast\\coast_natu816.jpg\n",
      "gurrn opencv/assets/3scenes\\coast\\coast_natu817.jpg\n",
      "gurrn opencv/assets/3scenes\\coast\\coast_natu818.jpg\n",
      "gurrn opencv/assets/3scenes\\coast\\coast_natu819.jpg\n",
      "gurrn opencv/assets/3scenes\\coast\\coast_natu820.jpg\n",
      "gurrn opencv/assets/3scenes\\coast\\coast_natu822.jpg\n",
      "gurrn opencv/assets/3scenes\\coast\\coast_natu824.jpg\n",
      "gurrn opencv/assets/3scenes\\coast\\coast_natu825.jpg\n",
      "gurrn opencv/assets/3scenes\\coast\\coast_natu826.jpg\n",
      "gurrn opencv/assets/3scenes\\coast\\coast_natu827.jpg\n",
      "gurrn opencv/assets/3scenes\\coast\\coast_natu829.jpg\n",
      "gurrn opencv/assets/3scenes\\coast\\coast_natu830.jpg\n",
      "gurrn opencv/assets/3scenes\\coast\\coast_natu887.jpg\n",
      "gurrn opencv/assets/3scenes\\coast\\coast_natu901.jpg\n",
      "gurrn opencv/assets/3scenes\\coast\\coast_natu908.jpg\n",
      "gurrn opencv/assets/3scenes\\coast\\coast_natu911.jpg\n",
      "gurrn opencv/assets/3scenes\\coast\\coast_natu912.jpg\n",
      "gurrn opencv/assets/3scenes\\coast\\coast_natu919.jpg\n",
      "gurrn opencv/assets/3scenes\\coast\\coast_natu920.jpg\n",
      "gurrn opencv/assets/3scenes\\coast\\coast_natu923.jpg\n",
      "gurrn opencv/assets/3scenes\\coast\\coast_natu938.jpg\n",
      "gurrn opencv/assets/3scenes\\coast\\coast_natu975.jpg\n",
      "gurrn opencv/assets/3scenes\\coast\\coast_natu981.jpg\n",
      "gurrn opencv/assets/3scenes\\coast\\coast_natu986.jpg\n",
      "gurrn opencv/assets/3scenes\\coast\\coast_open13.jpg\n",
      "gurrn opencv/assets/3scenes\\coast\\coast_open60.jpg\n",
      "gurrn opencv/assets/3scenes\\coast\\coast_open62.jpg\n",
      "gurrn opencv/assets/3scenes\\coast\\coast_osun51.jpg\n",
      "gurrn opencv/assets/3scenes\\coast\\coast_osun52.jpg\n",
      "gurrn opencv/assets/3scenes\\coast\\coast_osun54.jpg\n",
      "gurrn opencv/assets/3scenes\\coast\\coast_osun56.jpg\n",
      "gurrn opencv/assets/3scenes\\coast\\coast_sun1.jpg\n",
      "gurrn opencv/assets/3scenes\\coast\\coast_sun11.jpg\n",
      "gurrn opencv/assets/3scenes\\coast\\coast_sun12.jpg\n",
      "gurrn opencv/assets/3scenes\\coast\\coast_sun14.jpg\n",
      "gurrn opencv/assets/3scenes\\coast\\coast_sun15.jpg\n",
      "gurrn opencv/assets/3scenes\\coast\\coast_sun16.jpg\n",
      "gurrn opencv/assets/3scenes\\coast\\coast_sun21.jpg\n",
      "gurrn opencv/assets/3scenes\\coast\\coast_sun22.jpg\n",
      "gurrn opencv/assets/3scenes\\coast\\coast_sun27.jpg\n",
      "gurrn opencv/assets/3scenes\\coast\\coast_sun28.jpg\n",
      "gurrn opencv/assets/3scenes\\coast\\coast_sun3.jpg\n",
      "gurrn opencv/assets/3scenes\\coast\\coast_sun31.jpg\n",
      "gurrn opencv/assets/3scenes\\coast\\coast_sun32.jpg\n",
      "gurrn opencv/assets/3scenes\\coast\\coast_sun33.jpg\n",
      "gurrn opencv/assets/3scenes\\coast\\coast_sun34.jpg\n",
      "gurrn opencv/assets/3scenes\\coast\\coast_sun39.jpg\n",
      "gurrn opencv/assets/3scenes\\coast\\coast_sun4.jpg\n",
      "gurrn opencv/assets/3scenes\\coast\\coast_sun42.jpg\n",
      "gurrn opencv/assets/3scenes\\coast\\coast_sun44.jpg\n",
      "gurrn opencv/assets/3scenes\\coast\\coast_sun45.jpg\n",
      "gurrn opencv/assets/3scenes\\coast\\coast_sun5.jpg\n",
      "gurrn opencv/assets/3scenes\\coast\\coast_sun56.jpg\n",
      "gurrn opencv/assets/3scenes\\coast\\coast_sun57.jpg\n",
      "gurrn opencv/assets/3scenes\\coast\\coast_sun59.jpg\n",
      "gurrn opencv/assets/3scenes\\coast\\coast_sun7.jpg\n",
      "gurrn opencv/assets/3scenes\\coast\\coast_sun8.jpg\n",
      "gurrn opencv/assets/3scenes\\forest\\forest_art114.jpg\n",
      "gurrn opencv/assets/3scenes\\forest\\forest_bost100.jpg\n",
      "gurrn opencv/assets/3scenes\\forest\\forest_bost101.jpg\n",
      "gurrn opencv/assets/3scenes\\forest\\forest_bost102.jpg\n",
      "gurrn opencv/assets/3scenes\\forest\\forest_bost103.jpg\n",
      "gurrn opencv/assets/3scenes\\forest\\forest_bost190.jpg\n",
      "gurrn opencv/assets/3scenes\\forest\\forest_bost98.jpg\n",
      "gurrn opencv/assets/3scenes\\forest\\forest_cdmc101.jpg\n",
      "gurrn opencv/assets/3scenes\\forest\\forest_cdmc12.jpg\n",
      "gurrn opencv/assets/3scenes\\forest\\forest_cdmc271.jpg\n",
      "gurrn opencv/assets/3scenes\\forest\\forest_cdmc277.jpg\n",
      "gurrn opencv/assets/3scenes\\forest\\forest_cdmc278.jpg\n",
      "gurrn opencv/assets/3scenes\\forest\\forest_cdmc280.jpg\n",
      "gurrn opencv/assets/3scenes\\forest\\forest_cdmc281.jpg\n",
      "gurrn opencv/assets/3scenes\\forest\\forest_cdmc282.jpg\n",
      "gurrn opencv/assets/3scenes\\forest\\forest_cdmc283.jpg\n",
      "gurrn opencv/assets/3scenes\\forest\\forest_cdmc284.jpg\n",
      "gurrn opencv/assets/3scenes\\forest\\forest_cdmc290.jpg\n",
      "gurrn opencv/assets/3scenes\\forest\\forest_cdmc291.jpg\n",
      "gurrn opencv/assets/3scenes\\forest\\forest_cdmc292.jpg\n",
      "gurrn opencv/assets/3scenes\\forest\\forest_cdmc293.jpg\n",
      "gurrn opencv/assets/3scenes\\forest\\forest_cdmc306.jpg\n",
      "gurrn opencv/assets/3scenes\\forest\\forest_cdmc313.jpg\n",
      "gurrn opencv/assets/3scenes\\forest\\forest_cdmc315.jpg\n",
      "gurrn opencv/assets/3scenes\\forest\\forest_cdmc317.jpg\n",
      "gurrn opencv/assets/3scenes\\forest\\forest_cdmc318.jpg\n",
      "gurrn opencv/assets/3scenes\\forest\\forest_cdmc319.jpg\n",
      "gurrn opencv/assets/3scenes\\forest\\forest_cdmc331.jpg\n",
      "gurrn opencv/assets/3scenes\\forest\\forest_cdmc333.jpg\n",
      "gurrn opencv/assets/3scenes\\forest\\forest_cdmc338.jpg\n",
      "gurrn opencv/assets/3scenes\\forest\\forest_cdmc344.jpg\n",
      "gurrn opencv/assets/3scenes\\forest\\forest_cdmc348.jpg\n",
      "gurrn opencv/assets/3scenes\\forest\\forest_cdmc351.jpg\n",
      "gurrn opencv/assets/3scenes\\forest\\forest_cdmc352.jpg\n",
      "gurrn opencv/assets/3scenes\\forest\\forest_cdmc358.jpg\n",
      "gurrn opencv/assets/3scenes\\forest\\forest_cdmc359.jpg\n",
      "gurrn opencv/assets/3scenes\\forest\\forest_cdmc363.jpg\n",
      "gurrn opencv/assets/3scenes\\forest\\forest_cdmc368.jpg\n",
      "gurrn opencv/assets/3scenes\\forest\\forest_cdmc375.jpg\n",
      "gurrn opencv/assets/3scenes\\forest\\forest_cdmc377.jpg\n",
      "gurrn opencv/assets/3scenes\\forest\\forest_cdmc385.jpg\n",
      "gurrn opencv/assets/3scenes\\forest\\forest_cdmc388.jpg\n",
      "gurrn opencv/assets/3scenes\\forest\\forest_cdmc414.jpg\n",
      "gurrn opencv/assets/3scenes\\forest\\forest_cdmc415.jpg\n",
      "gurrn opencv/assets/3scenes\\forest\\forest_cdmc430.jpg\n",
      "gurrn opencv/assets/3scenes\\forest\\forest_cdmc451.jpg\n",
      "gurrn opencv/assets/3scenes\\forest\\forest_cdmc458.jpg\n",
      "gurrn opencv/assets/3scenes\\forest\\forest_cdmc494.jpg\n",
      "gurrn opencv/assets/3scenes\\forest\\forest_cdmc507.jpg\n",
      "gurrn opencv/assets/3scenes\\forest\\forest_cdmc533.jpg\n",
      "gurrn opencv/assets/3scenes\\forest\\forest_cdmc547.jpg\n",
      "gurrn opencv/assets/3scenes\\forest\\forest_cdmc556.jpg\n",
      "gurrn opencv/assets/3scenes\\forest\\forest_cdmc562.jpg\n",
      "gurrn opencv/assets/3scenes\\forest\\forest_for102.jpg\n",
      "gurrn opencv/assets/3scenes\\forest\\forest_for105.jpg\n",
      "gurrn opencv/assets/3scenes\\forest\\forest_for106.jpg\n",
      "gurrn opencv/assets/3scenes\\forest\\forest_for110.jpg\n",
      "gurrn opencv/assets/3scenes\\forest\\forest_for112.jpg\n",
      "gurrn opencv/assets/3scenes\\forest\\forest_for114.jpg\n",
      "gurrn opencv/assets/3scenes\\forest\\forest_for116.jpg\n",
      "gurrn opencv/assets/3scenes\\forest\\forest_for119.jpg\n",
      "gurrn opencv/assets/3scenes\\forest\\forest_for121.jpg\n",
      "gurrn opencv/assets/3scenes\\forest\\forest_for127.jpg\n",
      "gurrn opencv/assets/3scenes\\forest\\forest_for130.jpg\n",
      "gurrn opencv/assets/3scenes\\forest\\forest_for132.jpg\n",
      "gurrn opencv/assets/3scenes\\forest\\forest_for136.jpg\n",
      "gurrn opencv/assets/3scenes\\forest\\forest_for137.jpg\n",
      "gurrn opencv/assets/3scenes\\forest\\forest_for142.jpg\n",
      "gurrn opencv/assets/3scenes\\forest\\forest_for143.jpg\n",
      "gurrn opencv/assets/3scenes\\forest\\forest_for146.jpg\n",
      "gurrn opencv/assets/3scenes\\forest\\forest_for148.jpg\n",
      "gurrn opencv/assets/3scenes\\forest\\forest_for149.jpg\n",
      "gurrn opencv/assets/3scenes\\forest\\forest_for15.jpg\n",
      "gurrn opencv/assets/3scenes\\forest\\forest_for151.jpg\n",
      "gurrn opencv/assets/3scenes\\forest\\forest_for153.jpg\n",
      "gurrn opencv/assets/3scenes\\forest\\forest_for157.jpg\n",
      "gurrn opencv/assets/3scenes\\forest\\forest_for17.jpg\n",
      "gurrn opencv/assets/3scenes\\forest\\forest_for20.jpg\n",
      "gurrn opencv/assets/3scenes\\forest\\forest_for22.jpg\n",
      "gurrn opencv/assets/3scenes\\forest\\forest_for25.jpg\n",
      "gurrn opencv/assets/3scenes\\forest\\forest_for27.jpg\n",
      "gurrn opencv/assets/3scenes\\forest\\forest_for28.jpg\n",
      "gurrn opencv/assets/3scenes\\forest\\forest_for3.jpg\n",
      "gurrn opencv/assets/3scenes\\forest\\forest_for32.jpg\n",
      "gurrn opencv/assets/3scenes\\forest\\forest_for38.jpg\n",
      "gurrn opencv/assets/3scenes\\forest\\forest_for42.jpg\n",
      "gurrn opencv/assets/3scenes\\forest\\forest_for44.jpg\n",
      "gurrn opencv/assets/3scenes\\forest\\forest_for47.jpg\n",
      "gurrn opencv/assets/3scenes\\forest\\forest_for50.jpg\n",
      "gurrn opencv/assets/3scenes\\forest\\forest_for52.jpg\n",
      "gurrn opencv/assets/3scenes\\forest\\forest_for58.jpg\n",
      "gurrn opencv/assets/3scenes\\forest\\forest_for60.jpg\n",
      "gurrn opencv/assets/3scenes\\forest\\forest_for63.jpg\n",
      "gurrn opencv/assets/3scenes\\forest\\forest_for65.jpg\n",
      "gurrn opencv/assets/3scenes\\forest\\forest_for67.jpg\n",
      "gurrn opencv/assets/3scenes\\forest\\forest_for77.jpg\n",
      "gurrn opencv/assets/3scenes\\forest\\forest_for78.jpg\n",
      "gurrn opencv/assets/3scenes\\forest\\forest_for79.jpg\n",
      "gurrn opencv/assets/3scenes\\forest\\forest_for82.jpg\n",
      "gurrn opencv/assets/3scenes\\forest\\forest_for84.jpg\n",
      "gurrn opencv/assets/3scenes\\forest\\forest_for85.jpg\n",
      "gurrn opencv/assets/3scenes\\forest\\forest_for86.jpg\n",
      "gurrn opencv/assets/3scenes\\forest\\forest_for87.jpg\n",
      "gurrn opencv/assets/3scenes\\forest\\forest_for93.jpg\n",
      "gurrn opencv/assets/3scenes\\forest\\forest_for95.jpg\n",
      "gurrn opencv/assets/3scenes\\forest\\forest_for96.jpg\n",
      "gurrn opencv/assets/3scenes\\forest\\forest_land102.jpg\n",
      "gurrn opencv/assets/3scenes\\forest\\forest_land107.jpg\n",
      "gurrn opencv/assets/3scenes\\forest\\forest_land159.jpg\n",
      "gurrn opencv/assets/3scenes\\forest\\forest_land215.jpg\n",
      "gurrn opencv/assets/3scenes\\forest\\forest_land217.jpg\n",
      "gurrn opencv/assets/3scenes\\forest\\forest_land219.jpg\n",
      "gurrn opencv/assets/3scenes\\forest\\forest_land222.jpg\n",
      "gurrn opencv/assets/3scenes\\forest\\forest_land224.jpg\n",
      "gurrn opencv/assets/3scenes\\forest\\forest_land243.jpg\n",
      "gurrn opencv/assets/3scenes\\forest\\forest_land245.jpg\n",
      "gurrn opencv/assets/3scenes\\forest\\forest_land314.jpg\n",
      "gurrn opencv/assets/3scenes\\forest\\forest_land335.jpg\n",
      "gurrn opencv/assets/3scenes\\forest\\forest_land376.jpg\n",
      "gurrn opencv/assets/3scenes\\forest\\forest_land377.jpg\n",
      "gurrn opencv/assets/3scenes\\forest\\forest_land503.jpg\n",
      "gurrn opencv/assets/3scenes\\forest\\forest_land64.jpg\n",
      "gurrn opencv/assets/3scenes\\forest\\forest_land726.jpg\n",
      "gurrn opencv/assets/3scenes\\forest\\forest_land727.jpg\n",
      "gurrn opencv/assets/3scenes\\forest\\forest_land733.jpg\n",
      "gurrn opencv/assets/3scenes\\forest\\forest_land741.jpg\n",
      "gurrn opencv/assets/3scenes\\forest\\forest_land760.jpg\n",
      "gurrn opencv/assets/3scenes\\forest\\forest_land765.jpg\n",
      "gurrn opencv/assets/3scenes\\forest\\forest_land801.jpg\n",
      "gurrn opencv/assets/3scenes\\forest\\forest_land807.jpg\n",
      "gurrn opencv/assets/3scenes\\forest\\forest_land809.jpg\n",
      "gurrn opencv/assets/3scenes\\forest\\forest_land81.jpg\n",
      "gurrn opencv/assets/3scenes\\forest\\forest_land810.jpg\n",
      "gurrn opencv/assets/3scenes\\forest\\forest_land849.jpg\n",
      "gurrn opencv/assets/3scenes\\forest\\forest_land850.jpg\n",
      "gurrn opencv/assets/3scenes\\forest\\forest_land852.jpg\n",
      "gurrn opencv/assets/3scenes\\forest\\forest_land854.jpg\n",
      "gurrn opencv/assets/3scenes\\forest\\forest_land858.jpg\n",
      "gurrn opencv/assets/3scenes\\forest\\forest_land861.jpg\n",
      "gurrn opencv/assets/3scenes\\forest\\forest_land862.jpg\n",
      "gurrn opencv/assets/3scenes\\forest\\forest_land863.jpg\n",
      "gurrn opencv/assets/3scenes\\forest\\forest_land864.jpg\n",
      "gurrn opencv/assets/3scenes\\forest\\forest_land866.jpg\n",
      "gurrn opencv/assets/3scenes\\forest\\forest_land867.jpg\n",
      "gurrn opencv/assets/3scenes\\forest\\forest_land869.jpg\n",
      "gurrn opencv/assets/3scenes\\forest\\forest_land870.jpg\n",
      "gurrn opencv/assets/3scenes\\forest\\forest_land871.jpg\n",
      "gurrn opencv/assets/3scenes\\forest\\forest_land872.jpg\n",
      "gurrn opencv/assets/3scenes\\forest\\forest_land873.jpg\n",
      "gurrn opencv/assets/3scenes\\forest\\forest_land922.jpg\n",
      "gurrn opencv/assets/3scenes\\forest\\forest_moun46.jpg\n",
      "gurrn opencv/assets/3scenes\\forest\\forest_n18075.jpg\n",
      "gurrn opencv/assets/3scenes\\forest\\forest_nat1027.jpg\n",
      "gurrn opencv/assets/3scenes\\forest\\forest_nat1033.jpg\n",
      "gurrn opencv/assets/3scenes\\forest\\forest_nat1088.jpg\n",
      "gurrn opencv/assets/3scenes\\forest\\forest_nat1095.jpg\n",
      "gurrn opencv/assets/3scenes\\forest\\forest_nat1097.jpg\n",
      "gurrn opencv/assets/3scenes\\forest\\forest_nat1127.jpg\n",
      "gurrn opencv/assets/3scenes\\forest\\forest_nat1128.jpg\n",
      "gurrn opencv/assets/3scenes\\forest\\forest_nat1131.jpg\n",
      "gurrn opencv/assets/3scenes\\forest\\forest_nat1184.jpg\n",
      "gurrn opencv/assets/3scenes\\forest\\forest_nat1217.jpg\n",
      "gurrn opencv/assets/3scenes\\forest\\forest_nat1242.jpg\n",
      "gurrn opencv/assets/3scenes\\forest\\forest_nat1248.jpg\n",
      "gurrn opencv/assets/3scenes\\forest\\forest_nat1253.jpg\n",
      "gurrn opencv/assets/3scenes\\forest\\forest_nat1266.jpg\n",
      "gurrn opencv/assets/3scenes\\forest\\forest_nat130.jpg\n",
      "gurrn opencv/assets/3scenes\\forest\\forest_nat145.jpg\n",
      "gurrn opencv/assets/3scenes\\forest\\forest_nat146.jpg\n",
      "gurrn opencv/assets/3scenes\\forest\\forest_nat147.jpg\n",
      "gurrn opencv/assets/3scenes\\forest\\forest_nat162.jpg\n",
      "gurrn opencv/assets/3scenes\\forest\\forest_nat203.jpg\n",
      "gurrn opencv/assets/3scenes\\forest\\forest_nat204.jpg\n",
      "gurrn opencv/assets/3scenes\\forest\\forest_nat205.jpg\n",
      "gurrn opencv/assets/3scenes\\forest\\forest_nat208.jpg\n",
      "gurrn opencv/assets/3scenes\\forest\\forest_nat209.jpg\n",
      "gurrn opencv/assets/3scenes\\forest\\forest_nat210.jpg\n",
      "gurrn opencv/assets/3scenes\\forest\\forest_nat211.jpg\n",
      "gurrn opencv/assets/3scenes\\forest\\forest_nat212.jpg\n",
      "gurrn opencv/assets/3scenes\\forest\\forest_nat219.jpg\n",
      "gurrn opencv/assets/3scenes\\forest\\forest_nat220.jpg\n",
      "gurrn opencv/assets/3scenes\\forest\\forest_nat221.jpg\n",
      "gurrn opencv/assets/3scenes\\forest\\forest_nat223.jpg\n",
      "gurrn opencv/assets/3scenes\\forest\\forest_nat228.jpg\n",
      "gurrn opencv/assets/3scenes\\forest\\forest_nat239.jpg\n",
      "gurrn opencv/assets/3scenes\\forest\\forest_nat260.jpg\n",
      "gurrn opencv/assets/3scenes\\forest\\forest_nat263.jpg\n",
      "gurrn opencv/assets/3scenes\\forest\\forest_nat266.jpg\n",
      "gurrn opencv/assets/3scenes\\forest\\forest_nat281.jpg\n",
      "gurrn opencv/assets/3scenes\\forest\\forest_nat286.jpg\n",
      "gurrn opencv/assets/3scenes\\forest\\forest_nat310.jpg\n",
      "gurrn opencv/assets/3scenes\\forest\\forest_nat312.jpg\n",
      "gurrn opencv/assets/3scenes\\forest\\forest_nat315.jpg\n",
      "gurrn opencv/assets/3scenes\\forest\\forest_nat324.jpg\n",
      "gurrn opencv/assets/3scenes\\forest\\forest_nat325.jpg\n",
      "gurrn opencv/assets/3scenes\\forest\\forest_nat328.jpg\n",
      "gurrn opencv/assets/3scenes\\forest\\forest_nat337.jpg\n",
      "gurrn opencv/assets/3scenes\\forest\\forest_nat338.jpg\n",
      "gurrn opencv/assets/3scenes\\forest\\forest_nat347.jpg\n",
      "gurrn opencv/assets/3scenes\\forest\\forest_nat349.jpg\n",
      "gurrn opencv/assets/3scenes\\forest\\forest_nat354.jpg\n",
      "gurrn opencv/assets/3scenes\\forest\\forest_nat359.jpg\n",
      "gurrn opencv/assets/3scenes\\forest\\forest_nat360.jpg\n",
      "gurrn opencv/assets/3scenes\\forest\\forest_nat361.jpg\n",
      "gurrn opencv/assets/3scenes\\forest\\forest_nat367.jpg\n",
      "gurrn opencv/assets/3scenes\\forest\\forest_nat373.jpg\n",
      "gurrn opencv/assets/3scenes\\forest\\forest_nat398.jpg\n",
      "gurrn opencv/assets/3scenes\\forest\\forest_nat400.jpg\n",
      "gurrn opencv/assets/3scenes\\forest\\forest_nat417.jpg\n",
      "gurrn opencv/assets/3scenes\\forest\\forest_nat442.jpg\n",
      "gurrn opencv/assets/3scenes\\forest\\forest_nat449.jpg\n",
      "gurrn opencv/assets/3scenes\\forest\\forest_nat450.jpg\n",
      "gurrn opencv/assets/3scenes\\forest\\forest_nat451.jpg\n",
      "gurrn opencv/assets/3scenes\\forest\\forest_nat452.jpg\n",
      "gurrn opencv/assets/3scenes\\forest\\forest_nat468.jpg\n",
      "gurrn opencv/assets/3scenes\\forest\\forest_nat470.jpg\n",
      "gurrn opencv/assets/3scenes\\forest\\forest_nat619.jpg\n",
      "gurrn opencv/assets/3scenes\\forest\\forest_nat623.jpg\n",
      "gurrn opencv/assets/3scenes\\forest\\forest_nat697.jpg\n",
      "gurrn opencv/assets/3scenes\\forest\\forest_nat715.jpg\n",
      "gurrn opencv/assets/3scenes\\forest\\forest_nat717.jpg\n",
      "gurrn opencv/assets/3scenes\\forest\\forest_nat719.jpg\n",
      "gurrn opencv/assets/3scenes\\forest\\forest_nat763.jpg\n",
      "gurrn opencv/assets/3scenes\\forest\\forest_nat798.jpg\n",
      "gurrn opencv/assets/3scenes\\forest\\forest_nat835.jpg\n",
      "gurrn opencv/assets/3scenes\\forest\\forest_nat851.jpg\n",
      "gurrn opencv/assets/3scenes\\forest\\forest_nat867.jpg\n",
      "gurrn opencv/assets/3scenes\\forest\\forest_nat946.jpg\n",
      "gurrn opencv/assets/3scenes\\forest\\forest_nat982.jpg\n",
      "gurrn opencv/assets/3scenes\\forest\\forest_natc12.jpg\n",
      "gurrn opencv/assets/3scenes\\forest\\forest_natc13.jpg\n",
      "gurrn opencv/assets/3scenes\\forest\\forest_natc37.jpg\n",
      "gurrn opencv/assets/3scenes\\forest\\forest_natc4.jpg\n",
      "gurrn opencv/assets/3scenes\\forest\\forest_natc49.jpg\n",
      "gurrn opencv/assets/3scenes\\forest\\forest_natc52.jpg\n",
      "gurrn opencv/assets/3scenes\\forest\\forest_natu15.jpg\n",
      "gurrn opencv/assets/3scenes\\forest\\forest_natu158.jpg\n",
      "gurrn opencv/assets/3scenes\\forest\\forest_natu161.jpg\n",
      "gurrn opencv/assets/3scenes\\forest\\forest_natu163.jpg\n",
      "gurrn opencv/assets/3scenes\\forest\\forest_natu164.jpg\n",
      "gurrn opencv/assets/3scenes\\forest\\forest_natu169.jpg\n",
      "gurrn opencv/assets/3scenes\\forest\\forest_natu170.jpg\n",
      "gurrn opencv/assets/3scenes\\forest\\forest_natu172.jpg\n",
      "gurrn opencv/assets/3scenes\\forest\\forest_natu18.jpg\n",
      "gurrn opencv/assets/3scenes\\forest\\forest_natu2.jpg\n",
      "gurrn opencv/assets/3scenes\\forest\\forest_natu26.jpg\n",
      "gurrn opencv/assets/3scenes\\forest\\forest_natu28.jpg\n",
      "gurrn opencv/assets/3scenes\\forest\\forest_natu29.jpg\n",
      "gurrn opencv/assets/3scenes\\forest\\forest_natu308.jpg\n",
      "gurrn opencv/assets/3scenes\\forest\\forest_natu31.jpg\n",
      "gurrn opencv/assets/3scenes\\forest\\forest_natu317.jpg\n",
      "gurrn opencv/assets/3scenes\\forest\\forest_natu322.jpg\n",
      "gurrn opencv/assets/3scenes\\forest\\forest_natu325.jpg\n",
      "gurrn opencv/assets/3scenes\\forest\\forest_natu361.jpg\n",
      "gurrn opencv/assets/3scenes\\forest\\forest_natu396.jpg\n",
      "gurrn opencv/assets/3scenes\\forest\\forest_natu402.jpg\n",
      "gurrn opencv/assets/3scenes\\forest\\forest_natu423.jpg\n",
      "gurrn opencv/assets/3scenes\\forest\\forest_natu424.jpg\n",
      "gurrn opencv/assets/3scenes\\forest\\forest_natu425.jpg\n",
      "gurrn opencv/assets/3scenes\\forest\\forest_natu428.jpg\n",
      "gurrn opencv/assets/3scenes\\forest\\forest_natu430.jpg\n",
      "gurrn opencv/assets/3scenes\\forest\\forest_natu439.jpg\n",
      "gurrn opencv/assets/3scenes\\forest\\forest_natu440.jpg\n",
      "gurrn opencv/assets/3scenes\\forest\\forest_natu441.jpg\n",
      "gurrn opencv/assets/3scenes\\forest\\forest_natu443.jpg\n",
      "gurrn opencv/assets/3scenes\\forest\\forest_natu611.jpg\n",
      "gurrn opencv/assets/3scenes\\forest\\forest_natu634.jpg\n",
      "gurrn opencv/assets/3scenes\\forest\\forest_natu696.jpg\n",
      "gurrn opencv/assets/3scenes\\forest\\forest_natu707.jpg\n",
      "gurrn opencv/assets/3scenes\\forest\\forest_natu72.jpg\n",
      "gurrn opencv/assets/3scenes\\forest\\forest_natu723.jpg\n",
      "gurrn opencv/assets/3scenes\\forest\\forest_natu794.jpg\n",
      "gurrn opencv/assets/3scenes\\forest\\forest_natu846.jpg\n",
      "gurrn opencv/assets/3scenes\\forest\\forest_natu847.jpg\n",
      "gurrn opencv/assets/3scenes\\forest\\forest_natu848.jpg\n",
      "gurrn opencv/assets/3scenes\\forest\\forest_natu850.jpg\n",
      "gurrn opencv/assets/3scenes\\forest\\forest_natu860.jpg\n",
      "gurrn opencv/assets/3scenes\\forest\\forest_natu863.jpg\n",
      "gurrn opencv/assets/3scenes\\forest\\forest_natu866.jpg\n",
      "gurrn opencv/assets/3scenes\\forest\\forest_natu869.jpg\n",
      "gurrn opencv/assets/3scenes\\forest\\forest_natu870.jpg\n",
      "gurrn opencv/assets/3scenes\\forest\\forest_natu871.jpg\n",
      "gurrn opencv/assets/3scenes\\forest\\forest_natu895.jpg\n",
      "gurrn opencv/assets/3scenes\\forest\\forest_natu898.jpg\n",
      "gurrn opencv/assets/3scenes\\forest\\forest_natu913.jpg\n",
      "gurrn opencv/assets/3scenes\\forest\\forest_natu934.jpg\n",
      "gurrn opencv/assets/3scenes\\forest\\forest_natu949.jpg\n",
      "gurrn opencv/assets/3scenes\\forest\\forest_natu977.jpg\n",
      "gurrn opencv/assets/3scenes\\forest\\forest_natu994.jpg\n",
      "gurrn opencv/assets/3scenes\\forest\\forest_sclos11.jpg\n",
      "gurrn opencv/assets/3scenes\\forest\\forest_sclos13.jpg\n",
      "gurrn opencv/assets/3scenes\\forest\\forest_tell51.jpg\n",
      "gurrn opencv/assets/3scenes\\forest\\forest_text102.jpg\n",
      "gurrn opencv/assets/3scenes\\forest\\forest_text103.jpg\n",
      "gurrn opencv/assets/3scenes\\forest\\forest_text105.jpg\n",
      "gurrn opencv/assets/3scenes\\forest\\forest_text106.jpg\n",
      "gurrn opencv/assets/3scenes\\forest\\forest_text107.jpg\n",
      "gurrn opencv/assets/3scenes\\forest\\forest_text11.jpg\n",
      "gurrn opencv/assets/3scenes\\forest\\forest_text111.jpg\n",
      "gurrn opencv/assets/3scenes\\forest\\forest_text119.jpg\n",
      "gurrn opencv/assets/3scenes\\forest\\forest_text122.jpg\n",
      "gurrn opencv/assets/3scenes\\forest\\forest_text124.jpg\n",
      "gurrn opencv/assets/3scenes\\forest\\forest_text13.jpg\n",
      "gurrn opencv/assets/3scenes\\forest\\forest_text20.jpg\n",
      "gurrn opencv/assets/3scenes\\forest\\forest_text21.jpg\n",
      "gurrn opencv/assets/3scenes\\forest\\forest_text26.jpg\n",
      "gurrn opencv/assets/3scenes\\forest\\forest_text28.jpg\n",
      "gurrn opencv/assets/3scenes\\forest\\forest_text29.jpg\n",
      "gurrn opencv/assets/3scenes\\forest\\forest_text35.jpg\n",
      "gurrn opencv/assets/3scenes\\forest\\forest_text38.jpg\n",
      "gurrn opencv/assets/3scenes\\forest\\forest_text39.jpg\n",
      "gurrn opencv/assets/3scenes\\forest\\forest_text40.jpg\n",
      "gurrn opencv/assets/3scenes\\forest\\forest_text41.jpg\n",
      "gurrn opencv/assets/3scenes\\forest\\forest_text42.jpg\n",
      "gurrn opencv/assets/3scenes\\forest\\forest_text43.jpg\n",
      "gurrn opencv/assets/3scenes\\forest\\forest_text44.jpg\n",
      "gurrn opencv/assets/3scenes\\forest\\forest_text45.jpg\n",
      "gurrn opencv/assets/3scenes\\forest\\forest_text46.jpg\n",
      "gurrn opencv/assets/3scenes\\forest\\forest_text47.jpg\n",
      "gurrn opencv/assets/3scenes\\forest\\forest_text48.jpg\n",
      "gurrn opencv/assets/3scenes\\forest\\forest_text49.jpg\n",
      "gurrn opencv/assets/3scenes\\forest\\forest_text50.jpg\n",
      "gurrn opencv/assets/3scenes\\forest\\forest_text63.jpg\n",
      "gurrn opencv/assets/3scenes\\forest\\forest_text75.jpg\n",
      "gurrn opencv/assets/3scenes\\forest\\forest_text81.jpg\n",
      "gurrn opencv/assets/3scenes\\forest\\forest_text90.jpg\n",
      "gurrn opencv/assets/3scenes\\forest\\forest_urb753.jpg\n",
      "gurrn opencv/assets/3scenes\\forest\\forest_urb767.jpg\n",
      "gurrn opencv/assets/3scenes\\highway\\highway_a836030.jpg\n",
      "gurrn opencv/assets/3scenes\\highway\\highway_a866041.jpg\n",
      "gurrn opencv/assets/3scenes\\highway\\highway_a866042.jpg\n",
      "gurrn opencv/assets/3scenes\\highway\\highway_a866047.jpg\n",
      "gurrn opencv/assets/3scenes\\highway\\highway_a866048.jpg\n",
      "gurrn opencv/assets/3scenes\\highway\\highway_art1134.jpg\n",
      "gurrn opencv/assets/3scenes\\highway\\highway_art1204.jpg\n",
      "gurrn opencv/assets/3scenes\\highway\\highway_art1673.jpg\n",
      "gurrn opencv/assets/3scenes\\highway\\highway_art1674.jpg\n",
      "gurrn opencv/assets/3scenes\\highway\\highway_art1679.jpg\n",
      "gurrn opencv/assets/3scenes\\highway\\highway_art1682.jpg\n",
      "gurrn opencv/assets/3scenes\\highway\\highway_art1693.jpg\n",
      "gurrn opencv/assets/3scenes\\highway\\highway_art1696.jpg\n",
      "gurrn opencv/assets/3scenes\\highway\\highway_art237.jpg\n",
      "gurrn opencv/assets/3scenes\\highway\\highway_art238.jpg\n",
      "gurrn opencv/assets/3scenes\\highway\\highway_art250.jpg\n",
      "gurrn opencv/assets/3scenes\\highway\\highway_art252.jpg\n",
      "gurrn opencv/assets/3scenes\\highway\\highway_art254.jpg\n",
      "gurrn opencv/assets/3scenes\\highway\\highway_art255.jpg\n",
      "gurrn opencv/assets/3scenes\\highway\\highway_art328.jpg\n",
      "gurrn opencv/assets/3scenes\\highway\\highway_art336.jpg\n",
      "gurrn opencv/assets/3scenes\\highway\\highway_art489.jpg\n",
      "gurrn opencv/assets/3scenes\\highway\\highway_art558.jpg\n",
      "gurrn opencv/assets/3scenes\\highway\\highway_art563.jpg\n",
      "gurrn opencv/assets/3scenes\\highway\\highway_art568.jpg\n",
      "gurrn opencv/assets/3scenes\\highway\\highway_art576.jpg\n",
      "gurrn opencv/assets/3scenes\\highway\\highway_art579.jpg\n",
      "gurrn opencv/assets/3scenes\\highway\\highway_art580.jpg\n",
      "gurrn opencv/assets/3scenes\\highway\\highway_art596.jpg\n",
      "gurrn opencv/assets/3scenes\\highway\\highway_art608.jpg\n",
      "gurrn opencv/assets/3scenes\\highway\\highway_art773.jpg\n",
      "gurrn opencv/assets/3scenes\\highway\\highway_art803.jpg\n",
      "gurrn opencv/assets/3scenes\\highway\\highway_art813.jpg\n",
      "gurrn opencv/assets/3scenes\\highway\\highway_art820.jpg\n",
      "gurrn opencv/assets/3scenes\\highway\\highway_art874.jpg\n",
      "gurrn opencv/assets/3scenes\\highway\\highway_art885.jpg\n",
      "gurrn opencv/assets/3scenes\\highway\\highway_art890.jpg\n",
      "gurrn opencv/assets/3scenes\\highway\\highway_bost147.jpg\n",
      "gurrn opencv/assets/3scenes\\highway\\highway_bost148.jpg\n",
      "gurrn opencv/assets/3scenes\\highway\\highway_bost149.jpg\n",
      "gurrn opencv/assets/3scenes\\highway\\highway_bost150.jpg\n",
      "gurrn opencv/assets/3scenes\\highway\\highway_bost151.jpg\n",
      "gurrn opencv/assets/3scenes\\highway\\highway_bost152.jpg\n",
      "gurrn opencv/assets/3scenes\\highway\\highway_bost153.jpg\n",
      "gurrn opencv/assets/3scenes\\highway\\highway_bost154.jpg\n",
      "gurrn opencv/assets/3scenes\\highway\\highway_bost155.jpg\n",
      "gurrn opencv/assets/3scenes\\highway\\highway_bost156.jpg\n",
      "gurrn opencv/assets/3scenes\\highway\\highway_bost157.jpg\n",
      "gurrn opencv/assets/3scenes\\highway\\highway_bost158.jpg\n",
      "gurrn opencv/assets/3scenes\\highway\\highway_bost159.jpg\n",
      "gurrn opencv/assets/3scenes\\highway\\highway_bost160.jpg\n",
      "gurrn opencv/assets/3scenes\\highway\\highway_bost161.jpg\n",
      "gurrn opencv/assets/3scenes\\highway\\highway_bost162.jpg\n",
      "gurrn opencv/assets/3scenes\\highway\\highway_bost163.jpg\n",
      "gurrn opencv/assets/3scenes\\highway\\highway_bost164.jpg\n",
      "gurrn opencv/assets/3scenes\\highway\\highway_bost165.jpg\n",
      "gurrn opencv/assets/3scenes\\highway\\highway_bost166.jpg\n",
      "gurrn opencv/assets/3scenes\\highway\\highway_bost167.jpg\n",
      "gurrn opencv/assets/3scenes\\highway\\highway_bost168.jpg\n",
      "gurrn opencv/assets/3scenes\\highway\\highway_bost169.jpg\n",
      "gurrn opencv/assets/3scenes\\highway\\highway_bost170.jpg\n",
      "gurrn opencv/assets/3scenes\\highway\\highway_bost171.jpg\n",
      "gurrn opencv/assets/3scenes\\highway\\highway_bost172.jpg\n",
      "gurrn opencv/assets/3scenes\\highway\\highway_bost173.jpg\n",
      "gurrn opencv/assets/3scenes\\highway\\highway_bost174.jpg\n",
      "gurrn opencv/assets/3scenes\\highway\\highway_bost175.jpg\n",
      "gurrn opencv/assets/3scenes\\highway\\highway_bost176.jpg\n",
      "gurrn opencv/assets/3scenes\\highway\\highway_bost177.jpg\n",
      "gurrn opencv/assets/3scenes\\highway\\highway_bost178.jpg\n",
      "gurrn opencv/assets/3scenes\\highway\\highway_bost179.jpg\n",
      "gurrn opencv/assets/3scenes\\highway\\highway_bost180.jpg\n",
      "gurrn opencv/assets/3scenes\\highway\\highway_bost181.jpg\n",
      "gurrn opencv/assets/3scenes\\highway\\highway_bost182.jpg\n",
      "gurrn opencv/assets/3scenes\\highway\\highway_bost183.jpg\n",
      "gurrn opencv/assets/3scenes\\highway\\highway_bost184.jpg\n",
      "gurrn opencv/assets/3scenes\\highway\\highway_bost185.jpg\n",
      "gurrn opencv/assets/3scenes\\highway\\highway_bost186.jpg\n",
      "gurrn opencv/assets/3scenes\\highway\\highway_bost187.jpg\n",
      "gurrn opencv/assets/3scenes\\highway\\highway_bost290.jpg\n",
      "gurrn opencv/assets/3scenes\\highway\\highway_bost291.jpg\n",
      "gurrn opencv/assets/3scenes\\highway\\highway_bost292.jpg\n",
      "gurrn opencv/assets/3scenes\\highway\\highway_bost293.jpg\n",
      "gurrn opencv/assets/3scenes\\highway\\highway_bost294.jpg\n",
      "gurrn opencv/assets/3scenes\\highway\\highway_bost295.jpg\n",
      "gurrn opencv/assets/3scenes\\highway\\highway_bost296.jpg\n",
      "gurrn opencv/assets/3scenes\\highway\\highway_bost297.jpg\n",
      "gurrn opencv/assets/3scenes\\highway\\highway_bost298.jpg\n",
      "gurrn opencv/assets/3scenes\\highway\\highway_bost299.jpg\n",
      "gurrn opencv/assets/3scenes\\highway\\highway_bost300.jpg\n",
      "gurrn opencv/assets/3scenes\\highway\\highway_bost301.jpg\n",
      "gurrn opencv/assets/3scenes\\highway\\highway_bost302.jpg\n",
      "gurrn opencv/assets/3scenes\\highway\\highway_bost303.jpg\n",
      "gurrn opencv/assets/3scenes\\highway\\highway_bost304.jpg\n",
      "gurrn opencv/assets/3scenes\\highway\\highway_bost305.jpg\n",
      "gurrn opencv/assets/3scenes\\highway\\highway_bost306.jpg\n",
      "gurrn opencv/assets/3scenes\\highway\\highway_bost307.jpg\n",
      "gurrn opencv/assets/3scenes\\highway\\highway_bost308.jpg\n",
      "gurrn opencv/assets/3scenes\\highway\\highway_bost309.jpg\n",
      "gurrn opencv/assets/3scenes\\highway\\highway_bost310.jpg\n",
      "gurrn opencv/assets/3scenes\\highway\\highway_bost311.jpg\n",
      "gurrn opencv/assets/3scenes\\highway\\highway_bost312.jpg\n",
      "gurrn opencv/assets/3scenes\\highway\\highway_bost313.jpg\n",
      "gurrn opencv/assets/3scenes\\highway\\highway_bost314.jpg\n",
      "gurrn opencv/assets/3scenes\\highway\\highway_bost315.jpg\n",
      "gurrn opencv/assets/3scenes\\highway\\highway_bost316.jpg\n",
      "gurrn opencv/assets/3scenes\\highway\\highway_bost317.jpg\n",
      "gurrn opencv/assets/3scenes\\highway\\highway_bost318.jpg\n",
      "gurrn opencv/assets/3scenes\\highway\\highway_bost319.jpg\n",
      "gurrn opencv/assets/3scenes\\highway\\highway_bost320.jpg\n",
      "gurrn opencv/assets/3scenes\\highway\\highway_bost321.jpg\n",
      "gurrn opencv/assets/3scenes\\highway\\highway_bost322.jpg\n",
      "gurrn opencv/assets/3scenes\\highway\\highway_bost323.jpg\n",
      "gurrn opencv/assets/3scenes\\highway\\highway_bost324.jpg\n",
      "gurrn opencv/assets/3scenes\\highway\\highway_bost325.jpg\n",
      "gurrn opencv/assets/3scenes\\highway\\highway_bost326.jpg\n",
      "gurrn opencv/assets/3scenes\\highway\\highway_bost329.jpg\n",
      "gurrn opencv/assets/3scenes\\highway\\highway_bost330.jpg\n",
      "gurrn opencv/assets/3scenes\\highway\\highway_bost331.jpg\n",
      "gurrn opencv/assets/3scenes\\highway\\highway_bost332.jpg\n",
      "gurrn opencv/assets/3scenes\\highway\\highway_bost334.jpg\n",
      "gurrn opencv/assets/3scenes\\highway\\highway_bost335.jpg\n",
      "gurrn opencv/assets/3scenes\\highway\\highway_bost336.jpg\n",
      "gurrn opencv/assets/3scenes\\highway\\highway_bost374.jpg\n",
      "gurrn opencv/assets/3scenes\\highway\\highway_bost387.jpg\n",
      "gurrn opencv/assets/3scenes\\highway\\highway_bost389.jpg\n",
      "gurrn opencv/assets/3scenes\\highway\\highway_bost392.jpg\n",
      "gurrn opencv/assets/3scenes\\highway\\highway_bost393.jpg\n",
      "gurrn opencv/assets/3scenes\\highway\\highway_bost394.jpg\n",
      "gurrn opencv/assets/3scenes\\highway\\highway_bost395.jpg\n",
      "gurrn opencv/assets/3scenes\\highway\\highway_bost397.jpg\n",
      "gurrn opencv/assets/3scenes\\highway\\highway_bost398.jpg\n",
      "gurrn opencv/assets/3scenes\\highway\\highway_bost402.jpg\n",
      "gurrn opencv/assets/3scenes\\highway\\highway_bost403.jpg\n",
      "gurrn opencv/assets/3scenes\\highway\\highway_gre125.jpg\n",
      "gurrn opencv/assets/3scenes\\highway\\highway_gre140.jpg\n",
      "gurrn opencv/assets/3scenes\\highway\\highway_gre141.jpg\n",
      "gurrn opencv/assets/3scenes\\highway\\highway_gre144.jpg\n",
      "gurrn opencv/assets/3scenes\\highway\\highway_gre145.jpg\n",
      "gurrn opencv/assets/3scenes\\highway\\highway_gre147.jpg\n",
      "gurrn opencv/assets/3scenes\\highway\\highway_gre149.jpg\n",
      "gurrn opencv/assets/3scenes\\highway\\highway_gre153.jpg\n",
      "gurrn opencv/assets/3scenes\\highway\\highway_gre155.jpg\n",
      "gurrn opencv/assets/3scenes\\highway\\highway_gre239.jpg\n",
      "gurrn opencv/assets/3scenes\\highway\\highway_gre275.jpg\n",
      "gurrn opencv/assets/3scenes\\highway\\highway_gre277.jpg\n",
      "gurrn opencv/assets/3scenes\\highway\\highway_gre279.jpg\n",
      "gurrn opencv/assets/3scenes\\highway\\highway_gre30.jpg\n",
      "gurrn opencv/assets/3scenes\\highway\\highway_gre35.jpg\n",
      "gurrn opencv/assets/3scenes\\highway\\highway_gre36.jpg\n",
      "gurrn opencv/assets/3scenes\\highway\\highway_gre37.jpg\n",
      "gurrn opencv/assets/3scenes\\highway\\highway_gre40.jpg\n",
      "gurrn opencv/assets/3scenes\\highway\\highway_gre400.jpg\n",
      "gurrn opencv/assets/3scenes\\highway\\highway_gre402.jpg\n",
      "gurrn opencv/assets/3scenes\\highway\\highway_gre403.jpg\n",
      "gurrn opencv/assets/3scenes\\highway\\highway_gre404.jpg\n",
      "gurrn opencv/assets/3scenes\\highway\\highway_gre406.jpg\n",
      "gurrn opencv/assets/3scenes\\highway\\highway_gre407.jpg\n",
      "gurrn opencv/assets/3scenes\\highway\\highway_gre408.jpg\n",
      "gurrn opencv/assets/3scenes\\highway\\highway_gre409.jpg\n",
      "gurrn opencv/assets/3scenes\\highway\\highway_gre41.jpg\n",
      "gurrn opencv/assets/3scenes\\highway\\highway_gre410.jpg\n",
      "gurrn opencv/assets/3scenes\\highway\\highway_gre411.jpg\n",
      "gurrn opencv/assets/3scenes\\highway\\highway_gre413.jpg\n",
      "gurrn opencv/assets/3scenes\\highway\\highway_gre414.jpg\n",
      "gurrn opencv/assets/3scenes\\highway\\highway_gre415.jpg\n",
      "gurrn opencv/assets/3scenes\\highway\\highway_gre42.jpg\n",
      "gurrn opencv/assets/3scenes\\highway\\highway_gre420.jpg\n",
      "gurrn opencv/assets/3scenes\\highway\\highway_gre426.jpg\n",
      "gurrn opencv/assets/3scenes\\highway\\highway_gre45.jpg\n",
      "gurrn opencv/assets/3scenes\\highway\\highway_gre458.jpg\n",
      "gurrn opencv/assets/3scenes\\highway\\highway_gre459.jpg\n",
      "gurrn opencv/assets/3scenes\\highway\\highway_gre46.jpg\n",
      "gurrn opencv/assets/3scenes\\highway\\highway_gre462.jpg\n",
      "gurrn opencv/assets/3scenes\\highway\\highway_gre466.jpg\n",
      "gurrn opencv/assets/3scenes\\highway\\highway_gre467.jpg\n",
      "gurrn opencv/assets/3scenes\\highway\\highway_gre470.jpg\n",
      "gurrn opencv/assets/3scenes\\highway\\highway_gre472.jpg\n",
      "gurrn opencv/assets/3scenes\\highway\\highway_gre473.jpg\n",
      "gurrn opencv/assets/3scenes\\highway\\highway_gre474.jpg\n",
      "gurrn opencv/assets/3scenes\\highway\\highway_gre475.jpg\n",
      "gurrn opencv/assets/3scenes\\highway\\highway_gre476.jpg\n",
      "gurrn opencv/assets/3scenes\\highway\\highway_gre478.jpg\n",
      "gurrn opencv/assets/3scenes\\highway\\highway_gre479.jpg\n",
      "gurrn opencv/assets/3scenes\\highway\\highway_gre48.jpg\n",
      "gurrn opencv/assets/3scenes\\highway\\highway_gre480.jpg\n",
      "gurrn opencv/assets/3scenes\\highway\\highway_gre481.jpg\n",
      "gurrn opencv/assets/3scenes\\highway\\highway_gre484.jpg\n",
      "gurrn opencv/assets/3scenes\\highway\\highway_gre485.jpg\n",
      "gurrn opencv/assets/3scenes\\highway\\highway_gre491.jpg\n",
      "gurrn opencv/assets/3scenes\\highway\\highway_gre492.jpg\n",
      "gurrn opencv/assets/3scenes\\highway\\highway_gre493.jpg\n",
      "gurrn opencv/assets/3scenes\\highway\\highway_gre50.jpg\n",
      "gurrn opencv/assets/3scenes\\highway\\highway_gre504.jpg\n",
      "gurrn opencv/assets/3scenes\\highway\\highway_gre52.jpg\n",
      "gurrn opencv/assets/3scenes\\highway\\highway_gre525.jpg\n",
      "gurrn opencv/assets/3scenes\\highway\\highway_gre53.jpg\n",
      "gurrn opencv/assets/3scenes\\highway\\highway_gre530.jpg\n",
      "gurrn opencv/assets/3scenes\\highway\\highway_gre532.jpg\n",
      "gurrn opencv/assets/3scenes\\highway\\highway_gre533.jpg\n",
      "gurrn opencv/assets/3scenes\\highway\\highway_gre536.jpg\n",
      "gurrn opencv/assets/3scenes\\highway\\highway_gre537.jpg\n",
      "gurrn opencv/assets/3scenes\\highway\\highway_gre538.jpg\n",
      "gurrn opencv/assets/3scenes\\highway\\highway_gre541.jpg\n",
      "gurrn opencv/assets/3scenes\\highway\\highway_gre55.jpg\n",
      "gurrn opencv/assets/3scenes\\highway\\highway_gre58.jpg\n",
      "gurrn opencv/assets/3scenes\\highway\\highway_gre609.jpg\n",
      "gurrn opencv/assets/3scenes\\highway\\highway_gre610.jpg\n",
      "gurrn opencv/assets/3scenes\\highway\\highway_gre644.jpg\n",
      "gurrn opencv/assets/3scenes\\highway\\highway_gre645.jpg\n",
      "gurrn opencv/assets/3scenes\\highway\\highway_gre646.jpg\n",
      "gurrn opencv/assets/3scenes\\highway\\highway_gre650.jpg\n",
      "gurrn opencv/assets/3scenes\\highway\\highway_gre651.jpg\n",
      "gurrn opencv/assets/3scenes\\highway\\highway_gre656.jpg\n",
      "gurrn opencv/assets/3scenes\\highway\\highway_gre657.jpg\n",
      "gurrn opencv/assets/3scenes\\highway\\highway_gre658.jpg\n",
      "gurrn opencv/assets/3scenes\\highway\\highway_gre659.jpg\n",
      "gurrn opencv/assets/3scenes\\highway\\highway_gre661.jpg\n",
      "gurrn opencv/assets/3scenes\\highway\\highway_gre662.jpg\n",
      "gurrn opencv/assets/3scenes\\highway\\highway_gre678.jpg\n",
      "gurrn opencv/assets/3scenes\\highway\\highway_gre680.jpg\n",
      "gurrn opencv/assets/3scenes\\highway\\highway_gre683.jpg\n",
      "gurrn opencv/assets/3scenes\\highway\\highway_gre684.jpg\n",
      "gurrn opencv/assets/3scenes\\highway\\highway_gre685.jpg\n",
      "gurrn opencv/assets/3scenes\\highway\\highway_land409.jpg\n",
      "gurrn opencv/assets/3scenes\\highway\\highway_land449.jpg\n",
      "gurrn opencv/assets/3scenes\\highway\\highway_land463.jpg\n",
      "gurrn opencv/assets/3scenes\\highway\\highway_land464.jpg\n",
      "gurrn opencv/assets/3scenes\\highway\\highway_n480001.jpg\n",
      "gurrn opencv/assets/3scenes\\highway\\highway_n480020.jpg\n",
      "gurrn opencv/assets/3scenes\\highway\\highway_n480023.jpg\n",
      "gurrn opencv/assets/3scenes\\highway\\highway_n480036.jpg\n",
      "gurrn opencv/assets/3scenes\\highway\\highway_n480045.jpg\n",
      "gurrn opencv/assets/3scenes\\highway\\highway_n480070.jpg\n",
      "gurrn opencv/assets/3scenes\\highway\\highway_nat518.jpg\n",
      "gurrn opencv/assets/3scenes\\highway\\highway_nat520.jpg\n",
      "gurrn opencv/assets/3scenes\\highway\\highway_nat526.jpg\n",
      "gurrn opencv/assets/3scenes\\highway\\highway_nat533.jpg\n",
      "gurrn opencv/assets/3scenes\\highway\\highway_nat542.jpg\n",
      "gurrn opencv/assets/3scenes\\highway\\highway_nat543.jpg\n",
      "gurrn opencv/assets/3scenes\\highway\\highway_nat546.jpg\n",
      "gurrn opencv/assets/3scenes\\highway\\highway_nat550.jpg\n",
      "gurrn opencv/assets/3scenes\\highway\\highway_natu778.jpg\n",
      "gurrn opencv/assets/3scenes\\highway\\highway_natu787.jpg\n",
      "gurrn opencv/assets/3scenes\\highway\\highway_par23.jpg\n",
      "gurrn opencv/assets/3scenes\\highway\\highway_urb471.jpg\n",
      "gurrn opencv/assets/3scenes\\highway\\highway_urb537.jpg\n",
      "gurrn opencv/assets/3scenes\\highway\\highway_urb545.jpg\n",
      "gurrn opencv/assets/3scenes\\highway\\highway_urb681.jpg\n",
      "gurrn opencv/assets/3scenes\\highway\\highway_urb710.jpg\n",
      "gurrn opencv/assets/3scenes\\highway\\highway_urb713.jpg\n",
      "gurrn opencv/assets/3scenes\\highway\\highway_urb714.jpg\n",
      "gurrn opencv/assets/3scenes\\highway\\highway_urb715.jpg\n",
      "gurrn opencv/assets/3scenes\\highway\\highway_urb716.jpg\n",
      "gurrn opencv/assets/3scenes\\highway\\highway_urb720.jpg\n",
      "gurrn opencv/assets/3scenes\\highway\\highway_urb743.jpg\n",
      "gurrn opencv/assets/3scenes\\highway\\highway_urb744.jpg\n",
      "gurrn opencv/assets/3scenes\\highway\\highway_urb754.jpg\n",
      "gurrn opencv/assets/3scenes\\highway\\highway_urb759.jpg\n",
      "gurrn opencv/assets/3scenes\\highway\\highway_urb784.jpg\n",
      "gurrn opencv/assets/3scenes\\highway\\highway_urb962.jpg\n"
     ]
    }
   ],
   "source": [
    "# 이미지 파일만 찾아준다.\n",
    "for i in paths.list_images(\"gurrn opencv/assets/3scenes\"):\n",
    "    print(i)"
   ]
  },
  {
   "cell_type": "code",
   "execution_count": 163,
   "metadata": {
    "collapsed": true
   },
   "outputs": [
    {
     "data": {
      "text/plain": [
       "array([[[ 60,  58,  78],\n",
       "        [ 60,  58,  78],\n",
       "        [ 60,  58,  78],\n",
       "        ...,\n",
       "        [ 64,  62,  82],\n",
       "        [ 64,  62,  81],\n",
       "        [ 64,  62,  81]],\n",
       "\n",
       "       [[ 60,  58,  78],\n",
       "        [ 60,  58,  78],\n",
       "        [ 60,  58,  78],\n",
       "        ...,\n",
       "        [ 64,  62,  82],\n",
       "        [ 64,  62,  81],\n",
       "        [ 64,  62,  81]],\n",
       "\n",
       "       [[ 60,  58,  78],\n",
       "        [ 60,  58,  78],\n",
       "        [ 60,  58,  78],\n",
       "        ...,\n",
       "        [ 64,  62,  82],\n",
       "        [ 64,  62,  81],\n",
       "        [ 64,  62,  81]],\n",
       "\n",
       "       ...,\n",
       "\n",
       "       [[118, 162, 185],\n",
       "        [151, 195, 218],\n",
       "        [156, 200, 223],\n",
       "        ...,\n",
       "        [146, 192, 216],\n",
       "        [155, 196, 221],\n",
       "        [126, 167, 190]],\n",
       "\n",
       "       [[122, 163, 185],\n",
       "        [157, 198, 220],\n",
       "        [164, 205, 227],\n",
       "        ...,\n",
       "        [150, 192, 215],\n",
       "        [156, 197, 220],\n",
       "        [128, 167, 189]],\n",
       "\n",
       "       [[ 98, 131, 147],\n",
       "        [124, 157, 173],\n",
       "        [126, 159, 175],\n",
       "        ...,\n",
       "        [121, 158, 178],\n",
       "        [129, 164, 184],\n",
       "        [103, 136, 156]]], dtype=uint8)"
      ]
     },
     "execution_count": 163,
     "metadata": {},
     "output_type": "execute_result"
    }
   ],
   "source": [
    "# url로 이미지 가져오기\n",
    "imutils.url_to_image(\"data:image/jpeg;base64,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\")"
   ]
  },
  {
   "cell_type": "code",
   "execution_count": 166,
   "metadata": {
    "collapsed": true
   },
   "outputs": [
    {
     "name": "stdout",
     "output_type": "stream",
     "text": [
      "1. ACCESS_READ\n",
      "2. FILE_STORAGE_READ\n",
      "3. FileStorage_READ\n",
      "4. IMREAD_ANYCOLOR\n",
      "5. IMREAD_ANYDEPTH\n",
      "6. IMREAD_COLOR\n",
      "7. IMREAD_GRAYSCALE\n",
      "8. IMREAD_IGNORE_ORIENTATION\n",
      "9. IMREAD_LOAD_GDAL\n",
      "10. IMREAD_REDUCED_COLOR_2\n",
      "11. IMREAD_REDUCED_COLOR_4\n",
      "12. IMREAD_REDUCED_COLOR_8\n",
      "13. IMREAD_REDUCED_GRAYSCALE_2\n",
      "14. IMREAD_REDUCED_GRAYSCALE_4\n",
      "15. IMREAD_REDUCED_GRAYSCALE_8\n",
      "16. IMREAD_UNCHANGED\n",
      "17. getNumThreads\n",
      "18. getThreadNum\n",
      "19. haveImageReader\n",
      "20. imread\n",
      "21. imreadmulti\n",
      "22. readOpticalFlow\n",
      "23. setNumThreads\n",
      "24. startWindowThread\n"
     ]
    }
   ],
   "source": [
    "imutils.find_function(\"read\")"
   ]
  },
  {
   "cell_type": "code",
   "execution_count": 169,
   "metadata": {},
   "outputs": [],
   "source": [
    "from sklearn.neighbors import KNeighborsClassifier"
   ]
  },
  {
   "cell_type": "code",
   "execution_count": 170,
   "metadata": {},
   "outputs": [],
   "source": [
    "knn = KNeighborsClassifier()"
   ]
  },
  {
   "cell_type": "code",
   "execution_count": 202,
   "metadata": {
    "collapsed": true
   },
   "outputs": [
    {
     "ename": "ValueError",
     "evalue": "Expected 2D array, got 1D array instead:\narray=[   948 196608].\nReshape your data either using array.reshape(-1, 1) if your data has a single feature or array.reshape(1, -1) if it contains a single sample.",
     "output_type": "error",
     "traceback": [
      "\u001b[1;31m---------------------------------------------------------------------------\u001b[0m",
      "\u001b[1;31mValueError\u001b[0m                                Traceback (most recent call last)",
      "\u001b[1;32m<ipython-input-202-4d85fafec911>\u001b[0m in \u001b[0;36m<module>\u001b[1;34m\u001b[0m\n\u001b[1;32m----> 1\u001b[1;33m \u001b[0mknn\u001b[0m\u001b[1;33m.\u001b[0m\u001b[0mfit\u001b[0m\u001b[1;33m(\u001b[0m\u001b[0mt\u001b[0m\u001b[1;33m.\u001b[0m\u001b[0mreshape\u001b[0m\u001b[1;33m(\u001b[0m\u001b[0mt\u001b[0m\u001b[1;33m.\u001b[0m\u001b[0mshape\u001b[0m\u001b[1;33m[\u001b[0m\u001b[1;36m0\u001b[0m\u001b[1;33m]\u001b[0m\u001b[1;33m,\u001b[0m\u001b[1;33m-\u001b[0m\u001b[1;36m1\u001b[0m\u001b[1;33m)\u001b[0m\u001b[1;33m.\u001b[0m\u001b[0mshape\u001b[0m\u001b[1;33m,\u001b[0m\u001b[0my_\u001b[0m\u001b[1;33m)\u001b[0m\u001b[1;33m\u001b[0m\u001b[1;33m\u001b[0m\u001b[0m\n\u001b[0m",
      "\u001b[1;32m~\\AppData\\Local\\Continuum\\anaconda3\\lib\\site-packages\\sklearn\\neighbors\\base.py\u001b[0m in \u001b[0;36mfit\u001b[1;34m(self, X, y)\u001b[0m\n\u001b[0;32m    890\u001b[0m         \"\"\"\n\u001b[0;32m    891\u001b[0m         \u001b[1;32mif\u001b[0m \u001b[1;32mnot\u001b[0m \u001b[0misinstance\u001b[0m\u001b[1;33m(\u001b[0m\u001b[0mX\u001b[0m\u001b[1;33m,\u001b[0m \u001b[1;33m(\u001b[0m\u001b[0mKDTree\u001b[0m\u001b[1;33m,\u001b[0m \u001b[0mBallTree\u001b[0m\u001b[1;33m)\u001b[0m\u001b[1;33m)\u001b[0m\u001b[1;33m:\u001b[0m\u001b[1;33m\u001b[0m\u001b[1;33m\u001b[0m\u001b[0m\n\u001b[1;32m--> 892\u001b[1;33m             \u001b[0mX\u001b[0m\u001b[1;33m,\u001b[0m \u001b[0my\u001b[0m \u001b[1;33m=\u001b[0m \u001b[0mcheck_X_y\u001b[0m\u001b[1;33m(\u001b[0m\u001b[0mX\u001b[0m\u001b[1;33m,\u001b[0m \u001b[0my\u001b[0m\u001b[1;33m,\u001b[0m \u001b[1;34m\"csr\"\u001b[0m\u001b[1;33m,\u001b[0m \u001b[0mmulti_output\u001b[0m\u001b[1;33m=\u001b[0m\u001b[1;32mTrue\u001b[0m\u001b[1;33m)\u001b[0m\u001b[1;33m\u001b[0m\u001b[1;33m\u001b[0m\u001b[0m\n\u001b[0m\u001b[0;32m    893\u001b[0m \u001b[1;33m\u001b[0m\u001b[0m\n\u001b[0;32m    894\u001b[0m         \u001b[1;32mif\u001b[0m \u001b[0my\u001b[0m\u001b[1;33m.\u001b[0m\u001b[0mndim\u001b[0m \u001b[1;33m==\u001b[0m \u001b[1;36m1\u001b[0m \u001b[1;32mor\u001b[0m \u001b[0my\u001b[0m\u001b[1;33m.\u001b[0m\u001b[0mndim\u001b[0m \u001b[1;33m==\u001b[0m \u001b[1;36m2\u001b[0m \u001b[1;32mand\u001b[0m \u001b[0my\u001b[0m\u001b[1;33m.\u001b[0m\u001b[0mshape\u001b[0m\u001b[1;33m[\u001b[0m\u001b[1;36m1\u001b[0m\u001b[1;33m]\u001b[0m \u001b[1;33m==\u001b[0m \u001b[1;36m1\u001b[0m\u001b[1;33m:\u001b[0m\u001b[1;33m\u001b[0m\u001b[1;33m\u001b[0m\u001b[0m\n",
      "\u001b[1;32m~\\AppData\\Local\\Continuum\\anaconda3\\lib\\site-packages\\sklearn\\utils\\validation.py\u001b[0m in \u001b[0;36mcheck_X_y\u001b[1;34m(X, y, accept_sparse, accept_large_sparse, dtype, order, copy, force_all_finite, ensure_2d, allow_nd, multi_output, ensure_min_samples, ensure_min_features, y_numeric, warn_on_dtype, estimator)\u001b[0m\n\u001b[0;32m    717\u001b[0m                     \u001b[0mensure_min_features\u001b[0m\u001b[1;33m=\u001b[0m\u001b[0mensure_min_features\u001b[0m\u001b[1;33m,\u001b[0m\u001b[1;33m\u001b[0m\u001b[1;33m\u001b[0m\u001b[0m\n\u001b[0;32m    718\u001b[0m                     \u001b[0mwarn_on_dtype\u001b[0m\u001b[1;33m=\u001b[0m\u001b[0mwarn_on_dtype\u001b[0m\u001b[1;33m,\u001b[0m\u001b[1;33m\u001b[0m\u001b[1;33m\u001b[0m\u001b[0m\n\u001b[1;32m--> 719\u001b[1;33m                     estimator=estimator)\n\u001b[0m\u001b[0;32m    720\u001b[0m     \u001b[1;32mif\u001b[0m \u001b[0mmulti_output\u001b[0m\u001b[1;33m:\u001b[0m\u001b[1;33m\u001b[0m\u001b[1;33m\u001b[0m\u001b[0m\n\u001b[0;32m    721\u001b[0m         y = check_array(y, 'csr', force_all_finite=True, ensure_2d=False,\n",
      "\u001b[1;32m~\\AppData\\Local\\Continuum\\anaconda3\\lib\\site-packages\\sklearn\\utils\\validation.py\u001b[0m in \u001b[0;36mcheck_array\u001b[1;34m(array, accept_sparse, accept_large_sparse, dtype, order, copy, force_all_finite, ensure_2d, allow_nd, ensure_min_samples, ensure_min_features, warn_on_dtype, estimator)\u001b[0m\n\u001b[0;32m    519\u001b[0m                     \u001b[1;34m\"Reshape your data either using array.reshape(-1, 1) if \"\u001b[0m\u001b[1;33m\u001b[0m\u001b[1;33m\u001b[0m\u001b[0m\n\u001b[0;32m    520\u001b[0m                     \u001b[1;34m\"your data has a single feature or array.reshape(1, -1) \"\u001b[0m\u001b[1;33m\u001b[0m\u001b[1;33m\u001b[0m\u001b[0m\n\u001b[1;32m--> 521\u001b[1;33m                     \"if it contains a single sample.\".format(array))\n\u001b[0m\u001b[0;32m    522\u001b[0m \u001b[1;33m\u001b[0m\u001b[0m\n\u001b[0;32m    523\u001b[0m         \u001b[1;31m# in the future np.flexible dtypes will be handled like object dtypes\u001b[0m\u001b[1;33m\u001b[0m\u001b[1;33m\u001b[0m\u001b[1;33m\u001b[0m\u001b[0m\n",
      "\u001b[1;31mValueError\u001b[0m: Expected 2D array, got 1D array instead:\narray=[   948 196608].\nReshape your data either using array.reshape(-1, 1) if your data has a single feature or array.reshape(1, -1) if it contains a single sample."
     ]
    }
   ],
   "source": [
    "knn.fit(t.reshape(t.shape[0],-1).shape,y_)"
   ]
  },
  {
   "cell_type": "code",
   "execution_count": 204,
   "metadata": {},
   "outputs": [
    {
     "data": {
      "text/plain": [
       "(948, 196608)"
      ]
     },
     "execution_count": 204,
     "metadata": {},
     "output_type": "execute_result"
    }
   ],
   "source": [
    "t.reshape(t.shape[0],-1).shape"
   ]
  },
  {
   "cell_type": "code",
   "execution_count": 195,
   "metadata": {},
   "outputs": [
    {
     "data": {
      "text/plain": [
       "(948, 256, 256, 3)"
      ]
     },
     "execution_count": 195,
     "metadata": {},
     "output_type": "execute_result"
    }
   ],
   "source": [
    "t.shape"
   ]
  },
  {
   "cell_type": "code",
   "execution_count": 196,
   "metadata": {},
   "outputs": [
    {
     "data": {
      "text/plain": [
       "(948,)"
      ]
     },
     "execution_count": 196,
     "metadata": {},
     "output_type": "execute_result"
    }
   ],
   "source": [
    "t_label.shape"
   ]
  },
  {
   "cell_type": "code",
   "execution_count": 198,
   "metadata": {},
   "outputs": [],
   "source": [
    "from sklearn.preprocessing import LabelEncoder"
   ]
  },
  {
   "cell_type": "code",
   "execution_count": 199,
   "metadata": {},
   "outputs": [],
   "source": [
    "# 라벨 인코더\n",
    "le = LabelEncoder()"
   ]
  },
  {
   "cell_type": "code",
   "execution_count": 200,
   "metadata": {},
   "outputs": [],
   "source": [
    "# 라벨링\n",
    "y_ = le.fit_transform(t_label)"
   ]
  },
  {
   "cell_type": "code",
   "execution_count": 203,
   "metadata": {},
   "outputs": [
    {
     "data": {
      "text/plain": [
       "(948,)"
      ]
     },
     "execution_count": 203,
     "metadata": {},
     "output_type": "execute_result"
    }
   ],
   "source": [
    "y_.shape"
   ]
  },
  {
   "cell_type": "code",
   "execution_count": 207,
   "metadata": {
    "collapsed": true
   },
   "outputs": [
    {
     "data": {
      "text/plain": [
       "array([[[ 0,  0,  3],\n",
       "        [ 0,  1,  5],\n",
       "        [ 0,  0,  6],\n",
       "        ...,\n",
       "        [ 6,  1,  0],\n",
       "        [20, 10, 10],\n",
       "        [ 9,  0,  0]],\n",
       "\n",
       "       [[ 0,  0,  4],\n",
       "        [ 0,  2,  7],\n",
       "        [ 0,  0,  8],\n",
       "        ...,\n",
       "        [17, 12, 11],\n",
       "        [ 9,  4,  3],\n",
       "        [ 8,  0,  0]],\n",
       "\n",
       "       [[ 0,  0,  7],\n",
       "        [ 0,  1,  9],\n",
       "        [ 0,  0, 10],\n",
       "        ...,\n",
       "        [ 3,  1,  1],\n",
       "        [ 2,  0,  0],\n",
       "        [ 6,  4,  4]],\n",
       "\n",
       "       ...,\n",
       "\n",
       "       [[ 1,  0,  2],\n",
       "        [12, 11, 15],\n",
       "        [ 5,  4,  8],\n",
       "        ...,\n",
       "        [ 0,  5, 14],\n",
       "        [ 0,  0,  9],\n",
       "        [ 0,  3, 12]],\n",
       "\n",
       "       [[ 6,  1,  2],\n",
       "        [ 7,  2,  3],\n",
       "        [ 4,  0,  0],\n",
       "        ...,\n",
       "        [ 0,  0,  4],\n",
       "        [ 0,  1,  5],\n",
       "        [ 0,  0,  4]],\n",
       "\n",
       "       [[ 6,  1,  0],\n",
       "        [ 6,  1,  0],\n",
       "        [10,  5,  4],\n",
       "        ...,\n",
       "        [ 0,  1,  2],\n",
       "        [ 2,  1,  3],\n",
       "        [ 1,  0,  2]]], dtype=uint8)"
      ]
     },
     "execution_count": 207,
     "metadata": {},
     "output_type": "execute_result"
    }
   ],
   "source": [
    "temp[0]"
   ]
  },
  {
   "cell_type": "code",
   "execution_count": 213,
   "metadata": {},
   "outputs": [
    {
     "ename": "TypeError",
     "evalue": "data type not understood",
     "output_type": "error",
     "traceback": [
      "\u001b[1;31m---------------------------------------------------------------------------\u001b[0m",
      "\u001b[1;31mTypeError\u001b[0m                                 Traceback (most recent call last)",
      "\u001b[1;32m<ipython-input-213-7ee1eec0fcef>\u001b[0m in \u001b[0;36m<module>\u001b[1;34m\u001b[0m\n\u001b[1;32m----> 1\u001b[1;33m \u001b[1;33m[\u001b[0m\u001b[0mnp\u001b[0m\u001b[1;33m.\u001b[0m\u001b[0mzeros\u001b[0m\u001b[1;33m(\u001b[0m\u001b[1;36m256\u001b[0m\u001b[1;33m,\u001b[0m\u001b[1;36m256\u001b[0m\u001b[1;33m)\u001b[0m\u001b[1;33m.\u001b[0m\u001b[0mappend\u001b[0m\u001b[1;33m(\u001b[0m\u001b[0mi\u001b[0m\u001b[1;33m)\u001b[0m \u001b[1;32mfor\u001b[0m \u001b[0mi\u001b[0m \u001b[1;32min\u001b[0m \u001b[0mtemp\u001b[0m\u001b[1;33m]\u001b[0m\u001b[1;33m\u001b[0m\u001b[1;33m\u001b[0m\u001b[0m\n\u001b[0m",
      "\u001b[1;32m<ipython-input-213-7ee1eec0fcef>\u001b[0m in \u001b[0;36m<listcomp>\u001b[1;34m(.0)\u001b[0m\n\u001b[1;32m----> 1\u001b[1;33m \u001b[1;33m[\u001b[0m\u001b[0mnp\u001b[0m\u001b[1;33m.\u001b[0m\u001b[0mzeros\u001b[0m\u001b[1;33m(\u001b[0m\u001b[1;36m256\u001b[0m\u001b[1;33m,\u001b[0m\u001b[1;36m256\u001b[0m\u001b[1;33m)\u001b[0m\u001b[1;33m.\u001b[0m\u001b[0mappend\u001b[0m\u001b[1;33m(\u001b[0m\u001b[0mi\u001b[0m\u001b[1;33m)\u001b[0m \u001b[1;32mfor\u001b[0m \u001b[0mi\u001b[0m \u001b[1;32min\u001b[0m \u001b[0mtemp\u001b[0m\u001b[1;33m]\u001b[0m\u001b[1;33m\u001b[0m\u001b[1;33m\u001b[0m\u001b[0m\n\u001b[0m",
      "\u001b[1;31mTypeError\u001b[0m: data type not understood"
     ]
    }
   ],
   "source": [
    "[np.zeros(256,256).append(i) for i in temp]"
   ]
  },
  {
   "cell_type": "code",
   "execution_count": 219,
   "metadata": {},
   "outputs": [],
   "source": [
    "start = np.zeros((256,256,3))"
   ]
  },
  {
   "cell_type": "code",
   "execution_count": 220,
   "metadata": {
    "collapsed": true
   },
   "outputs": [
    {
     "data": {
      "text/plain": [
       "array([[[ 0.,  0.,  0.],\n",
       "        [ 0.,  0.,  0.],\n",
       "        [ 0.,  0.,  0.],\n",
       "        ...,\n",
       "        [ 0.,  0.,  0.],\n",
       "        [ 0.,  0.,  0.],\n",
       "        [ 0.,  0.,  0.]],\n",
       "\n",
       "       [[ 0.,  0.,  0.],\n",
       "        [ 0.,  0.,  0.],\n",
       "        [ 0.,  0.,  0.],\n",
       "        ...,\n",
       "        [ 0.,  0.,  0.],\n",
       "        [ 0.,  0.,  0.],\n",
       "        [ 0.,  0.,  0.]],\n",
       "\n",
       "       [[ 0.,  0.,  0.],\n",
       "        [ 0.,  0.,  0.],\n",
       "        [ 0.,  0.,  0.],\n",
       "        ...,\n",
       "        [ 0.,  0.,  0.],\n",
       "        [ 0.,  0.,  0.],\n",
       "        [ 0.,  0.,  0.]],\n",
       "\n",
       "       ...,\n",
       "\n",
       "       [[ 1.,  0.,  2.],\n",
       "        [12., 11., 15.],\n",
       "        [ 5.,  4.,  8.],\n",
       "        ...,\n",
       "        [ 0.,  5., 14.],\n",
       "        [ 0.,  0.,  9.],\n",
       "        [ 0.,  3., 12.]],\n",
       "\n",
       "       [[ 6.,  1.,  2.],\n",
       "        [ 7.,  2.,  3.],\n",
       "        [ 4.,  0.,  0.],\n",
       "        ...,\n",
       "        [ 0.,  0.,  4.],\n",
       "        [ 0.,  1.,  5.],\n",
       "        [ 0.,  0.,  4.]],\n",
       "\n",
       "       [[ 6.,  1.,  0.],\n",
       "        [ 6.,  1.,  0.],\n",
       "        [10.,  5.,  4.],\n",
       "        ...,\n",
       "        [ 0.,  1.,  2.],\n",
       "        [ 2.,  1.,  3.],\n",
       "        [ 1.,  0.,  2.]]])"
      ]
     },
     "execution_count": 220,
     "metadata": {},
     "output_type": "execute_result"
    }
   ],
   "source": [
    "np.append(start,temp[0],axis=0)"
   ]
  },
  {
   "cell_type": "code",
   "execution_count": null,
   "metadata": {},
   "outputs": [],
   "source": [
    "np.concatenate"
   ]
  },
  {
   "cell_type": "code",
   "execution_count": 222,
   "metadata": {},
   "outputs": [],
   "source": [
    "for i in temp:\n",
    "    start = np.concatenate([start,i],axis=0)"
   ]
  },
  {
   "cell_type": "code",
   "execution_count": 230,
   "metadata": {},
   "outputs": [
    {
     "data": {
      "text/plain": [
       "(84224, 256, 3)"
      ]
     },
     "execution_count": 230,
     "metadata": {},
     "output_type": "execute_result"
    }
   ],
   "source": [
    "# 각 위치의 자료에 256개의 사진이 3차원으로 존재\n",
    "start.shape"
   ]
  },
  {
   "cell_type": "code",
   "execution_count": 226,
   "metadata": {},
   "outputs": [
    {
     "data": {
      "text/plain": [
       "328"
      ]
     },
     "execution_count": 226,
     "metadata": {},
     "output_type": "execute_result"
    }
   ],
   "source": [
    "len(temp)"
   ]
  },
  {
   "cell_type": "code",
   "execution_count": null,
   "metadata": {},
   "outputs": [],
   "source": [
    "# 데이터를 줄이기위해서 이미지별로 평균값과 표준편차를 구한다."
   ]
  },
  {
   "cell_type": "code",
   "execution_count": 229,
   "metadata": {
    "collapsed": true
   },
   "outputs": [
    {
     "data": {
      "text/plain": [
       "array([[0., 0., 0.],\n",
       "       [0., 0., 0.],\n",
       "       [0., 0., 0.],\n",
       "       [0., 0., 0.],\n",
       "       [0., 0., 0.],\n",
       "       [0., 0., 0.],\n",
       "       [0., 0., 0.],\n",
       "       [0., 0., 0.],\n",
       "       [0., 0., 0.],\n",
       "       [0., 0., 0.],\n",
       "       [0., 0., 0.],\n",
       "       [0., 0., 0.],\n",
       "       [0., 0., 0.],\n",
       "       [0., 0., 0.],\n",
       "       [0., 0., 0.],\n",
       "       [0., 0., 0.],\n",
       "       [0., 0., 0.],\n",
       "       [0., 0., 0.],\n",
       "       [0., 0., 0.],\n",
       "       [0., 0., 0.],\n",
       "       [0., 0., 0.],\n",
       "       [0., 0., 0.],\n",
       "       [0., 0., 0.],\n",
       "       [0., 0., 0.],\n",
       "       [0., 0., 0.],\n",
       "       [0., 0., 0.],\n",
       "       [0., 0., 0.],\n",
       "       [0., 0., 0.],\n",
       "       [0., 0., 0.],\n",
       "       [0., 0., 0.],\n",
       "       [0., 0., 0.],\n",
       "       [0., 0., 0.],\n",
       "       [0., 0., 0.],\n",
       "       [0., 0., 0.],\n",
       "       [0., 0., 0.],\n",
       "       [0., 0., 0.],\n",
       "       [0., 0., 0.],\n",
       "       [0., 0., 0.],\n",
       "       [0., 0., 0.],\n",
       "       [0., 0., 0.],\n",
       "       [0., 0., 0.],\n",
       "       [0., 0., 0.],\n",
       "       [0., 0., 0.],\n",
       "       [0., 0., 0.],\n",
       "       [0., 0., 0.],\n",
       "       [0., 0., 0.],\n",
       "       [0., 0., 0.],\n",
       "       [0., 0., 0.],\n",
       "       [0., 0., 0.],\n",
       "       [0., 0., 0.],\n",
       "       [0., 0., 0.],\n",
       "       [0., 0., 0.],\n",
       "       [0., 0., 0.],\n",
       "       [0., 0., 0.],\n",
       "       [0., 0., 0.],\n",
       "       [0., 0., 0.],\n",
       "       [0., 0., 0.],\n",
       "       [0., 0., 0.],\n",
       "       [0., 0., 0.],\n",
       "       [0., 0., 0.],\n",
       "       [0., 0., 0.],\n",
       "       [0., 0., 0.],\n",
       "       [0., 0., 0.],\n",
       "       [0., 0., 0.],\n",
       "       [0., 0., 0.],\n",
       "       [0., 0., 0.],\n",
       "       [0., 0., 0.],\n",
       "       [0., 0., 0.],\n",
       "       [0., 0., 0.],\n",
       "       [0., 0., 0.],\n",
       "       [0., 0., 0.],\n",
       "       [0., 0., 0.],\n",
       "       [0., 0., 0.],\n",
       "       [0., 0., 0.],\n",
       "       [0., 0., 0.],\n",
       "       [0., 0., 0.],\n",
       "       [0., 0., 0.],\n",
       "       [0., 0., 0.],\n",
       "       [0., 0., 0.],\n",
       "       [0., 0., 0.],\n",
       "       [0., 0., 0.],\n",
       "       [0., 0., 0.],\n",
       "       [0., 0., 0.],\n",
       "       [0., 0., 0.],\n",
       "       [0., 0., 0.],\n",
       "       [0., 0., 0.],\n",
       "       [0., 0., 0.],\n",
       "       [0., 0., 0.],\n",
       "       [0., 0., 0.],\n",
       "       [0., 0., 0.],\n",
       "       [0., 0., 0.],\n",
       "       [0., 0., 0.],\n",
       "       [0., 0., 0.],\n",
       "       [0., 0., 0.],\n",
       "       [0., 0., 0.],\n",
       "       [0., 0., 0.],\n",
       "       [0., 0., 0.],\n",
       "       [0., 0., 0.],\n",
       "       [0., 0., 0.],\n",
       "       [0., 0., 0.],\n",
       "       [0., 0., 0.],\n",
       "       [0., 0., 0.],\n",
       "       [0., 0., 0.],\n",
       "       [0., 0., 0.],\n",
       "       [0., 0., 0.],\n",
       "       [0., 0., 0.],\n",
       "       [0., 0., 0.],\n",
       "       [0., 0., 0.],\n",
       "       [0., 0., 0.],\n",
       "       [0., 0., 0.],\n",
       "       [0., 0., 0.],\n",
       "       [0., 0., 0.],\n",
       "       [0., 0., 0.],\n",
       "       [0., 0., 0.],\n",
       "       [0., 0., 0.],\n",
       "       [0., 0., 0.],\n",
       "       [0., 0., 0.],\n",
       "       [0., 0., 0.],\n",
       "       [0., 0., 0.],\n",
       "       [0., 0., 0.],\n",
       "       [0., 0., 0.],\n",
       "       [0., 0., 0.],\n",
       "       [0., 0., 0.],\n",
       "       [0., 0., 0.],\n",
       "       [0., 0., 0.],\n",
       "       [0., 0., 0.],\n",
       "       [0., 0., 0.],\n",
       "       [0., 0., 0.],\n",
       "       [0., 0., 0.],\n",
       "       [0., 0., 0.],\n",
       "       [0., 0., 0.],\n",
       "       [0., 0., 0.],\n",
       "       [0., 0., 0.],\n",
       "       [0., 0., 0.],\n",
       "       [0., 0., 0.],\n",
       "       [0., 0., 0.],\n",
       "       [0., 0., 0.],\n",
       "       [0., 0., 0.],\n",
       "       [0., 0., 0.],\n",
       "       [0., 0., 0.],\n",
       "       [0., 0., 0.],\n",
       "       [0., 0., 0.],\n",
       "       [0., 0., 0.],\n",
       "       [0., 0., 0.],\n",
       "       [0., 0., 0.],\n",
       "       [0., 0., 0.],\n",
       "       [0., 0., 0.],\n",
       "       [0., 0., 0.],\n",
       "       [0., 0., 0.],\n",
       "       [0., 0., 0.],\n",
       "       [0., 0., 0.],\n",
       "       [0., 0., 0.],\n",
       "       [0., 0., 0.],\n",
       "       [0., 0., 0.],\n",
       "       [0., 0., 0.],\n",
       "       [0., 0., 0.],\n",
       "       [0., 0., 0.],\n",
       "       [0., 0., 0.],\n",
       "       [0., 0., 0.],\n",
       "       [0., 0., 0.],\n",
       "       [0., 0., 0.],\n",
       "       [0., 0., 0.],\n",
       "       [0., 0., 0.],\n",
       "       [0., 0., 0.],\n",
       "       [0., 0., 0.],\n",
       "       [0., 0., 0.],\n",
       "       [0., 0., 0.],\n",
       "       [0., 0., 0.],\n",
       "       [0., 0., 0.],\n",
       "       [0., 0., 0.],\n",
       "       [0., 0., 0.],\n",
       "       [0., 0., 0.],\n",
       "       [0., 0., 0.],\n",
       "       [0., 0., 0.],\n",
       "       [0., 0., 0.],\n",
       "       [0., 0., 0.],\n",
       "       [0., 0., 0.],\n",
       "       [0., 0., 0.],\n",
       "       [0., 0., 0.],\n",
       "       [0., 0., 0.],\n",
       "       [0., 0., 0.],\n",
       "       [0., 0., 0.],\n",
       "       [0., 0., 0.],\n",
       "       [0., 0., 0.],\n",
       "       [0., 0., 0.],\n",
       "       [0., 0., 0.],\n",
       "       [0., 0., 0.],\n",
       "       [0., 0., 0.],\n",
       "       [0., 0., 0.],\n",
       "       [0., 0., 0.],\n",
       "       [0., 0., 0.],\n",
       "       [0., 0., 0.],\n",
       "       [0., 0., 0.],\n",
       "       [0., 0., 0.],\n",
       "       [0., 0., 0.],\n",
       "       [0., 0., 0.],\n",
       "       [0., 0., 0.],\n",
       "       [0., 0., 0.],\n",
       "       [0., 0., 0.],\n",
       "       [0., 0., 0.],\n",
       "       [0., 0., 0.],\n",
       "       [0., 0., 0.],\n",
       "       [0., 0., 0.],\n",
       "       [0., 0., 0.],\n",
       "       [0., 0., 0.],\n",
       "       [0., 0., 0.],\n",
       "       [0., 0., 0.],\n",
       "       [0., 0., 0.],\n",
       "       [0., 0., 0.],\n",
       "       [0., 0., 0.],\n",
       "       [0., 0., 0.],\n",
       "       [0., 0., 0.],\n",
       "       [0., 0., 0.],\n",
       "       [0., 0., 0.],\n",
       "       [0., 0., 0.],\n",
       "       [0., 0., 0.],\n",
       "       [0., 0., 0.],\n",
       "       [0., 0., 0.],\n",
       "       [0., 0., 0.],\n",
       "       [0., 0., 0.],\n",
       "       [0., 0., 0.],\n",
       "       [0., 0., 0.],\n",
       "       [0., 0., 0.],\n",
       "       [0., 0., 0.],\n",
       "       [0., 0., 0.],\n",
       "       [0., 0., 0.],\n",
       "       [0., 0., 0.],\n",
       "       [0., 0., 0.],\n",
       "       [0., 0., 0.],\n",
       "       [0., 0., 0.],\n",
       "       [0., 0., 0.],\n",
       "       [0., 0., 0.],\n",
       "       [0., 0., 0.],\n",
       "       [0., 0., 0.],\n",
       "       [0., 0., 0.],\n",
       "       [0., 0., 0.],\n",
       "       [0., 0., 0.],\n",
       "       [0., 0., 0.],\n",
       "       [0., 0., 0.],\n",
       "       [0., 0., 0.],\n",
       "       [0., 0., 0.],\n",
       "       [0., 0., 0.],\n",
       "       [0., 0., 0.],\n",
       "       [0., 0., 0.],\n",
       "       [0., 0., 0.],\n",
       "       [0., 0., 0.],\n",
       "       [0., 0., 0.],\n",
       "       [0., 0., 0.],\n",
       "       [0., 0., 0.],\n",
       "       [0., 0., 0.],\n",
       "       [0., 0., 0.],\n",
       "       [0., 0., 0.],\n",
       "       [0., 0., 0.],\n",
       "       [0., 0., 0.],\n",
       "       [0., 0., 0.],\n",
       "       [0., 0., 0.]])"
      ]
     },
     "execution_count": 229,
     "metadata": {},
     "output_type": "execute_result"
    }
   ],
   "source": [
    "start[1]"
   ]
  },
  {
   "cell_type": "code",
   "execution_count": 232,
   "metadata": {},
   "outputs": [
    {
     "data": {
      "text/plain": [
       "328"
      ]
     },
     "execution_count": 232,
     "metadata": {},
     "output_type": "execute_result"
    }
   ],
   "source": [
    "len(temp)"
   ]
  },
  {
   "cell_type": "code",
   "execution_count": null,
   "metadata": {},
   "outputs": [],
   "source": [
    "# 데이터가 적을때\n",
    "# 3차원을 -> 1차원을 줄이면 특징을 더 잘 뽑아낼수 있다.\n",
    "# 이미지의 대표성을 찾아서 차원을 줄인다\n",
    "# 편차가 적을때"
   ]
  },
  {
   "cell_type": "code",
   "execution_count": null,
   "metadata": {},
   "outputs": [],
   "source": []
  },
  {
   "cell_type": "code",
   "execution_count": null,
   "metadata": {},
   "outputs": [],
   "source": []
  },
  {
   "cell_type": "code",
   "execution_count": null,
   "metadata": {},
   "outputs": [],
   "source": []
  },
  {
   "cell_type": "code",
   "execution_count": null,
   "metadata": {},
   "outputs": [],
   "source": []
  },
  {
   "cell_type": "code",
   "execution_count": null,
   "metadata": {},
   "outputs": [],
   "source": []
  },
  {
   "cell_type": "code",
   "execution_count": null,
   "metadata": {},
   "outputs": [],
   "source": []
  },
  {
   "cell_type": "code",
   "execution_count": null,
   "metadata": {},
   "outputs": [],
   "source": []
  }
 ],
 "metadata": {
  "kernelspec": {
   "display_name": "Python 3",
   "language": "python",
   "name": "python3"
  },
  "language_info": {
   "codemirror_mode": {
    "name": "ipython",
    "version": 3
   },
   "file_extension": ".py",
   "mimetype": "text/x-python",
   "name": "python",
   "nbconvert_exporter": "python",
   "pygments_lexer": "ipython3",
   "version": "3.7.4"
  }
 },
 "nbformat": 4,
 "nbformat_minor": 2
}
