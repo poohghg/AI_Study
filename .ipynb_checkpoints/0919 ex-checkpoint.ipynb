{
 "cells": [
  {
   "cell_type": "code",
   "execution_count": 5,
   "metadata": {},
   "outputs": [],
   "source": [
    "import sun1"
   ]
  },
  {
   "cell_type": "code",
   "execution_count": 1,
   "metadata": {},
   "outputs": [],
   "source": [
    "import numpy as np\n",
    "# np의 window 개념알기"
   ]
  },
  {
   "cell_type": "code",
   "execution_count": 8,
   "metadata": {},
   "outputs": [],
   "source": [
    "a = np.arange(36).reshape(6,6)"
   ]
  },
  {
   "cell_type": "code",
   "execution_count": 10,
   "metadata": {},
   "outputs": [
    {
     "data": {
      "text/plain": [
       "array([[ 0,  1,  2,  3,  4,  5],\n",
       "       [ 6,  7,  8,  9, 10, 11],\n",
       "       [12, 13, 14, 15, 16, 17],\n",
       "       [18, 19, 20, 21, 22, 23],\n",
       "       [24, 25, 26, 27, 28, 29],\n",
       "       [30, 31, 32, 33, 34, 35]])"
      ]
     },
     "execution_count": 10,
     "metadata": {},
     "output_type": "execute_result"
    }
   ],
   "source": [
    "a"
   ]
  },
  {
   "cell_type": "code",
   "execution_count": 16,
   "metadata": {},
   "outputs": [],
   "source": [
    "from skimage.util import view_as_blocks"
   ]
  },
  {
   "cell_type": "code",
   "execution_count": 17,
   "metadata": {},
   "outputs": [
    {
     "data": {
      "text/plain": [
       "array([[[[ 0,  1,  2],\n",
       "         [ 6,  7,  8],\n",
       "         [12, 13, 14]],\n",
       "\n",
       "        [[ 3,  4,  5],\n",
       "         [ 9, 10, 11],\n",
       "         [15, 16, 17]]],\n",
       "\n",
       "\n",
       "       [[[18, 19, 20],\n",
       "         [24, 25, 26],\n",
       "         [30, 31, 32]],\n",
       "\n",
       "        [[21, 22, 23],\n",
       "         [27, 28, 29],\n",
       "         [33, 34, 35]]]])"
      ]
     },
     "execution_count": 17,
     "metadata": {},
     "output_type": "execute_result"
    }
   ],
   "source": [
    "b"
   ]
  },
  {
   "cell_type": "code",
   "execution_count": 20,
   "metadata": {},
   "outputs": [],
   "source": [
    "b = view_as_blocks(a,(3,3))"
   ]
  },
  {
   "cell_type": "code",
   "execution_count": 54,
   "metadata": {},
   "outputs": [
    {
     "data": {
      "text/plain": [
       "(2, 2, 3, 3)"
      ]
     },
     "execution_count": 54,
     "metadata": {},
     "output_type": "execute_result"
    }
   ],
   "source": [
    "b.shape"
   ]
  },
  {
   "cell_type": "code",
   "execution_count": 55,
   "metadata": {},
   "outputs": [
    {
     "data": {
      "text/plain": [
       "array([[[[ 0,  1,  2],\n",
       "         [ 6,  7,  8],\n",
       "         [12, 13, 14]],\n",
       "\n",
       "        [[ 3,  4,  5],\n",
       "         [ 9, 10, 11],\n",
       "         [15, 16, 17]]],\n",
       "\n",
       "\n",
       "       [[[18, 19, 20],\n",
       "         [24, 25, 26],\n",
       "         [30, 31, 32]],\n",
       "\n",
       "        [[21, 22, 23],\n",
       "         [27, 28, 29],\n",
       "         [33, 34, 35]]]])"
      ]
     },
     "execution_count": 55,
     "metadata": {},
     "output_type": "execute_result"
    }
   ],
   "source": [
    "b"
   ]
  },
  {
   "cell_type": "code",
   "execution_count": 27,
   "metadata": {},
   "outputs": [
    {
     "data": {
      "text/plain": [
       "array([[[ 0,  1,  2],\n",
       "        [ 6,  7,  8],\n",
       "        [12, 13, 14]],\n",
       "\n",
       "       [[ 3,  4,  5],\n",
       "        [ 9, 10, 11],\n",
       "        [15, 16, 17]]])"
      ]
     },
     "execution_count": 27,
     "metadata": {},
     "output_type": "execute_result"
    }
   ],
   "source": [
    "b[0,0,]"
   ]
  },
  {
   "cell_type": "code",
   "execution_count": 49,
   "metadata": {},
   "outputs": [
    {
     "data": {
      "text/plain": [
       "(2, 2, 9)"
      ]
     },
     "execution_count": 49,
     "metadata": {},
     "output_type": "execute_result"
    }
   ],
   "source": [
    "c.shape"
   ]
  },
  {
   "cell_type": "code",
   "execution_count": 51,
   "metadata": {},
   "outputs": [
    {
     "data": {
      "text/plain": [
       "array([[[ 0,  1,  2,  6,  7,  8, 12, 13, 14],\n",
       "        [ 3,  4,  5,  9, 10, 11, 15, 16, 17]],\n",
       "\n",
       "       [[18, 19, 20, 24, 25, 26, 30, 31, 32],\n",
       "        [21, 22, 23, 27, 28, 29, 33, 34, 35]]])"
      ]
     },
     "execution_count": 51,
     "metadata": {},
     "output_type": "execute_result"
    }
   ],
   "source": [
    "c"
   ]
  },
  {
   "cell_type": "code",
   "execution_count": 52,
   "metadata": {},
   "outputs": [
    {
     "data": {
      "text/plain": [
       "array([[[ 0,  1,  2,  6,  7,  8, 12, 13, 14],\n",
       "        [ 3,  4,  5,  9, 10, 11, 15, 16, 17]],\n",
       "\n",
       "       [[18, 19, 20, 24, 25, 26, 30, 31, 32],\n",
       "        [21, 22, 23, 27, 28, 29, 33, 34, 35]]])"
      ]
     },
     "execution_count": 52,
     "metadata": {},
     "output_type": "execute_result"
    }
   ],
   "source": [
    "c"
   ]
  },
  {
   "cell_type": "code",
   "execution_count": 41,
   "metadata": {},
   "outputs": [
    {
     "data": {
      "text/plain": [
       "array([[14, 17],\n",
       "       [32, 35]])"
      ]
     },
     "execution_count": 41,
     "metadata": {},
     "output_type": "execute_result"
    }
   ],
   "source": [
    "np.max(c,axis=2)"
   ]
  },
  {
   "cell_type": "code",
   "execution_count": 42,
   "metadata": {},
   "outputs": [],
   "source": [
    "from skimage.util import view_as_blocks,view_as_windows"
   ]
  },
  {
   "cell_type": "code",
   "execution_count": 43,
   "metadata": {},
   "outputs": [],
   "source": [
    "b = view_as_windows(a,3,3)"
   ]
  },
  {
   "cell_type": "code",
   "execution_count": 44,
   "metadata": {},
   "outputs": [
    {
     "data": {
      "text/plain": [
       "array([[[[ 0,  1,  2],\n",
       "         [ 6,  7,  8],\n",
       "         [12, 13, 14]],\n",
       "\n",
       "        [[ 3,  4,  5],\n",
       "         [ 9, 10, 11],\n",
       "         [15, 16, 17]]],\n",
       "\n",
       "\n",
       "       [[[18, 19, 20],\n",
       "         [24, 25, 26],\n",
       "         [30, 31, 32]],\n",
       "\n",
       "        [[21, 22, 23],\n",
       "         [27, 28, 29],\n",
       "         [33, 34, 35]]]])"
      ]
     },
     "execution_count": 44,
     "metadata": {},
     "output_type": "execute_result"
    }
   ],
   "source": [
    "b"
   ]
  },
  {
   "cell_type": "code",
   "execution_count": 45,
   "metadata": {},
   "outputs": [],
   "source": [
    "import inspect"
   ]
  },
  {
   "cell_type": "code",
   "execution_count": 47,
   "metadata": {},
   "outputs": [
    {
     "name": "stdout",
     "output_type": "stream",
     "text": [
      "def view_as_blocks(arr_in, block_shape):\n",
      "    \"\"\"Block view of the input n-dimensional array (using re-striding).\n",
      "\n",
      "    Blocks are non-overlapping views of the input array.\n",
      "\n",
      "    Parameters\n",
      "    ----------\n",
      "    arr_in : ndarray\n",
      "        N-d input array.\n",
      "    block_shape : tuple\n",
      "        The shape of the block. Each dimension must divide evenly into the\n",
      "        corresponding dimensions of `arr_in`.\n",
      "\n",
      "    Returns\n",
      "    -------\n",
      "    arr_out : ndarray\n",
      "        Block view of the input array.  If `arr_in` is non-contiguous, a copy\n",
      "        is made.\n",
      "\n",
      "    Examples\n",
      "    --------\n",
      "    >>> import numpy as np\n",
      "    >>> from skimage.util.shape import view_as_blocks\n",
      "    >>> A = np.arange(4*4).reshape(4,4)\n",
      "    >>> A\n",
      "    array([[ 0,  1,  2,  3],\n",
      "           [ 4,  5,  6,  7],\n",
      "           [ 8,  9, 10, 11],\n",
      "           [12, 13, 14, 15]])\n",
      "    >>> B = view_as_blocks(A, block_shape=(2, 2))\n",
      "    >>> B[0, 0]\n",
      "    array([[0, 1],\n",
      "           [4, 5]])\n",
      "    >>> B[0, 1]\n",
      "    array([[2, 3],\n",
      "           [6, 7]])\n",
      "    >>> B[1, 0, 1, 1]\n",
      "    13\n",
      "\n",
      "    >>> A = np.arange(4*4*6).reshape(4,4,6)\n",
      "    >>> A  # doctest: +NORMALIZE_WHITESPACE\n",
      "    array([[[ 0,  1,  2,  3,  4,  5],\n",
      "            [ 6,  7,  8,  9, 10, 11],\n",
      "            [12, 13, 14, 15, 16, 17],\n",
      "            [18, 19, 20, 21, 22, 23]],\n",
      "           [[24, 25, 26, 27, 28, 29],\n",
      "            [30, 31, 32, 33, 34, 35],\n",
      "            [36, 37, 38, 39, 40, 41],\n",
      "            [42, 43, 44, 45, 46, 47]],\n",
      "           [[48, 49, 50, 51, 52, 53],\n",
      "            [54, 55, 56, 57, 58, 59],\n",
      "            [60, 61, 62, 63, 64, 65],\n",
      "            [66, 67, 68, 69, 70, 71]],\n",
      "           [[72, 73, 74, 75, 76, 77],\n",
      "            [78, 79, 80, 81, 82, 83],\n",
      "            [84, 85, 86, 87, 88, 89],\n",
      "            [90, 91, 92, 93, 94, 95]]])\n",
      "    >>> B = view_as_blocks(A, block_shape=(1, 2, 2))\n",
      "    >>> B.shape\n",
      "    (4, 2, 3, 1, 2, 2)\n",
      "    >>> B[2:, 0, 2]  # doctest: +NORMALIZE_WHITESPACE\n",
      "    array([[[[52, 53],\n",
      "             [58, 59]]],\n",
      "           [[[76, 77],\n",
      "             [82, 83]]]])\n",
      "    \"\"\"\n",
      "    if not isinstance(block_shape, tuple):\n",
      "        raise TypeError('block needs to be a tuple')\n",
      "\n",
      "    block_shape = np.array(block_shape)\n",
      "    if (block_shape <= 0).any():\n",
      "        raise ValueError(\"'block_shape' elements must be strictly positive\")\n",
      "\n",
      "    if block_shape.size != arr_in.ndim:\n",
      "        raise ValueError(\"'block_shape' must have the same length \"\n",
      "                         \"as 'arr_in.shape'\")\n",
      "\n",
      "    arr_shape = np.array(arr_in.shape)\n",
      "    if (arr_shape % block_shape).sum() != 0:\n",
      "        raise ValueError(\"'block_shape' is not compatible with 'arr_in'\")\n",
      "\n",
      "    # -- restride the array to build the block view\n",
      "\n",
      "    if not arr_in.flags.contiguous:\n",
      "        warn(RuntimeWarning(\"Cannot provide views on a non-contiguous input \"\n",
      "                            \"array without copying.\"))\n",
      "\n",
      "    arr_in = np.ascontiguousarray(arr_in)\n",
      "\n",
      "    new_shape = tuple(arr_shape // block_shape) + tuple(block_shape)\n",
      "    new_strides = tuple(arr_in.strides * block_shape) + arr_in.strides\n",
      "\n",
      "    arr_out = as_strided(arr_in, shape=new_shape, strides=new_strides)\n",
      "\n",
      "    return arr_out\n",
      "\n"
     ]
    }
   ],
   "source": [
    "print(inspect.getsource(view_as_blocks))"
   ]
  },
  {
   "cell_type": "code",
   "execution_count": null,
   "metadata": {},
   "outputs": [],
   "source": []
  }
 ],
 "metadata": {
  "kernelspec": {
   "display_name": "Python 3",
   "language": "python",
   "name": "python3"
  },
  "language_info": {
   "codemirror_mode": {
    "name": "ipython",
    "version": 3
   },
   "file_extension": ".py",
   "mimetype": "text/x-python",
   "name": "python",
   "nbconvert_exporter": "python",
   "pygments_lexer": "ipython3",
   "version": "3.7.4"
  }
 },
 "nbformat": 4,
 "nbformat_minor": 2
}
