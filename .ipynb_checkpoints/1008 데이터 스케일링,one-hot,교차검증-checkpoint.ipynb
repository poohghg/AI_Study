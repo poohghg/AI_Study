{
 "cells": [
  {
   "cell_type": "code",
   "execution_count": 2,
   "metadata": {},
   "outputs": [],
   "source": [
    "from sklearn.datasets import load_iris"
   ]
  },
  {
   "cell_type": "code",
   "execution_count": 4,
   "metadata": {},
   "outputs": [],
   "source": [
    "iris = load_iris()"
   ]
  },
  {
   "cell_type": "code",
   "execution_count": 5,
   "metadata": {},
   "outputs": [],
   "source": [
    "from sklearn.model_selection import train_test_split"
   ]
  },
  {
   "cell_type": "code",
   "execution_count": 107,
   "metadata": {},
   "outputs": [],
   "source": [
    "# 데이터 분류\n",
    "# 정규화를 하지않고 데이터를 분류\n",
    "x_train, x_test, y_train, y_test =train_test_split(iris.data,iris.target)"
   ]
  },
  {
   "cell_type": "code",
   "execution_count": 78,
   "metadata": {},
   "outputs": [
    {
     "data": {
      "text/plain": [
       "(112, 4)"
      ]
     },
     "execution_count": 78,
     "metadata": {},
     "output_type": "execute_result"
    }
   ],
   "source": [
    "x_train.shape"
   ]
  },
  {
   "cell_type": "code",
   "execution_count": 79,
   "metadata": {},
   "outputs": [
    {
     "data": {
      "text/plain": [
       "(112,)"
      ]
     },
     "execution_count": 79,
     "metadata": {},
     "output_type": "execute_result"
    }
   ],
   "source": [
    "y_train.shape"
   ]
  },
  {
   "cell_type": "code",
   "execution_count": 17,
   "metadata": {},
   "outputs": [],
   "source": [
    "from tensorflow.keras.models import Sequential\n",
    "from tensorflow.keras.layers import Dense"
   ]
  },
  {
   "cell_type": "code",
   "execution_count": 108,
   "metadata": {},
   "outputs": [],
   "source": [
    "def build_model():\n",
    "    model = Sequential(name=\"test1\")\n",
    "    model.add(Dense(16,input_shape=(4,),activation=\"relu\" ) )\n",
    "    model.add(Dense(16,activation=\"relu\"))\n",
    "    model.add(Dense(3,activation=\"softmax\"))\n",
    "    model.compile(optimizer=\"adam\",loss=\"sparse_categorical_crossentropy\",\n",
    "                  metrics=[\"acc\"])\n",
    "    \n",
    "    return model"
   ]
  },
  {
   "cell_type": "code",
   "execution_count": 19,
   "metadata": {},
   "outputs": [],
   "source": [
    "# 싸이킷런과 연동되어 쓸 수 있는 모델을 생성\n",
    "from tensorflow.keras.wrappers.scikit_learn import KerasClassifier"
   ]
  },
  {
   "cell_type": "code",
   "execution_count": 109,
   "metadata": {},
   "outputs": [],
   "source": [
    "# 정규화가 되지 않은 모델\n",
    "kc1 = KerasClassifier(build_model,epochs=30)"
   ]
  },
  {
   "cell_type": "code",
   "execution_count": 110,
   "metadata": {},
   "outputs": [
    {
     "name": "stdout",
     "output_type": "stream",
     "text": [
      "Train on 112 samples\n",
      "Epoch 1/30\n",
      "112/112 [==============================] - 0s 4ms/sample - loss: 1.5400 - acc: 0.3036\n",
      "Epoch 2/30\n",
      "112/112 [==============================] - 0s 125us/sample - loss: 1.3461 - acc: 0.3036\n",
      "Epoch 3/30\n",
      "112/112 [==============================] - 0s 125us/sample - loss: 1.1958 - acc: 0.3036\n",
      "Epoch 4/30\n",
      "112/112 [==============================] - 0s 80us/sample - loss: 1.0912 - acc: 0.5179\n",
      "Epoch 5/30\n",
      "112/112 [==============================] - 0s 98us/sample - loss: 1.0193 - acc: 0.6429\n",
      "Epoch 6/30\n",
      "112/112 [==============================] - 0s 179us/sample - loss: 0.9732 - acc: 0.6429\n",
      "Epoch 7/30\n",
      "112/112 [==============================] - 0s 143us/sample - loss: 0.9330 - acc: 0.6339\n",
      "Epoch 8/30\n",
      "112/112 [==============================] - 0s 71us/sample - loss: 0.9074 - acc: 0.5982\n",
      "Epoch 9/30\n",
      "112/112 [==============================] - 0s 116us/sample - loss: 0.8912 - acc: 0.4107\n",
      "Epoch 10/30\n",
      "112/112 [==============================] - 0s 98us/sample - loss: 0.8779 - acc: 0.4911\n",
      "Epoch 11/30\n",
      "112/112 [==============================] - 0s 71us/sample - loss: 0.8678 - acc: 0.5268\n",
      "Epoch 12/30\n",
      "112/112 [==============================] - 0s 107us/sample - loss: 0.8566 - acc: 0.5357\n",
      "Epoch 13/30\n",
      "112/112 [==============================] - 0s 98us/sample - loss: 0.8448 - acc: 0.5536\n",
      "Epoch 14/30\n",
      "112/112 [==============================] - 0s 125us/sample - loss: 0.8332 - acc: 0.5804\n",
      "Epoch 15/30\n",
      "112/112 [==============================] - 0s 98us/sample - loss: 0.8221 - acc: 0.6607\n",
      "Epoch 16/30\n",
      "112/112 [==============================] - 0s 107us/sample - loss: 0.8113 - acc: 0.6786\n",
      "Epoch 17/30\n",
      "112/112 [==============================] - 0s 71us/sample - loss: 0.7998 - acc: 0.7232\n",
      "Epoch 18/30\n",
      "112/112 [==============================] - 0s 107us/sample - loss: 0.7884 - acc: 0.7589\n",
      "Epoch 19/30\n",
      "112/112 [==============================] - 0s 89us/sample - loss: 0.7773 - acc: 0.7768\n",
      "Epoch 20/30\n",
      "112/112 [==============================] - 0s 98us/sample - loss: 0.7656 - acc: 0.8393\n",
      "Epoch 21/30\n",
      "112/112 [==============================] - 0s 80us/sample - loss: 0.7546 - acc: 0.8839\n",
      "Epoch 22/30\n",
      "112/112 [==============================] - 0s 89us/sample - loss: 0.7440 - acc: 0.8839\n",
      "Epoch 23/30\n",
      "112/112 [==============================] - 0s 98us/sample - loss: 0.7313 - acc: 0.8661\n",
      "Epoch 24/30\n",
      "112/112 [==============================] - 0s 80us/sample - loss: 0.7203 - acc: 0.8661\n",
      "Epoch 25/30\n",
      "112/112 [==============================] - 0s 116us/sample - loss: 0.7094 - acc: 0.8750\n",
      "Epoch 26/30\n",
      "112/112 [==============================] - 0s 71us/sample - loss: 0.6971 - acc: 0.8750\n",
      "Epoch 27/30\n",
      "112/112 [==============================] - 0s 98us/sample - loss: 0.6861 - acc: 0.8661\n",
      "Epoch 28/30\n",
      "112/112 [==============================] - 0s 125us/sample - loss: 0.6750 - acc: 0.8304\n",
      "Epoch 29/30\n",
      "112/112 [==============================] - 0s 71us/sample - loss: 0.6651 - acc: 0.8214\n",
      "Epoch 30/30\n",
      "112/112 [==============================] - 0s 89us/sample - loss: 0.6541 - acc: 0.8482\n"
     ]
    },
    {
     "data": {
      "text/plain": [
       "<tensorflow.python.keras.callbacks.History at 0x1efb2648>"
      ]
     },
     "execution_count": 110,
     "metadata": {},
     "output_type": "execute_result"
    }
   ],
   "source": [
    "kc1.fit(x_train,y_train)"
   ]
  },
  {
   "cell_type": "code",
   "execution_count": null,
   "metadata": {},
   "outputs": [],
   "source": [
    "# 원핫 인코딩과 데이터를 정규화후 싸이킷런과 연계된 모델 생성"
   ]
  },
  {
   "cell_type": "code",
   "execution_count": 124,
   "metadata": {},
   "outputs": [],
   "source": [
    "from sklearn.preprocessing import MinMaxScaler,StandardScaler,Normalizer"
   ]
  },
  {
   "cell_type": "code",
   "execution_count": 112,
   "metadata": {},
   "outputs": [],
   "source": [
    "# 정규화 모델 생성\n",
    "mm = MinMaxScaler()"
   ]
  },
  {
   "cell_type": "code",
   "execution_count": 125,
   "metadata": {},
   "outputs": [],
   "source": [
    "# 데이터 표준화 모델 생성\n",
    "ss = StandardScaler()"
   ]
  },
  {
   "cell_type": "code",
   "execution_count": 126,
   "metadata": {},
   "outputs": [],
   "source": [
    "nn = Normalizer()"
   ]
  },
  {
   "cell_type": "code",
   "execution_count": 121,
   "metadata": {},
   "outputs": [],
   "source": [
    "# min-max 모델\n",
    "# 데이터를 일반적으로 0~1 사이의 값으로 변환시켜준다.\n",
    "# 데이터의 최소값, 최대값을 알 경우 사용한다.\n",
    "iris_norm = mm.fit_transform(iris.data)"
   ]
  },
  {
   "cell_type": "code",
   "execution_count": 127,
   "metadata": {},
   "outputs": [],
   "source": [
    "# 데이터 표준화\n",
    "# 제로 평균 으로부터 각 값들의 분산을 나타낸다\n",
    "# 스케일이 다른 변수들을 비교할때 사용\n",
    "# 기존 변수에 범위를 정규 분포로 변환한다.\n",
    "iris_norm1 = ss.fit_transform(iris.data)"
   ]
  },
  {
   "cell_type": "code",
   "execution_count": 128,
   "metadata": {},
   "outputs": [],
   "source": [
    "# 데이터 정규화\n",
    "# 정규화는 데이터의 범위를 0과 1로 변환하여 데이터 분포를 조정하는 방법이다. \n",
    "iris_norm2 = nn.fit_transform(iris.data)"
   ]
  },
  {
   "cell_type": "code",
   "execution_count": 129,
   "metadata": {},
   "outputs": [],
   "source": [
    "x_train,x_test,y_train,y_test = train_test_split(iris_norm2,iris.target)"
   ]
  },
  {
   "cell_type": "code",
   "execution_count": 99,
   "metadata": {
    "scrolled": true
   },
   "outputs": [
    {
     "data": {
      "text/plain": [
       "(112, 4)"
      ]
     },
     "execution_count": 99,
     "metadata": {},
     "output_type": "execute_result"
    }
   ],
   "source": [
    "x_train.shape"
   ]
  },
  {
   "cell_type": "code",
   "execution_count": 100,
   "metadata": {},
   "outputs": [
    {
     "data": {
      "text/plain": [
       "(112,)"
      ]
     },
     "execution_count": 100,
     "metadata": {},
     "output_type": "execute_result"
    }
   ],
   "source": [
    "y_train.shape"
   ]
  },
  {
   "cell_type": "code",
   "execution_count": 101,
   "metadata": {},
   "outputs": [],
   "source": [
    "# 케라스 유틸을 사용\n",
    "from tensorflow.keras.utils import to_categorical"
   ]
  },
  {
   "cell_type": "code",
   "execution_count": 102,
   "metadata": {},
   "outputs": [],
   "source": [
    "# one-hot 인코딩\n",
    "y_train_one = to_categorical(y_train)"
   ]
  },
  {
   "cell_type": "code",
   "execution_count": 103,
   "metadata": {},
   "outputs": [
    {
     "data": {
      "text/plain": [
       "(112, 3)"
      ]
     },
     "execution_count": 103,
     "metadata": {},
     "output_type": "execute_result"
    }
   ],
   "source": [
    "y_train_one.shape"
   ]
  },
  {
   "cell_type": "code",
   "execution_count": 104,
   "metadata": {},
   "outputs": [],
   "source": [
    "def build_model1():\n",
    "    model = Sequential(name=\"gkdl\")\n",
    "    model.add(Dense(16,input_shape=(4,),activation=\"relu\" ) )\n",
    "    model.add(Dense(16,activation=\"relu\"))\n",
    "    model.add(Dense(3,activation=\"softmax\"))\n",
    "    model.compile(optimizer=\"adam\",loss=\"sparse_categorical_crossentropy\",metrics=[\"acc\"])\n",
    "    \n",
    "    return model"
   ]
  },
  {
   "cell_type": "code",
   "execution_count": 105,
   "metadata": {},
   "outputs": [],
   "source": [
    "kc2 = KerasClassifier(build_fn = build_model1)"
   ]
  },
  {
   "cell_type": "code",
   "execution_count": 120,
   "metadata": {},
   "outputs": [
    {
     "name": "stdout",
     "output_type": "stream",
     "text": [
      "Train on 112 samples\n",
      "Epoch 1/30\n",
      "112/112 [==============================] - 0s 4ms/sample - loss: 1.1502 - acc: 0.4911\n",
      "Epoch 2/30\n",
      "112/112 [==============================] - 0s 161us/sample - loss: 1.1148 - acc: 0.5268\n",
      "Epoch 3/30\n",
      "112/112 [==============================] - 0s 125us/sample - loss: 1.0810 - acc: 0.5804\n",
      "Epoch 4/30\n",
      "112/112 [==============================] - 0s 98us/sample - loss: 1.0483 - acc: 0.5804\n",
      "Epoch 5/30\n",
      "112/112 [==============================] - 0s 98us/sample - loss: 1.0166 - acc: 0.6161\n",
      "Epoch 6/30\n",
      "112/112 [==============================] - 0s 63us/sample - loss: 0.9862 - acc: 0.6161\n",
      "Epoch 7/30\n",
      "112/112 [==============================] - 0s 107us/sample - loss: 0.9572 - acc: 0.6161\n",
      "Epoch 8/30\n",
      "112/112 [==============================] - 0s 125us/sample - loss: 0.9289 - acc: 0.6696\n",
      "Epoch 9/30\n",
      "112/112 [==============================] - 0s 107us/sample - loss: 0.9008 - acc: 0.7143\n",
      "Epoch 10/30\n",
      "112/112 [==============================] - 0s 116us/sample - loss: 0.8743 - acc: 0.7411\n",
      "Epoch 11/30\n",
      "112/112 [==============================] - 0s 63us/sample - loss: 0.8494 - acc: 0.7500\n",
      "Epoch 12/30\n",
      "112/112 [==============================] - 0s 98us/sample - loss: 0.8247 - acc: 0.7500\n",
      "Epoch 13/30\n",
      "112/112 [==============================] - 0s 89us/sample - loss: 0.8011 - acc: 0.7679\n",
      "Epoch 14/30\n",
      "112/112 [==============================] - 0s 71us/sample - loss: 0.7777 - acc: 0.7679\n",
      "Epoch 15/30\n",
      "112/112 [==============================] - 0s 98us/sample - loss: 0.7551 - acc: 0.7857\n",
      "Epoch 16/30\n",
      "112/112 [==============================] - 0s 89us/sample - loss: 0.7333 - acc: 0.7946\n",
      "Epoch 17/30\n",
      "112/112 [==============================] - 0s 71us/sample - loss: 0.7111 - acc: 0.7946\n",
      "Epoch 18/30\n",
      "112/112 [==============================] - 0s 80us/sample - loss: 0.6896 - acc: 0.7946\n",
      "Epoch 19/30\n",
      "112/112 [==============================] - 0s 125us/sample - loss: 0.6692 - acc: 0.7857\n",
      "Epoch 20/30\n",
      "112/112 [==============================] - 0s 98us/sample - loss: 0.6494 - acc: 0.7946\n",
      "Epoch 21/30\n",
      "112/112 [==============================] - 0s 80us/sample - loss: 0.6293 - acc: 0.8036\n",
      "Epoch 22/30\n",
      "112/112 [==============================] - 0s 116us/sample - loss: 0.6106 - acc: 0.8125\n",
      "Epoch 23/30\n",
      "112/112 [==============================] - 0s 80us/sample - loss: 0.5924 - acc: 0.8125\n",
      "Epoch 24/30\n",
      "112/112 [==============================] - 0s 71us/sample - loss: 0.5743 - acc: 0.8214\n",
      "Epoch 25/30\n",
      "112/112 [==============================] - 0s 98us/sample - loss: 0.5575 - acc: 0.8304\n",
      "Epoch 26/30\n",
      "112/112 [==============================] - 0s 89us/sample - loss: 0.5418 - acc: 0.8393\n",
      "Epoch 27/30\n",
      "112/112 [==============================] - 0s 89us/sample - loss: 0.5266 - acc: 0.8393\n",
      "Epoch 28/30\n",
      "112/112 [==============================] - 0s 98us/sample - loss: 0.5123 - acc: 0.8304\n",
      "Epoch 29/30\n",
      "112/112 [==============================] - 0s 89us/sample - loss: 0.4982 - acc: 0.8304\n",
      "Epoch 30/30\n",
      "112/112 [==============================] - 0s 125us/sample - loss: 0.4859 - acc: 0.8304\n"
     ]
    },
    {
     "data": {
      "text/plain": [
       "<tensorflow.python.keras.callbacks.History at 0x21531388>"
      ]
     },
     "execution_count": 120,
     "metadata": {},
     "output_type": "execute_result"
    }
   ],
   "source": [
    "# 표준화한 데이터의 acc / loss\n",
    "kc2.fit(x_train,y_train,epochs=30)"
   ]
  },
  {
   "cell_type": "code",
   "execution_count": 123,
   "metadata": {},
   "outputs": [
    {
     "name": "stdout",
     "output_type": "stream",
     "text": [
      "Train on 112 samples\n",
      "Epoch 1/30\n",
      "112/112 [==============================] - 1s 5ms/sample - loss: 1.1015 - acc: 0.3571\n",
      "Epoch 2/30\n",
      "112/112 [==============================] - 0s 116us/sample - loss: 1.0881 - acc: 0.3571\n",
      "Epoch 3/30\n",
      "112/112 [==============================] - 0s 80us/sample - loss: 1.0745 - acc: 0.3571\n",
      "Epoch 4/30\n",
      "112/112 [==============================] - 0s 107us/sample - loss: 1.0631 - acc: 0.3571\n",
      "Epoch 5/30\n",
      "112/112 [==============================] - 0s 107us/sample - loss: 1.0514 - acc: 0.3571\n",
      "Epoch 6/30\n",
      "112/112 [==============================] - 0s 80us/sample - loss: 1.0416 - acc: 0.3571\n",
      "Epoch 7/30\n",
      "112/112 [==============================] - 0s 98us/sample - loss: 1.0322 - acc: 0.3214\n",
      "Epoch 8/30\n",
      "112/112 [==============================] - 0s 89us/sample - loss: 1.0226 - acc: 0.2946\n",
      "Epoch 9/30\n",
      "112/112 [==============================] - 0s 134us/sample - loss: 1.0140 - acc: 0.3214\n",
      "Epoch 10/30\n",
      "112/112 [==============================] - 0s 71us/sample - loss: 1.0045 - acc: 0.3125\n",
      "Epoch 11/30\n",
      "112/112 [==============================] - 0s 71us/sample - loss: 0.9957 - acc: 0.3304\n",
      "Epoch 12/30\n",
      "112/112 [==============================] - 0s 125us/sample - loss: 0.9869 - acc: 0.3482\n",
      "Epoch 13/30\n",
      "112/112 [==============================] - 0s 89us/sample - loss: 0.9780 - acc: 0.3661\n",
      "Epoch 14/30\n",
      "112/112 [==============================] - 0s 89us/sample - loss: 0.9686 - acc: 0.4196\n",
      "Epoch 15/30\n",
      "112/112 [==============================] - 0s 116us/sample - loss: 0.9597 - acc: 0.4554\n",
      "Epoch 16/30\n",
      "112/112 [==============================] - 0s 98us/sample - loss: 0.9507 - acc: 0.5000\n",
      "Epoch 17/30\n",
      "112/112 [==============================] - 0s 134us/sample - loss: 0.9417 - acc: 0.5446\n",
      "Epoch 18/30\n",
      "112/112 [==============================] - 0s 98us/sample - loss: 0.9318 - acc: 0.5714\n",
      "Epoch 19/30\n",
      "112/112 [==============================] - 0s 98us/sample - loss: 0.9211 - acc: 0.5982\n",
      "Epoch 20/30\n",
      "112/112 [==============================] - 0s 89us/sample - loss: 0.9091 - acc: 0.6339\n",
      "Epoch 21/30\n",
      "112/112 [==============================] - 0s 80us/sample - loss: 0.8971 - acc: 0.6518\n",
      "Epoch 22/30\n",
      "112/112 [==============================] - 0s 80us/sample - loss: 0.8837 - acc: 0.6518\n",
      "Epoch 23/30\n",
      "112/112 [==============================] - 0s 125us/sample - loss: 0.8699 - acc: 0.6518\n",
      "Epoch 24/30\n",
      "112/112 [==============================] - 0s 80us/sample - loss: 0.8558 - acc: 0.6518\n",
      "Epoch 25/30\n",
      "112/112 [==============================] - 0s 80us/sample - loss: 0.8424 - acc: 0.6518\n",
      "Epoch 26/30\n",
      "112/112 [==============================] - 0s 107us/sample - loss: 0.8274 - acc: 0.6607\n",
      "Epoch 27/30\n",
      "112/112 [==============================] - 0s 89us/sample - loss: 0.8133 - acc: 0.6696\n",
      "Epoch 28/30\n",
      "112/112 [==============================] - 0s 71us/sample - loss: 0.7983 - acc: 0.6786\n",
      "Epoch 29/30\n",
      "112/112 [==============================] - 0s 116us/sample - loss: 0.7833 - acc: 0.6786\n",
      "Epoch 30/30\n",
      "112/112 [==============================] - 0s 89us/sample - loss: 0.7680 - acc: 0.6696\n"
     ]
    },
    {
     "data": {
      "text/plain": [
       "<tensorflow.python.keras.callbacks.History at 0x21f517c8>"
      ]
     },
     "execution_count": 123,
     "metadata": {},
     "output_type": "execute_result"
    }
   ],
   "source": [
    "# min-max 데이터의 acc/loss\n",
    "kc2.fit(x_train,y_train,epochs=30)"
   ]
  },
  {
   "cell_type": "code",
   "execution_count": 130,
   "metadata": {},
   "outputs": [
    {
     "name": "stdout",
     "output_type": "stream",
     "text": [
      "Train on 112 samples\n",
      "Epoch 1/30\n",
      "112/112 [==============================] - 1s 6ms/sample - loss: 1.1864 - acc: 0.2946\n",
      "Epoch 2/30\n",
      "112/112 [==============================] - 0s 125us/sample - loss: 1.1712 - acc: 0.2946\n",
      "Epoch 3/30\n",
      "112/112 [==============================] - 0s 116us/sample - loss: 1.1598 - acc: 0.2946\n",
      "Epoch 4/30\n",
      "112/112 [==============================] - 0s 134us/sample - loss: 1.1491 - acc: 0.2946\n",
      "Epoch 5/30\n",
      "112/112 [==============================] - 0s 107us/sample - loss: 1.1408 - acc: 0.2946\n",
      "Epoch 6/30\n",
      "112/112 [==============================] - 0s 98us/sample - loss: 1.1350 - acc: 0.2946\n",
      "Epoch 7/30\n",
      "112/112 [==============================] - 0s 125us/sample - loss: 1.1276 - acc: 0.2946\n",
      "Epoch 8/30\n",
      "112/112 [==============================] - 0s 80us/sample - loss: 1.1209 - acc: 0.2946\n",
      "Epoch 9/30\n",
      "112/112 [==============================] - 0s 98us/sample - loss: 1.1149 - acc: 0.2946\n",
      "Epoch 10/30\n",
      "112/112 [==============================] - 0s 134us/sample - loss: 1.1087 - acc: 0.2946\n",
      "Epoch 11/30\n",
      "112/112 [==============================] - 0s 98us/sample - loss: 1.1034 - acc: 0.2946\n",
      "Epoch 12/30\n",
      "112/112 [==============================] - 0s 80us/sample - loss: 1.0995 - acc: 0.2946\n",
      "Epoch 13/30\n",
      "112/112 [==============================] - 0s 98us/sample - loss: 1.0958 - acc: 0.2946\n",
      "Epoch 14/30\n",
      "112/112 [==============================] - 0s 98us/sample - loss: 1.0924 - acc: 0.2946\n",
      "Epoch 15/30\n",
      "112/112 [==============================] - 0s 116us/sample - loss: 1.0896 - acc: 0.4107\n",
      "Epoch 16/30\n",
      "112/112 [==============================] - 0s 98us/sample - loss: 1.0863 - acc: 0.6339\n",
      "Epoch 17/30\n",
      "112/112 [==============================] - 0s 143us/sample - loss: 1.0832 - acc: 0.6429\n",
      "Epoch 18/30\n",
      "112/112 [==============================] - 0s 116us/sample - loss: 1.0800 - acc: 0.6429\n",
      "Epoch 19/30\n",
      "112/112 [==============================] - 0s 98us/sample - loss: 1.0772 - acc: 0.6339\n",
      "Epoch 20/30\n",
      "112/112 [==============================] - 0s 125us/sample - loss: 1.0740 - acc: 0.6339\n",
      "Epoch 21/30\n",
      "112/112 [==============================] - 0s 89us/sample - loss: 1.0713 - acc: 0.5536\n",
      "Epoch 22/30\n",
      "112/112 [==============================] - 0s 89us/sample - loss: 1.0674 - acc: 0.4643\n",
      "Epoch 23/30\n",
      "112/112 [==============================] - 0s 80us/sample - loss: 1.0645 - acc: 0.4554\n",
      "Epoch 24/30\n",
      "112/112 [==============================] - 0s 170us/sample - loss: 1.0605 - acc: 0.5179\n",
      "Epoch 25/30\n",
      "112/112 [==============================] - 0s 89us/sample - loss: 1.0568 - acc: 0.5357\n",
      "Epoch 26/30\n",
      "112/112 [==============================] - 0s 80us/sample - loss: 1.0531 - acc: 0.5982\n",
      "Epoch 27/30\n",
      "112/112 [==============================] - 0s 98us/sample - loss: 1.0493 - acc: 0.6071\n",
      "Epoch 28/30\n",
      "112/112 [==============================] - 0s 161us/sample - loss: 1.0451 - acc: 0.6071\n",
      "Epoch 29/30\n",
      "112/112 [==============================] - 0s 125us/sample - loss: 1.0406 - acc: 0.6607\n",
      "Epoch 30/30\n",
      "112/112 [==============================] - 0s 98us/sample - loss: 1.0356 - acc: 0.7768\n"
     ]
    },
    {
     "data": {
      "text/plain": [
       "<tensorflow.python.keras.callbacks.History at 0x234b9348>"
      ]
     },
     "execution_count": 130,
     "metadata": {},
     "output_type": "execute_result"
    }
   ],
   "source": [
    "# 정규화한 데이터의 acc/loss\n",
    "kc2.fit(x_train,y_train,epochs=30)"
   ]
  },
  {
   "cell_type": "code",
   "execution_count": null,
   "metadata": {},
   "outputs": [],
   "source": []
  }
 ],
 "metadata": {
  "kernelspec": {
   "display_name": "Python 3",
   "language": "python",
   "name": "python3"
  },
  "language_info": {
   "codemirror_mode": {
    "name": "ipython",
    "version": 3
   },
   "file_extension": ".py",
   "mimetype": "text/x-python",
   "name": "python",
   "nbconvert_exporter": "python",
   "pygments_lexer": "ipython3",
   "version": "3.7.4"
  }
 },
 "nbformat": 4,
 "nbformat_minor": 2
}
